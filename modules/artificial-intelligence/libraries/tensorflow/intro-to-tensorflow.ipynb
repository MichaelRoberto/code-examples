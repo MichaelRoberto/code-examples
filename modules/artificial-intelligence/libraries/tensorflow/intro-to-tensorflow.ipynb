{
 "cells": [
  {
   "cell_type": "markdown",
   "metadata": {},
   "source": [
    "# Introdução ao TensorFlow"
   ]
  },
  {
   "cell_type": "markdown",
   "metadata": {},
   "source": [
    "# 1. Introdução"
   ]
  },
  {
   "cell_type": "markdown",
   "metadata": {},
   "source": [
    "O __TensorFlow__ é uma biblioteca de software de código aberto. O TensorFlow foi originalmente desenvolvido por pesquisadores e engenheiros que trabalham na `Google Brain Team` da organização de pesquisa Machine Intelligence do Google para fins de Machine Learning e pesquisa de Deep Learning, mas o sistema é geral o suficiente para ser aplicado em uma ampla variedade de outros domínios.  \n",
    "  \n",
    "Vamos primeiro tentar entender o que a palavra TensorFlow realmente significa!  \n",
    "  \n",
    "TensorFlow é basicamente uma biblioteca de software para computação numérica usando __Grafos de Fluxo de Dados__ onde:  \n",
    "  \n",
    " - __nodes (nós)__ - No gráfico representam operações matemáticas;  \n",
    " - __edges (arestas)__ - Arestas no gráfico representam as matrizes de dados multidimensionais `(denominadas tensores)` comunicadas entre elas. `(Por favor, note que o tensor é a unidade central de dados no TensorFlow)`.\n",
    " \n",
    "__NOTE:__  \n",
    "  \n",
    " - __Tensor__ = Objeto matemático\n",
    " - __Flow__ = Fluxo  \n",
    " - __TensorFlow__ = Fluxo de um objeto matemático  \n",
    "  \n",
    "Considere o diagrama abaixo:  \n",
    "  \n",
    "![title](images/graph1-geeks.png)  \n",
    "  \n",
    " - Aqui, __add é um node(nó)__ que representa a operação de adição;  \n",
    " - __a__ e __b__ são tensores de entrada;  \n",
    " - E __c__ é o tensor resultante.  \n",
    "  \n",
    "> Essa arquitetura flexível permite que você implante computação em uma ou mais CPUs ou GPUs em um desktop, servidor ou dispositivo móvel com uma única API."
   ]
  },
  {
   "cell_type": "markdown",
   "metadata": {},
   "source": [
    "### 1.1. API do TensorFlow"
   ]
  },
  {
   "cell_type": "markdown",
   "metadata": {},
   "source": [
    "O __TensorFlow__ fornece várias APIs. Estas podem ser classificados em 2 categorias principais:  \n",
    "  \n",
    " - __Low level API:__  \n",
    "   - Controle completo de programação;  \n",
    "   - Recomendado para pesquisadores de Machine Learning;  \n",
    "   - Fornece ótimos níveis de controle sobre os modelos;  \n",
    "   - O __TensorFlow Core__ é a API de baixo nível do TensorFlow.  \n",
    " - __High level API:__  \n",
    "   - Construído em cima do __TensorFlow Core__;  \n",
    "   - Mais fácil de aprender e usar do que o __TensorFlow Core__;  \n",
    "   - Tornar tarefas repetitivas mais fáceis e mais consistentes entre diferentes usuários;  \n",
    "   - __tf.contrib.learn__ é um exemplo de uma API de alto nível."
   ]
  },
  {
   "cell_type": "markdown",
   "metadata": {},
   "source": [
    "# 2. Grafo Computacional"
   ]
  },
  {
   "cell_type": "markdown",
   "metadata": {},
   "source": [
    "Qualquer programa do __TensorFlow Core__ pode ser dividido em duas seções distintas:  \n",
    "  \n",
    " - Construindo o __grafo computacional__. Um __grafo computacional__ nada mais é do que uma série de operações do TensorFlow organizadas em um grafo de nodes (nós).  \n",
    " - Executando o grafo computacional. Para realmente avaliar os nós, devemos executar o grafo computacional dentro de uma __sessão (Session)__. Uma sessão encapsula o controle e o estado do tempo de execução do TensorFlow.  \n",
    "  \n",
    "Agora, vamos escrever nosso primeiro programa TensorFlow para entender o conceito acima:"
   ]
  },
  {
   "cell_type": "code",
   "execution_count": 2,
   "metadata": {},
   "outputs": [
    {
     "name": "stdout",
     "output_type": "stream",
     "text": [
      "A soma dos node1 e node2 é: 8\n"
     ]
    }
   ],
   "source": [
    "# Importa a biblioteca TensorFlow. \n",
    "import tensorflow as tf \n",
    "\n",
    "# Criando nodes(nós) em um Grafo Computacional.\n",
    "node1 = tf.constant(3, dtype=tf.int32) \n",
    "node2 = tf.constant(5, dtype=tf.int32) \n",
    "node3 = tf.add(node1, node2) \n",
    "\n",
    "# Cria uma instância do objeto Session(), ou seja, uma sessão.\n",
    "sess = tf.Session() \n",
    "\n",
    "# Imprime o resultado da operação de adição no Grafo Computacional.\n",
    "print(\"A soma dos node1 e node2 é:\",sess.run(node3)) \n",
    "\n",
    "# Fecha a sessão.\n",
    "sess.close()"
   ]
  },
  {
   "cell_type": "markdown",
   "metadata": {},
   "source": [
    "Vamos tentar entender o código acima:  \n",
    "  \n",
    "__Step 1: Criar um Grafo Computacional:__  \n",
    "Ao criar um grafo computacional, queremos dizer definir os nodes(nós). O Tensorflow fornece diferentes tipos de nodes(nós) para uma variedade de tarefas. `Cada node (nó) usa zero ou mais tensores como entradas e produz um tensor como saída`.\n",
    " - No programa acima, os nós __node1__ e __node2__ são do tipo __tf.constant__. Um node(nó) constante não recebe entradas e gera um valor que armazena internamente. Note que também podemos especificar o tipo de dados do tensor de saída usando o argumento __dtype__:  \n",
    "   - __node1 = tf.constant(3, dtype=tf.int32)__  \n",
    "   - __node2 = tf.constant(5, dtype=tf.int32)__  \n",
    " - __node3__ é do tipo __tf.add__. Leva dois tensores como entrada e retorna sua soma como tensor de saída:  \n",
    "   - __node3 = tf.add(node1, node2)__  \n",
    "  \n",
    "__Step 2: Executa o Grafo Computacional:__  \n",
    "Para executar o Grafo Computacional, precisamos criar uma __sessão (Session)__. Para criar uma sessão, simplesmente fazemos:  \n",
    "  \n",
    "> __sess = tf.Session()__  \n",
    "  \n",
    "Agora, podemos invocar o método __run()__ do objeto __Session()__ para realizar cálculos em qualquer nó:  \n",
    "  \n",
    "> __print(\"A soma dos node1 e node2 é:\",sess.run(node3))__  \n",
    "  \n",
    "Finalmente, fechamos a sessão usando:  \n",
    "  \n",
    "> __sess.close()__  "
   ]
  },
  {
   "cell_type": "markdown",
   "metadata": {},
   "source": [
    "### 2.1. Trabalhando com Sessões TensorFlow  \n",
    "Outro (e melhor) método de trabalhar com sessões é usar um bloco como este:"
   ]
  },
  {
   "cell_type": "code",
   "execution_count": 3,
   "metadata": {},
   "outputs": [
    {
     "name": "stdout",
     "output_type": "stream",
     "text": [
      "A soma dos node1 e node2 é: 8\n"
     ]
    }
   ],
   "source": [
    "with tf.Session() as sess:\n",
    "  print(\"A soma dos node1 e node2 é:\",sess.run(node3)) "
   ]
  },
  {
   "cell_type": "markdown",
   "metadata": {},
   "source": [
    "A vantagem dessa abordagem é que você __não precisa para fechar a sessão explicitamente__ porque ela fica automaticamente fechada uma vez que o controle sai do âmbito do bloco __with__."
   ]
  },
  {
   "cell_type": "markdown",
   "metadata": {},
   "source": [
    "# 3. Começando com TensorFlow"
   ]
  },
  {
   "cell_type": "markdown",
   "metadata": {},
   "source": [
    "### 3.1. Hello World com TensorFlow"
   ]
  },
  {
   "cell_type": "code",
   "execution_count": 4,
   "metadata": {},
   "outputs": [],
   "source": [
    "# Importa a biblioteca TensorFlow.\n",
    "import tensorflow as tf"
   ]
  },
  {
   "cell_type": "code",
   "execution_count": 5,
   "metadata": {},
   "outputs": [
    {
     "data": {
      "text/plain": [
       "'1.9.0'"
      ]
     },
     "execution_count": 5,
     "metadata": {},
     "output_type": "execute_result"
    }
   ],
   "source": [
    "# Verifica a versão atual do T\n",
    "tf.__version__"
   ]
  },
  {
   "cell_type": "code",
   "execution_count": 6,
   "metadata": {},
   "outputs": [],
   "source": [
    "# Cria um tensor, esse tensor é adicionado como um node(nó) no grafo.\n",
    "hello = tf.constant('Hello, TensorFlow!')"
   ]
  },
  {
   "cell_type": "code",
   "execution_count": 7,
   "metadata": {},
   "outputs": [
    {
     "name": "stdout",
     "output_type": "stream",
     "text": [
      "Tensor(\"Const_4:0\", shape=(), dtype=string)\n"
     ]
    }
   ],
   "source": [
    "# Exibe o tensor criado.\n",
    "print(hello)"
   ]
  },
  {
   "cell_type": "code",
   "execution_count": 8,
   "metadata": {},
   "outputs": [],
   "source": [
    "# Inicia a sessão TensorFlow - Cria uma instância do objeto Session e salva na variável \"sess\".\n",
    "sess = tf.Session()"
   ]
  },
  {
   "cell_type": "code",
   "execution_count": 9,
   "metadata": {},
   "outputs": [
    {
     "name": "stdout",
     "output_type": "stream",
     "text": [
      "<tensorflow.python.client.session.Session object at 0x7f90adc16e80>\n"
     ]
    }
   ],
   "source": [
    "# Exibe a sessão criada.\n",
    "print(sess)"
   ]
  },
  {
   "cell_type": "code",
   "execution_count": 10,
   "metadata": {},
   "outputs": [
    {
     "name": "stdout",
     "output_type": "stream",
     "text": [
      "b'Hello, TensorFlow!'\n"
     ]
    }
   ],
   "source": [
    "# Executa o Grafo Computacional\n",
    "print(sess.run(hello))"
   ]
  },
  {
   "cell_type": "markdown",
   "metadata": {},
   "source": [
    "# 4. Variáveis"
   ]
  },
  {
   "cell_type": "markdown",
   "metadata": {},
   "source": [
    "O __TensorFlow__ também possui nodes(nós) variáveis que podem conter dados variáveis. Eles são usados principalmente para manter e atualizar parâmetros de um modelo de treinamento.  \n",
    "  \n",
    "> Variáveis são __buffers na memória contendo tensores__. Eles devem ser explicitamente inicializados e podem ser salvos no disco durante e após o treinamento. Você pode restaurar os valores salvos posteriormente para exercitar ou analisar o modelo.  \n",
    "  \n",
    "Uma diferença importante a notar entre uma __constante__ e uma __variável__ é:  \n",
    "  \n",
    " - O valor de uma __constante__ é armazenado no grafo e seu valor é replicado sempre que o grafo é carregado.  \n",
    " - Uma __variável__ é armazenada separadamente e pode estar em um servidor de parâmetros.  \n",
    "  \n",
    "Veja o exemplo abaixo usando variáveis:"
   ]
  },
  {
   "cell_type": "code",
   "execution_count": 11,
   "metadata": {},
   "outputs": [
    {
     "name": "stdout",
     "output_type": "stream",
     "text": [
      "Valores do Tensor antes da adição:\n",
      " [[0. 0.]\n",
      " [0. 0.]]\n",
      "Valores do Tensor depois da adição:\n",
      " [[1. 1.]\n",
      " [1. 1.]]\n"
     ]
    }
   ],
   "source": [
    "# Importa a biblioteca TensorFlow\n",
    "import tensorflow as tf \n",
    "\n",
    "# Cria um node(nó) no Grafo Computacional.\n",
    "node = tf.Variable(tf.zeros([2,2])) \n",
    "\n",
    "# Executa o Grafo Computacional.\n",
    "with tf.Session() as sess: \n",
    "  sess.run(tf.global_variables_initializer()) # Inicia todas as variáveis.\n",
    "  print(\"Valores do Tensor antes da adição:\\n\",sess.run(node)) # # Imprime o node.\n",
    "  node = node.assign(node + tf.ones([2,2])) # Faz uma adição no node(nó) - elementwise.\n",
    "  print(\"Valores do Tensor depois da adição:\\n\", sess.run(node)) # Imprime novamente o node."
   ]
  },
  {
   "cell_type": "markdown",
   "metadata": {},
   "source": [
    "# 5. Placeholders (Espaços Reservados)"
   ]
  },
  {
   "cell_type": "markdown",
   "metadata": {},
   "source": [
    "Um __Placeholder (espaço reservado)__ é uma promessa para fornecer um valor mais tarde.  \n",
    "  \n",
    "Ao avaliar o grafo envolvendo nodes(nós) de Placeholder (espaço reservado), um parâmetro __feed_dict__ é passado para o método de __run()__ da sessão para especificar Tensores que fornecem valores concretos para esses Placeholders (espaço reservado).  \n",
    "  \n",
    "Considere o exemplo abaixo:"
   ]
  },
  {
   "cell_type": "code",
   "execution_count": 12,
   "metadata": {},
   "outputs": [
    {
     "name": "stdout",
     "output_type": "stream",
     "text": [
      "[[3 6 9]\n",
      " [2 4 6]\n",
      " [1 2 3]]\n"
     ]
    }
   ],
   "source": [
    "# Importa a biblioteca TensorFlow.\n",
    "import tensorflow as tf \n",
    "\n",
    "# Cria nodes para o Grafo Computacional.\n",
    "a = tf.placeholder(tf.int32, shape=(3,1)) # Reserva espaço para uma matriz inteira(int) - 3x1\n",
    "b = tf.placeholder(tf.int32, shape=(1,3)) # Reserva espaço para uma matriz inteira(int) - 1x3\n",
    "c = tf.matmul(a,b) \n",
    "\n",
    "# Executa o Grafo Computacional.\n",
    "with tf.Session() as sess:\n",
    "  print(sess.run(c, feed_dict={a:[[3],[2],[1]], b:[[1,2,3]]})) "
   ]
  },
  {
   "cell_type": "markdown",
   "metadata": {},
   "source": [
    "__NOTE:__  \n",
    "Veja que nós passamos os valores para os __Placeholder (espaço reservado)__ nodes(nós) __a__ e __b__ dentro da função __run()__ com o atributo __feed_dict__:  \n",
    "  \n",
    "> __sess.run(c, feed_dict={a:[[3],[2],[1]], b:[[1,2,3]]})__  \n",
    "  \n",
    "Considere os diagramas mostrados abaixo para limpar o conceito:  \n",
    "  \n",
    "Inicialmente:  \n",
    "  \n",
    "![title](images/graph2-geeks.png)  \n",
    "  \n",
    "Após sessão __run()__:  \n",
    "\n",
    "![title](images/graphgeeksstep01.png)  \n",
    "  \n",
    "![title](images/graphgeeksstep02.png)  \n",
    "  \n",
    "![title](images/graphgeeksstep03.png)"
   ]
  },
  {
   "cell_type": "markdown",
   "metadata": {},
   "source": [
    "# 6. Operações Matemáticas com Tensores"
   ]
  },
  {
   "cell_type": "markdown",
   "metadata": {},
   "source": [
    "### 6.1. Adição"
   ]
  },
  {
   "cell_type": "code",
   "execution_count": 13,
   "metadata": {},
   "outputs": [],
   "source": [
    "# Constantes\n",
    "# Cria dois \"tensores\" com o método \"constant\" do TensorFloe e passa como argumento os valores\n",
    "# dos tensores, ou seja, 5 e 9.\n",
    "const_a = tf.constant(5) # Tensor rank 0 ou escalar - [].\n",
    "const_b = tf.constant(9) # Tensor rank 0 ou escalar - []."
   ]
  },
  {
   "cell_type": "code",
   "execution_count": 14,
   "metadata": {},
   "outputs": [
    {
     "name": "stdout",
     "output_type": "stream",
     "text": [
      "Tensor(\"Const_5:0\", shape=(), dtype=int32)\n"
     ]
    }
   ],
   "source": [
    "# Exibe o Tensor \"const_a\".\n",
    "print(const_a)"
   ]
  },
  {
   "cell_type": "code",
   "execution_count": 15,
   "metadata": {},
   "outputs": [],
   "source": [
    "# Soma os 2 tensores e salva na variável \"total\".\n",
    "total = const_a + const_b"
   ]
  },
  {
   "cell_type": "code",
   "execution_count": 16,
   "metadata": {},
   "outputs": [
    {
     "name": "stdout",
     "output_type": "stream",
     "text": [
      "Tensor(\"add_3:0\", shape=(), dtype=int32)\n"
     ]
    }
   ],
   "source": [
    "# Exibe a soma dos tensores.\n",
    "print(total)"
   ]
  },
  {
   "cell_type": "markdown",
   "metadata": {},
   "source": [
    "__NOTE:__  \n",
    "Isso que nós fizemos até agora __não foi a soma dos tensores__. Lembram que nós trabalhamos com esses tensores como Grafos? Então, o que foi feito até agora foi:\n",
    "\n",
    " - __Definir os vertices(V) - Nodes__\n",
    " - __Definir às arestas(E)__"
   ]
  },
  {
   "cell_type": "markdown",
   "metadata": {},
   "source": [
    "Agora o que precisamos é abrir uma Sessão TensorFlow para fazer a soma."
   ]
  },
  {
   "cell_type": "code",
   "execution_count": 17,
   "metadata": {},
   "outputs": [
    {
     "name": "stdout",
     "output_type": "stream",
     "text": [
      "\n",
      "A soma do node1 com o node2 é: 14.000000\n"
     ]
    }
   ],
   "source": [
    "# Cria uma sessão TensorFlow, porém, agora essa sessão vai permanecer aberta.\n",
    "# Depois printa a \"sess.run(total)\", ou seja, exibe o total(soma dos nodes).\n",
    "with tf.Session() as sess:\n",
    "    print('\\nA soma do node1 com o node2 é: %f' % sess.run(total))"
   ]
  },
  {
   "cell_type": "markdown",
   "metadata": {},
   "source": [
    "__NOTE:__  \n",
    "Uma maneira bem mais simples de fazer essa operação é utilizando o método add() do TensorFlow. Veja abaixo:"
   ]
  },
  {
   "cell_type": "code",
   "execution_count": 18,
   "metadata": {},
   "outputs": [
    {
     "name": "stdout",
     "output_type": "stream",
     "text": [
      "\n",
      "A soma do node1 com o node2 é: 14\n"
     ]
    }
   ],
   "source": [
    "# Cria dois tensores com os valores 5 e 9\n",
    "node1 = tf.constant(5, dtype=tf.int32)\n",
    "node2 = tf.constant(9, dtype=tf.int32)\n",
    "\n",
    "# Cria um terceiro tensor \"node3\", porém, esse tensor vai receber a adição(add()) dos dois tensores.\n",
    "node3 = tf.add(node1, node2)\n",
    "\n",
    "# Cria a sessão TF\n",
    "sess = tf.Session()\n",
    " \n",
    "# Executa o grafo com o método run() da sessão, ou seja, abre a sessão.\n",
    "print(\"\\nA soma do node1 com o node2 é:\", sess.run(node3))\n",
    " \n",
    "# Fecha a sessão.\n",
    "sess.close()"
   ]
  },
  {
   "cell_type": "markdown",
   "metadata": {},
   "source": [
    "### 6.2. Subtração"
   ]
  },
  {
   "cell_type": "markdown",
   "metadata": {},
   "source": [
    "Veja abaixo que é possível criar \"tensores\" com valores randômicos, esses valores randômicos porem ser:\n",
    "\n",
    " - Normal\n",
    " - Uniforme"
   ]
  },
  {
   "cell_type": "code",
   "execution_count": 19,
   "metadata": {},
   "outputs": [],
   "source": [
    "# Tensores randômicos\n",
    "rand_a = tf.random_normal([3], 2.0) # Tensor randômico normal.\n",
    "rand_b = tf.random_uniform([3], 1.0, 4.0) # Tensor randômico uniforme."
   ]
  },
  {
   "cell_type": "code",
   "execution_count": 20,
   "metadata": {},
   "outputs": [
    {
     "name": "stdout",
     "output_type": "stream",
     "text": [
      "Tensor(\"random_normal:0\", shape=(3,), dtype=float32)\n"
     ]
    }
   ],
   "source": [
    "# Exibe o tensor \"rand_a\".\n",
    "print(rand_a)"
   ]
  },
  {
   "cell_type": "code",
   "execution_count": 21,
   "metadata": {},
   "outputs": [
    {
     "name": "stdout",
     "output_type": "stream",
     "text": [
      "Tensor(\"random_uniform:0\", shape=(3,), dtype=float32)\n"
     ]
    }
   ],
   "source": [
    "# Exibe o tensor \"rand_b\".\n",
    "print(rand_b)"
   ]
  },
  {
   "cell_type": "code",
   "execution_count": 22,
   "metadata": {},
   "outputs": [],
   "source": [
    "# Utiliza o método subtract() do TensorFlow e passa como argumento os tensores \"rand_a\" e \"rand_b\".\n",
    "# O retorno do método fica no objeto \"diff\".\n",
    "diff = tf.subtract(rand_a, rand_b)"
   ]
  },
  {
   "cell_type": "code",
   "execution_count": 23,
   "metadata": {},
   "outputs": [
    {
     "name": "stdout",
     "output_type": "stream",
     "text": [
      "\n",
      "Tensor rand_a:  [2.929134  4.2329035 2.5424395]\n",
      "\n",
      "Tensor rand_b:  [1.9548839 1.8865126 1.9626849]\n",
      "\n",
      "Subtração entre os 2 tensores é:  [-0.9811697 -0.8143492  2.7723374]\n"
     ]
    }
   ],
   "source": [
    "# Agora vamos abrir a sessão e exibir:\n",
    "# - O valor do tensor \"rand_a\"\n",
    "# - O valor do tensor \"rand_b\"\n",
    "# - Executa o grafo com o métood run() do objeto Session.\n",
    "with tf.Session() as sess:\n",
    "    print('\\nTensor rand_a: ', sess.run(rand_a))\n",
    "    print('\\nTensor rand_b: ', sess.run(rand_b))\n",
    "    print('\\nSubtração entre os 2 tensores é: ', sess.run(diff))"
   ]
  },
  {
   "cell_type": "markdown",
   "metadata": {},
   "source": [
    "### 6.3. Divisão"
   ]
  },
  {
   "cell_type": "code",
   "execution_count": 24,
   "metadata": {},
   "outputs": [],
   "source": [
    "# Cria dois tensores e passa como argumento os valores 21 e 7.\n",
    "node1 = tf.constant(21, dtype=tf.int32)\n",
    "node2 = tf.constant(7, dtype=tf.int32)"
   ]
  },
  {
   "cell_type": "code",
   "execution_count": 25,
   "metadata": {},
   "outputs": [],
   "source": [
    "# Utiliza o método div() do TensorFlow para fazer a divisão entre Tensores.\n",
    "div = tf.div(node1, node2)"
   ]
  },
  {
   "cell_type": "code",
   "execution_count": 26,
   "metadata": {},
   "outputs": [
    {
     "name": "stdout",
     "output_type": "stream",
     "text": [
      "\n",
      "Divisão entre os 2 tensores é:  3\n"
     ]
    }
   ],
   "source": [
    "# Cria uma Sessão(Session) e executa o grafo computaiconal.\n",
    "with tf.Session() as sess:\n",
    "    print('\\nDivisão entre os 2 tensores é: ', sess.run(div)) # Utiliza o método run() do objeto Session."
   ]
  },
  {
   "cell_type": "markdown",
   "metadata": {},
   "source": [
    "### 6.4. Multiplicação\n",
    "\n",
    "#### NOTE:  \n",
    "Para calcular __\"A\"__ vezes __\"B\"__, __A.B__, o número de colunas de __\"A\"__ tem que ser igual ao número de linhas __\"B\"__. Então, podemos calcular __A.B__ se:\n",
    "\n",
    " - __\"A\"__ é uma matriz - __n x m__\n",
    " - E __\"B\"__ é uma matriz - __m x p__ \n",
    "\n",
    "\n",
    "Uma multiplicação de matriz é a multiplicação de uma linha com os elementos de uma coluna, veja o exemplo abaixo:\n",
    "\n",
    "![title](images/mult02.png)"
   ]
  },
  {
   "cell_type": "code",
   "execution_count": 27,
   "metadata": {},
   "outputs": [],
   "source": [
    "# Criando tensores \"tensor_a\" e \"tensor_b\".\n",
    "tensor_a = tf.constant([[4., 2.]])\n",
    "tensor_b = tf.constant([[3.],[7.]])"
   ]
  },
  {
   "cell_type": "code",
   "execution_count": 28,
   "metadata": {},
   "outputs": [
    {
     "name": "stdout",
     "output_type": "stream",
     "text": [
      "Tensor(\"Const_11:0\", shape=(1, 2), dtype=float32)\n"
     ]
    }
   ],
   "source": [
    "# Exibe o tensor \"tensor_a\".\n",
    "print(tensor_a)"
   ]
  },
  {
   "cell_type": "code",
   "execution_count": 29,
   "metadata": {},
   "outputs": [
    {
     "name": "stdout",
     "output_type": "stream",
     "text": [
      "Tensor(\"Const_12:0\", shape=(2, 1), dtype=float32)\n"
     ]
    }
   ],
   "source": [
    "# Exibe o tensor \"tensor_b\".\n",
    "print(tensor_b)"
   ]
  },
  {
   "cell_type": "code",
   "execution_count": 30,
   "metadata": {},
   "outputs": [],
   "source": [
    "# Multiplicação\n",
    "# tf.multiply(X, Y) executa multiplicação element-wise \n",
    "# https://www.tensorflow.org/api_docs/python/tf/multiply\n",
    "prod = tf.multiply(tensor_a, tensor_b)"
   ]
  },
  {
   "cell_type": "code",
   "execution_count": 31,
   "metadata": {},
   "outputs": [
    {
     "name": "stdout",
     "output_type": "stream",
     "text": [
      "\n",
      "tensor_a: \n",
      " [[4. 2.]]\n",
      "\n",
      "tensor_b: \n",
      " [[3.]\n",
      " [7.]]\n",
      "\n",
      "Produto Element-wise Entre os Tensores: \n",
      " [[12.  6.]\n",
      " [28. 14.]]\n"
     ]
    }
   ],
   "source": [
    "# Executa a sessão\n",
    "with tf.Session() as sess:\n",
    "    print('\\ntensor_a: \\n', sess.run(tensor_a))\n",
    "    print('\\ntensor_b: \\n', sess.run(tensor_b))\n",
    "    print('\\nProduto Element-wise Entre os Tensores: \\n', sess.run(prod))"
   ]
  },
  {
   "cell_type": "markdown",
   "metadata": {},
   "source": [
    "__NOTE:__  \n",
    "Lembre que operações com matrizes é sempre __LINHA POR COLUNA__:  \n",
    "\n",
    "```  \n",
    "[4 , 2] x [3]  = [12 , 12]  \n",
    "          [7]    [28 , 14]  \n",
    "```\n",
    "\n",
    "![title](images/mult01.png)"
   ]
  },
  {
   "cell_type": "code",
   "execution_count": 32,
   "metadata": {},
   "outputs": [],
   "source": [
    "# Outro exemplo de Multiplicação de Matrizes\n",
    "mat_a = tf.constant([[2, 3], [9, 2], [4, 5]])\n",
    "mat_b = tf.constant([[6, 4, 5], [3, 7, 2]])"
   ]
  },
  {
   "cell_type": "code",
   "execution_count": 33,
   "metadata": {},
   "outputs": [
    {
     "name": "stdout",
     "output_type": "stream",
     "text": [
      "Tensor(\"Const_13:0\", shape=(3, 2), dtype=int32)\n"
     ]
    }
   ],
   "source": [
    "print(mat_a)"
   ]
  },
  {
   "cell_type": "code",
   "execution_count": 34,
   "metadata": {},
   "outputs": [
    {
     "name": "stdout",
     "output_type": "stream",
     "text": [
      "Tensor(\"Const_14:0\", shape=(2, 3), dtype=int32)\n"
     ]
    }
   ],
   "source": [
    "print(mat_b)"
   ]
  },
  {
   "cell_type": "code",
   "execution_count": 35,
   "metadata": {},
   "outputs": [],
   "source": [
    "# Multiplicação\n",
    "# tf.matmul(X, Y) executa multiplicação entre matrizes.\n",
    "mat_prod = tf.matmul(mat_a, mat_b)"
   ]
  },
  {
   "cell_type": "code",
   "execution_count": 36,
   "metadata": {},
   "outputs": [
    {
     "name": "stdout",
     "output_type": "stream",
     "text": [
      "\n",
      "Tensor mat_a: \n",
      " [[2 3]\n",
      " [9 2]\n",
      " [4 5]]\n",
      "\n",
      "Tensor mat_b: \n",
      " [[6 4 5]\n",
      " [3 7 2]]\n",
      "\n",
      "Produto Element-wise Entre os Tensores (Matrizes): \n",
      " [[21 29 16]\n",
      " [60 50 49]\n",
      " [39 51 30]]\n"
     ]
    }
   ],
   "source": [
    "# Executa a sessão\n",
    "with tf.Session() as sess:\n",
    "    print('\\nTensor mat_a: \\n', sess.run(mat_a))\n",
    "    print('\\nTensor mat_b: \\n', sess.run(mat_b))\n",
    "    print('\\nProduto Element-wise Entre os Tensores (Matrizes): \\n', sess.run(mat_prod))"
   ]
  }
 ],
 "metadata": {
  "kernelspec": {
   "display_name": "Python 3",
   "language": "python",
   "name": "python3"
  },
  "language_info": {
   "codemirror_mode": {
    "name": "ipython",
    "version": 3
   },
   "file_extension": ".py",
   "mimetype": "text/x-python",
   "name": "python",
   "nbconvert_exporter": "python",
   "pygments_lexer": "ipython3",
   "version": "3.4.2"
  }
 },
 "nbformat": 4,
 "nbformat_minor": 1
}
