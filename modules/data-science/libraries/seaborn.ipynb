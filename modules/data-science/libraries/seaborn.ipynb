{
 "cells": [
  {
   "cell_type": "markdown",
   "metadata": {},
   "source": [
    "# Seaborn\n",
    "\n",
    " - Seaborn é uma biblioteca de visualização estatística de dados\n",
    " - Possui excelentes tipos de padrões\n",
    " - Foi projetado para funcionar em harmonia com objetos do tipo Pandas"
   ]
  },
  {
   "cell_type": "markdown",
   "metadata": {},
   "source": [
    "# 01. Plots de distribuições\n",
    "\n",
    " - distplot\n",
    " - jointplot\n",
    " - pairplot\n",
    " - rugplot\n",
    " - kdeplot"
   ]
  },
  {
   "cell_type": "code",
   "execution_count": 32,
   "metadata": {},
   "outputs": [],
   "source": [
    "# Importa a biblioteca Seaborn\n",
    "import seaborn as sns"
   ]
  },
  {
   "cell_type": "code",
   "execution_count": 33,
   "metadata": {},
   "outputs": [],
   "source": [
    "# Deixa os plots inline, ou seja, não precisamos utilizar: plt.show().\n",
    "%matplotlib inline"
   ]
  },
  {
   "cell_type": "code",
   "execution_count": 34,
   "metadata": {},
   "outputs": [],
   "source": [
    "# O Seaborn já tem alguns DataSet que podemos utilizar, por exempo, o tip.\n",
    "tips = sns.load_dataset('tips')"
   ]
  },
  {
   "cell_type": "code",
   "execution_count": 35,
   "metadata": {},
   "outputs": [
    {
     "data": {
      "text/html": [
       "<div style=\"max-height:1000px;max-width:1500px;overflow:auto;\">\n",
       "<table border=\"1\" class=\"dataframe\">\n",
       "  <thead>\n",
       "    <tr style=\"text-align: right;\">\n",
       "      <th></th>\n",
       "      <th>total_bill</th>\n",
       "      <th>tip</th>\n",
       "      <th>sex</th>\n",
       "      <th>smoker</th>\n",
       "      <th>day</th>\n",
       "      <th>time</th>\n",
       "      <th>size</th>\n",
       "    </tr>\n",
       "  </thead>\n",
       "  <tbody>\n",
       "    <tr>\n",
       "      <th>0  </th>\n",
       "      <td> 16.99</td>\n",
       "      <td> 1.01</td>\n",
       "      <td> Female</td>\n",
       "      <td>  No</td>\n",
       "      <td>  Sun</td>\n",
       "      <td> Dinner</td>\n",
       "      <td> 2</td>\n",
       "    </tr>\n",
       "    <tr>\n",
       "      <th>1  </th>\n",
       "      <td> 10.34</td>\n",
       "      <td> 1.66</td>\n",
       "      <td>   Male</td>\n",
       "      <td>  No</td>\n",
       "      <td>  Sun</td>\n",
       "      <td> Dinner</td>\n",
       "      <td> 3</td>\n",
       "    </tr>\n",
       "    <tr>\n",
       "      <th>2  </th>\n",
       "      <td> 21.01</td>\n",
       "      <td> 3.50</td>\n",
       "      <td>   Male</td>\n",
       "      <td>  No</td>\n",
       "      <td>  Sun</td>\n",
       "      <td> Dinner</td>\n",
       "      <td> 3</td>\n",
       "    </tr>\n",
       "    <tr>\n",
       "      <th>3  </th>\n",
       "      <td> 23.68</td>\n",
       "      <td> 3.31</td>\n",
       "      <td>   Male</td>\n",
       "      <td>  No</td>\n",
       "      <td>  Sun</td>\n",
       "      <td> Dinner</td>\n",
       "      <td> 2</td>\n",
       "    </tr>\n",
       "    <tr>\n",
       "      <th>4  </th>\n",
       "      <td> 24.59</td>\n",
       "      <td> 3.61</td>\n",
       "      <td> Female</td>\n",
       "      <td>  No</td>\n",
       "      <td>  Sun</td>\n",
       "      <td> Dinner</td>\n",
       "      <td> 4</td>\n",
       "    </tr>\n",
       "    <tr>\n",
       "      <th>5  </th>\n",
       "      <td> 25.29</td>\n",
       "      <td> 4.71</td>\n",
       "      <td>   Male</td>\n",
       "      <td>  No</td>\n",
       "      <td>  Sun</td>\n",
       "      <td> Dinner</td>\n",
       "      <td> 4</td>\n",
       "    </tr>\n",
       "    <tr>\n",
       "      <th>6  </th>\n",
       "      <td>  8.77</td>\n",
       "      <td> 2.00</td>\n",
       "      <td>   Male</td>\n",
       "      <td>  No</td>\n",
       "      <td>  Sun</td>\n",
       "      <td> Dinner</td>\n",
       "      <td> 2</td>\n",
       "    </tr>\n",
       "    <tr>\n",
       "      <th>7  </th>\n",
       "      <td> 26.88</td>\n",
       "      <td> 3.12</td>\n",
       "      <td>   Male</td>\n",
       "      <td>  No</td>\n",
       "      <td>  Sun</td>\n",
       "      <td> Dinner</td>\n",
       "      <td> 4</td>\n",
       "    </tr>\n",
       "    <tr>\n",
       "      <th>8  </th>\n",
       "      <td> 15.04</td>\n",
       "      <td> 1.96</td>\n",
       "      <td>   Male</td>\n",
       "      <td>  No</td>\n",
       "      <td>  Sun</td>\n",
       "      <td> Dinner</td>\n",
       "      <td> 2</td>\n",
       "    </tr>\n",
       "    <tr>\n",
       "      <th>9  </th>\n",
       "      <td> 14.78</td>\n",
       "      <td> 3.23</td>\n",
       "      <td>   Male</td>\n",
       "      <td>  No</td>\n",
       "      <td>  Sun</td>\n",
       "      <td> Dinner</td>\n",
       "      <td> 2</td>\n",
       "    </tr>\n",
       "    <tr>\n",
       "      <th>10 </th>\n",
       "      <td> 10.27</td>\n",
       "      <td> 1.71</td>\n",
       "      <td>   Male</td>\n",
       "      <td>  No</td>\n",
       "      <td>  Sun</td>\n",
       "      <td> Dinner</td>\n",
       "      <td> 2</td>\n",
       "    </tr>\n",
       "    <tr>\n",
       "      <th>11 </th>\n",
       "      <td> 35.26</td>\n",
       "      <td> 5.00</td>\n",
       "      <td> Female</td>\n",
       "      <td>  No</td>\n",
       "      <td>  Sun</td>\n",
       "      <td> Dinner</td>\n",
       "      <td> 4</td>\n",
       "    </tr>\n",
       "    <tr>\n",
       "      <th>12 </th>\n",
       "      <td> 15.42</td>\n",
       "      <td> 1.57</td>\n",
       "      <td>   Male</td>\n",
       "      <td>  No</td>\n",
       "      <td>  Sun</td>\n",
       "      <td> Dinner</td>\n",
       "      <td> 2</td>\n",
       "    </tr>\n",
       "    <tr>\n",
       "      <th>13 </th>\n",
       "      <td> 18.43</td>\n",
       "      <td> 3.00</td>\n",
       "      <td>   Male</td>\n",
       "      <td>  No</td>\n",
       "      <td>  Sun</td>\n",
       "      <td> Dinner</td>\n",
       "      <td> 4</td>\n",
       "    </tr>\n",
       "    <tr>\n",
       "      <th>14 </th>\n",
       "      <td> 14.83</td>\n",
       "      <td> 3.02</td>\n",
       "      <td> Female</td>\n",
       "      <td>  No</td>\n",
       "      <td>  Sun</td>\n",
       "      <td> Dinner</td>\n",
       "      <td> 2</td>\n",
       "    </tr>\n",
       "    <tr>\n",
       "      <th>15 </th>\n",
       "      <td> 21.58</td>\n",
       "      <td> 3.92</td>\n",
       "      <td>   Male</td>\n",
       "      <td>  No</td>\n",
       "      <td>  Sun</td>\n",
       "      <td> Dinner</td>\n",
       "      <td> 2</td>\n",
       "    </tr>\n",
       "    <tr>\n",
       "      <th>16 </th>\n",
       "      <td> 10.33</td>\n",
       "      <td> 1.67</td>\n",
       "      <td> Female</td>\n",
       "      <td>  No</td>\n",
       "      <td>  Sun</td>\n",
       "      <td> Dinner</td>\n",
       "      <td> 3</td>\n",
       "    </tr>\n",
       "    <tr>\n",
       "      <th>17 </th>\n",
       "      <td> 16.29</td>\n",
       "      <td> 3.71</td>\n",
       "      <td>   Male</td>\n",
       "      <td>  No</td>\n",
       "      <td>  Sun</td>\n",
       "      <td> Dinner</td>\n",
       "      <td> 3</td>\n",
       "    </tr>\n",
       "    <tr>\n",
       "      <th>18 </th>\n",
       "      <td> 16.97</td>\n",
       "      <td> 3.50</td>\n",
       "      <td> Female</td>\n",
       "      <td>  No</td>\n",
       "      <td>  Sun</td>\n",
       "      <td> Dinner</td>\n",
       "      <td> 3</td>\n",
       "    </tr>\n",
       "    <tr>\n",
       "      <th>19 </th>\n",
       "      <td> 20.65</td>\n",
       "      <td> 3.35</td>\n",
       "      <td>   Male</td>\n",
       "      <td>  No</td>\n",
       "      <td>  Sat</td>\n",
       "      <td> Dinner</td>\n",
       "      <td> 3</td>\n",
       "    </tr>\n",
       "    <tr>\n",
       "      <th>20 </th>\n",
       "      <td> 17.92</td>\n",
       "      <td> 4.08</td>\n",
       "      <td>   Male</td>\n",
       "      <td>  No</td>\n",
       "      <td>  Sat</td>\n",
       "      <td> Dinner</td>\n",
       "      <td> 2</td>\n",
       "    </tr>\n",
       "    <tr>\n",
       "      <th>21 </th>\n",
       "      <td> 20.29</td>\n",
       "      <td> 2.75</td>\n",
       "      <td> Female</td>\n",
       "      <td>  No</td>\n",
       "      <td>  Sat</td>\n",
       "      <td> Dinner</td>\n",
       "      <td> 2</td>\n",
       "    </tr>\n",
       "    <tr>\n",
       "      <th>22 </th>\n",
       "      <td> 15.77</td>\n",
       "      <td> 2.23</td>\n",
       "      <td> Female</td>\n",
       "      <td>  No</td>\n",
       "      <td>  Sat</td>\n",
       "      <td> Dinner</td>\n",
       "      <td> 2</td>\n",
       "    </tr>\n",
       "    <tr>\n",
       "      <th>23 </th>\n",
       "      <td> 39.42</td>\n",
       "      <td> 7.58</td>\n",
       "      <td>   Male</td>\n",
       "      <td>  No</td>\n",
       "      <td>  Sat</td>\n",
       "      <td> Dinner</td>\n",
       "      <td> 4</td>\n",
       "    </tr>\n",
       "    <tr>\n",
       "      <th>24 </th>\n",
       "      <td> 19.82</td>\n",
       "      <td> 3.18</td>\n",
       "      <td>   Male</td>\n",
       "      <td>  No</td>\n",
       "      <td>  Sat</td>\n",
       "      <td> Dinner</td>\n",
       "      <td> 2</td>\n",
       "    </tr>\n",
       "    <tr>\n",
       "      <th>25 </th>\n",
       "      <td> 17.81</td>\n",
       "      <td> 2.34</td>\n",
       "      <td>   Male</td>\n",
       "      <td>  No</td>\n",
       "      <td>  Sat</td>\n",
       "      <td> Dinner</td>\n",
       "      <td> 4</td>\n",
       "    </tr>\n",
       "    <tr>\n",
       "      <th>26 </th>\n",
       "      <td> 13.37</td>\n",
       "      <td> 2.00</td>\n",
       "      <td>   Male</td>\n",
       "      <td>  No</td>\n",
       "      <td>  Sat</td>\n",
       "      <td> Dinner</td>\n",
       "      <td> 2</td>\n",
       "    </tr>\n",
       "    <tr>\n",
       "      <th>27 </th>\n",
       "      <td> 12.69</td>\n",
       "      <td> 2.00</td>\n",
       "      <td>   Male</td>\n",
       "      <td>  No</td>\n",
       "      <td>  Sat</td>\n",
       "      <td> Dinner</td>\n",
       "      <td> 2</td>\n",
       "    </tr>\n",
       "    <tr>\n",
       "      <th>28 </th>\n",
       "      <td> 21.70</td>\n",
       "      <td> 4.30</td>\n",
       "      <td>   Male</td>\n",
       "      <td>  No</td>\n",
       "      <td>  Sat</td>\n",
       "      <td> Dinner</td>\n",
       "      <td> 2</td>\n",
       "    </tr>\n",
       "    <tr>\n",
       "      <th>29 </th>\n",
       "      <td> 19.65</td>\n",
       "      <td> 3.00</td>\n",
       "      <td> Female</td>\n",
       "      <td>  No</td>\n",
       "      <td>  Sat</td>\n",
       "      <td> Dinner</td>\n",
       "      <td> 2</td>\n",
       "    </tr>\n",
       "    <tr>\n",
       "      <th>...</th>\n",
       "      <td>...</td>\n",
       "      <td>...</td>\n",
       "      <td>...</td>\n",
       "      <td>...</td>\n",
       "      <td>...</td>\n",
       "      <td>...</td>\n",
       "      <td>...</td>\n",
       "    </tr>\n",
       "    <tr>\n",
       "      <th>214</th>\n",
       "      <td> 28.17</td>\n",
       "      <td> 6.50</td>\n",
       "      <td> Female</td>\n",
       "      <td> Yes</td>\n",
       "      <td>  Sat</td>\n",
       "      <td> Dinner</td>\n",
       "      <td> 3</td>\n",
       "    </tr>\n",
       "    <tr>\n",
       "      <th>215</th>\n",
       "      <td> 12.90</td>\n",
       "      <td> 1.10</td>\n",
       "      <td> Female</td>\n",
       "      <td> Yes</td>\n",
       "      <td>  Sat</td>\n",
       "      <td> Dinner</td>\n",
       "      <td> 2</td>\n",
       "    </tr>\n",
       "    <tr>\n",
       "      <th>216</th>\n",
       "      <td> 28.15</td>\n",
       "      <td> 3.00</td>\n",
       "      <td>   Male</td>\n",
       "      <td> Yes</td>\n",
       "      <td>  Sat</td>\n",
       "      <td> Dinner</td>\n",
       "      <td> 5</td>\n",
       "    </tr>\n",
       "    <tr>\n",
       "      <th>217</th>\n",
       "      <td> 11.59</td>\n",
       "      <td> 1.50</td>\n",
       "      <td>   Male</td>\n",
       "      <td> Yes</td>\n",
       "      <td>  Sat</td>\n",
       "      <td> Dinner</td>\n",
       "      <td> 2</td>\n",
       "    </tr>\n",
       "    <tr>\n",
       "      <th>218</th>\n",
       "      <td>  7.74</td>\n",
       "      <td> 1.44</td>\n",
       "      <td>   Male</td>\n",
       "      <td> Yes</td>\n",
       "      <td>  Sat</td>\n",
       "      <td> Dinner</td>\n",
       "      <td> 2</td>\n",
       "    </tr>\n",
       "    <tr>\n",
       "      <th>219</th>\n",
       "      <td> 30.14</td>\n",
       "      <td> 3.09</td>\n",
       "      <td> Female</td>\n",
       "      <td> Yes</td>\n",
       "      <td>  Sat</td>\n",
       "      <td> Dinner</td>\n",
       "      <td> 4</td>\n",
       "    </tr>\n",
       "    <tr>\n",
       "      <th>220</th>\n",
       "      <td> 12.16</td>\n",
       "      <td> 2.20</td>\n",
       "      <td>   Male</td>\n",
       "      <td> Yes</td>\n",
       "      <td>  Fri</td>\n",
       "      <td>  Lunch</td>\n",
       "      <td> 2</td>\n",
       "    </tr>\n",
       "    <tr>\n",
       "      <th>221</th>\n",
       "      <td> 13.42</td>\n",
       "      <td> 3.48</td>\n",
       "      <td> Female</td>\n",
       "      <td> Yes</td>\n",
       "      <td>  Fri</td>\n",
       "      <td>  Lunch</td>\n",
       "      <td> 2</td>\n",
       "    </tr>\n",
       "    <tr>\n",
       "      <th>222</th>\n",
       "      <td>  8.58</td>\n",
       "      <td> 1.92</td>\n",
       "      <td>   Male</td>\n",
       "      <td> Yes</td>\n",
       "      <td>  Fri</td>\n",
       "      <td>  Lunch</td>\n",
       "      <td> 1</td>\n",
       "    </tr>\n",
       "    <tr>\n",
       "      <th>223</th>\n",
       "      <td> 15.98</td>\n",
       "      <td> 3.00</td>\n",
       "      <td> Female</td>\n",
       "      <td>  No</td>\n",
       "      <td>  Fri</td>\n",
       "      <td>  Lunch</td>\n",
       "      <td> 3</td>\n",
       "    </tr>\n",
       "    <tr>\n",
       "      <th>224</th>\n",
       "      <td> 13.42</td>\n",
       "      <td> 1.58</td>\n",
       "      <td>   Male</td>\n",
       "      <td> Yes</td>\n",
       "      <td>  Fri</td>\n",
       "      <td>  Lunch</td>\n",
       "      <td> 2</td>\n",
       "    </tr>\n",
       "    <tr>\n",
       "      <th>225</th>\n",
       "      <td> 16.27</td>\n",
       "      <td> 2.50</td>\n",
       "      <td> Female</td>\n",
       "      <td> Yes</td>\n",
       "      <td>  Fri</td>\n",
       "      <td>  Lunch</td>\n",
       "      <td> 2</td>\n",
       "    </tr>\n",
       "    <tr>\n",
       "      <th>226</th>\n",
       "      <td> 10.09</td>\n",
       "      <td> 2.00</td>\n",
       "      <td> Female</td>\n",
       "      <td> Yes</td>\n",
       "      <td>  Fri</td>\n",
       "      <td>  Lunch</td>\n",
       "      <td> 2</td>\n",
       "    </tr>\n",
       "    <tr>\n",
       "      <th>227</th>\n",
       "      <td> 20.45</td>\n",
       "      <td> 3.00</td>\n",
       "      <td>   Male</td>\n",
       "      <td>  No</td>\n",
       "      <td>  Sat</td>\n",
       "      <td> Dinner</td>\n",
       "      <td> 4</td>\n",
       "    </tr>\n",
       "    <tr>\n",
       "      <th>228</th>\n",
       "      <td> 13.28</td>\n",
       "      <td> 2.72</td>\n",
       "      <td>   Male</td>\n",
       "      <td>  No</td>\n",
       "      <td>  Sat</td>\n",
       "      <td> Dinner</td>\n",
       "      <td> 2</td>\n",
       "    </tr>\n",
       "    <tr>\n",
       "      <th>229</th>\n",
       "      <td> 22.12</td>\n",
       "      <td> 2.88</td>\n",
       "      <td> Female</td>\n",
       "      <td> Yes</td>\n",
       "      <td>  Sat</td>\n",
       "      <td> Dinner</td>\n",
       "      <td> 2</td>\n",
       "    </tr>\n",
       "    <tr>\n",
       "      <th>230</th>\n",
       "      <td> 24.01</td>\n",
       "      <td> 2.00</td>\n",
       "      <td>   Male</td>\n",
       "      <td> Yes</td>\n",
       "      <td>  Sat</td>\n",
       "      <td> Dinner</td>\n",
       "      <td> 4</td>\n",
       "    </tr>\n",
       "    <tr>\n",
       "      <th>231</th>\n",
       "      <td> 15.69</td>\n",
       "      <td> 3.00</td>\n",
       "      <td>   Male</td>\n",
       "      <td> Yes</td>\n",
       "      <td>  Sat</td>\n",
       "      <td> Dinner</td>\n",
       "      <td> 3</td>\n",
       "    </tr>\n",
       "    <tr>\n",
       "      <th>232</th>\n",
       "      <td> 11.61</td>\n",
       "      <td> 3.39</td>\n",
       "      <td>   Male</td>\n",
       "      <td>  No</td>\n",
       "      <td>  Sat</td>\n",
       "      <td> Dinner</td>\n",
       "      <td> 2</td>\n",
       "    </tr>\n",
       "    <tr>\n",
       "      <th>233</th>\n",
       "      <td> 10.77</td>\n",
       "      <td> 1.47</td>\n",
       "      <td>   Male</td>\n",
       "      <td>  No</td>\n",
       "      <td>  Sat</td>\n",
       "      <td> Dinner</td>\n",
       "      <td> 2</td>\n",
       "    </tr>\n",
       "    <tr>\n",
       "      <th>234</th>\n",
       "      <td> 15.53</td>\n",
       "      <td> 3.00</td>\n",
       "      <td>   Male</td>\n",
       "      <td> Yes</td>\n",
       "      <td>  Sat</td>\n",
       "      <td> Dinner</td>\n",
       "      <td> 2</td>\n",
       "    </tr>\n",
       "    <tr>\n",
       "      <th>235</th>\n",
       "      <td> 10.07</td>\n",
       "      <td> 1.25</td>\n",
       "      <td>   Male</td>\n",
       "      <td>  No</td>\n",
       "      <td>  Sat</td>\n",
       "      <td> Dinner</td>\n",
       "      <td> 2</td>\n",
       "    </tr>\n",
       "    <tr>\n",
       "      <th>236</th>\n",
       "      <td> 12.60</td>\n",
       "      <td> 1.00</td>\n",
       "      <td>   Male</td>\n",
       "      <td> Yes</td>\n",
       "      <td>  Sat</td>\n",
       "      <td> Dinner</td>\n",
       "      <td> 2</td>\n",
       "    </tr>\n",
       "    <tr>\n",
       "      <th>237</th>\n",
       "      <td> 32.83</td>\n",
       "      <td> 1.17</td>\n",
       "      <td>   Male</td>\n",
       "      <td> Yes</td>\n",
       "      <td>  Sat</td>\n",
       "      <td> Dinner</td>\n",
       "      <td> 2</td>\n",
       "    </tr>\n",
       "    <tr>\n",
       "      <th>238</th>\n",
       "      <td> 35.83</td>\n",
       "      <td> 4.67</td>\n",
       "      <td> Female</td>\n",
       "      <td>  No</td>\n",
       "      <td>  Sat</td>\n",
       "      <td> Dinner</td>\n",
       "      <td> 3</td>\n",
       "    </tr>\n",
       "    <tr>\n",
       "      <th>239</th>\n",
       "      <td> 29.03</td>\n",
       "      <td> 5.92</td>\n",
       "      <td>   Male</td>\n",
       "      <td>  No</td>\n",
       "      <td>  Sat</td>\n",
       "      <td> Dinner</td>\n",
       "      <td> 3</td>\n",
       "    </tr>\n",
       "    <tr>\n",
       "      <th>240</th>\n",
       "      <td> 27.18</td>\n",
       "      <td> 2.00</td>\n",
       "      <td> Female</td>\n",
       "      <td> Yes</td>\n",
       "      <td>  Sat</td>\n",
       "      <td> Dinner</td>\n",
       "      <td> 2</td>\n",
       "    </tr>\n",
       "    <tr>\n",
       "      <th>241</th>\n",
       "      <td> 22.67</td>\n",
       "      <td> 2.00</td>\n",
       "      <td>   Male</td>\n",
       "      <td> Yes</td>\n",
       "      <td>  Sat</td>\n",
       "      <td> Dinner</td>\n",
       "      <td> 2</td>\n",
       "    </tr>\n",
       "    <tr>\n",
       "      <th>242</th>\n",
       "      <td> 17.82</td>\n",
       "      <td> 1.75</td>\n",
       "      <td>   Male</td>\n",
       "      <td>  No</td>\n",
       "      <td>  Sat</td>\n",
       "      <td> Dinner</td>\n",
       "      <td> 2</td>\n",
       "    </tr>\n",
       "    <tr>\n",
       "      <th>243</th>\n",
       "      <td> 18.78</td>\n",
       "      <td> 3.00</td>\n",
       "      <td> Female</td>\n",
       "      <td>  No</td>\n",
       "      <td> Thur</td>\n",
       "      <td> Dinner</td>\n",
       "      <td> 2</td>\n",
       "    </tr>\n",
       "  </tbody>\n",
       "</table>\n",
       "<p>244 rows × 7 columns</p>\n",
       "</div>"
      ],
      "text/plain": [
       "     total_bill   tip     sex smoker   day    time  size\n",
       "0         16.99  1.01  Female     No   Sun  Dinner     2\n",
       "1         10.34  1.66    Male     No   Sun  Dinner     3\n",
       "2         21.01  3.50    Male     No   Sun  Dinner     3\n",
       "3         23.68  3.31    Male     No   Sun  Dinner     2\n",
       "4         24.59  3.61  Female     No   Sun  Dinner     4\n",
       "5         25.29  4.71    Male     No   Sun  Dinner     4\n",
       "6          8.77  2.00    Male     No   Sun  Dinner     2\n",
       "7         26.88  3.12    Male     No   Sun  Dinner     4\n",
       "8         15.04  1.96    Male     No   Sun  Dinner     2\n",
       "9         14.78  3.23    Male     No   Sun  Dinner     2\n",
       "10        10.27  1.71    Male     No   Sun  Dinner     2\n",
       "11        35.26  5.00  Female     No   Sun  Dinner     4\n",
       "12        15.42  1.57    Male     No   Sun  Dinner     2\n",
       "13        18.43  3.00    Male     No   Sun  Dinner     4\n",
       "14        14.83  3.02  Female     No   Sun  Dinner     2\n",
       "15        21.58  3.92    Male     No   Sun  Dinner     2\n",
       "16        10.33  1.67  Female     No   Sun  Dinner     3\n",
       "17        16.29  3.71    Male     No   Sun  Dinner     3\n",
       "18        16.97  3.50  Female     No   Sun  Dinner     3\n",
       "19        20.65  3.35    Male     No   Sat  Dinner     3\n",
       "20        17.92  4.08    Male     No   Sat  Dinner     2\n",
       "21        20.29  2.75  Female     No   Sat  Dinner     2\n",
       "22        15.77  2.23  Female     No   Sat  Dinner     2\n",
       "23        39.42  7.58    Male     No   Sat  Dinner     4\n",
       "24        19.82  3.18    Male     No   Sat  Dinner     2\n",
       "25        17.81  2.34    Male     No   Sat  Dinner     4\n",
       "26        13.37  2.00    Male     No   Sat  Dinner     2\n",
       "27        12.69  2.00    Male     No   Sat  Dinner     2\n",
       "28        21.70  4.30    Male     No   Sat  Dinner     2\n",
       "29        19.65  3.00  Female     No   Sat  Dinner     2\n",
       "..          ...   ...     ...    ...   ...     ...   ...\n",
       "214       28.17  6.50  Female    Yes   Sat  Dinner     3\n",
       "215       12.90  1.10  Female    Yes   Sat  Dinner     2\n",
       "216       28.15  3.00    Male    Yes   Sat  Dinner     5\n",
       "217       11.59  1.50    Male    Yes   Sat  Dinner     2\n",
       "218        7.74  1.44    Male    Yes   Sat  Dinner     2\n",
       "219       30.14  3.09  Female    Yes   Sat  Dinner     4\n",
       "220       12.16  2.20    Male    Yes   Fri   Lunch     2\n",
       "221       13.42  3.48  Female    Yes   Fri   Lunch     2\n",
       "222        8.58  1.92    Male    Yes   Fri   Lunch     1\n",
       "223       15.98  3.00  Female     No   Fri   Lunch     3\n",
       "224       13.42  1.58    Male    Yes   Fri   Lunch     2\n",
       "225       16.27  2.50  Female    Yes   Fri   Lunch     2\n",
       "226       10.09  2.00  Female    Yes   Fri   Lunch     2\n",
       "227       20.45  3.00    Male     No   Sat  Dinner     4\n",
       "228       13.28  2.72    Male     No   Sat  Dinner     2\n",
       "229       22.12  2.88  Female    Yes   Sat  Dinner     2\n",
       "230       24.01  2.00    Male    Yes   Sat  Dinner     4\n",
       "231       15.69  3.00    Male    Yes   Sat  Dinner     3\n",
       "232       11.61  3.39    Male     No   Sat  Dinner     2\n",
       "233       10.77  1.47    Male     No   Sat  Dinner     2\n",
       "234       15.53  3.00    Male    Yes   Sat  Dinner     2\n",
       "235       10.07  1.25    Male     No   Sat  Dinner     2\n",
       "236       12.60  1.00    Male    Yes   Sat  Dinner     2\n",
       "237       32.83  1.17    Male    Yes   Sat  Dinner     2\n",
       "238       35.83  4.67  Female     No   Sat  Dinner     3\n",
       "239       29.03  5.92    Male     No   Sat  Dinner     3\n",
       "240       27.18  2.00  Female    Yes   Sat  Dinner     2\n",
       "241       22.67  2.00    Male    Yes   Sat  Dinner     2\n",
       "242       17.82  1.75    Male     No   Sat  Dinner     2\n",
       "243       18.78  3.00  Female     No  Thur  Dinner     2\n",
       "\n",
       "[244 rows x 7 columns]"
      ]
     },
     "execution_count": 35,
     "metadata": {},
     "output_type": "execute_result"
    }
   ],
   "source": [
    "# Exibe o DataSet 'tips' - TIPS EM INGLÊS TAMBÉM É CONHECIDO COMO 'GORJETA'.\n",
    "tips"
   ]
  },
  {
   "cell_type": "code",
   "execution_count": 36,
   "metadata": {},
   "outputs": [
    {
     "name": "stdout",
     "output_type": "stream",
     "text": [
      "<class 'pandas.core.frame.DataFrame'>\n",
      "Int64Index: 244 entries, 0 to 243\n",
      "Data columns (total 7 columns):\n",
      "total_bill    244 non-null float64\n",
      "tip           244 non-null float64\n",
      "sex           244 non-null object\n",
      "smoker        244 non-null object\n",
      "day           244 non-null object\n",
      "time          244 non-null object\n",
      "size          244 non-null int64\n",
      "dtypes: float64(2), int64(1), object(4)"
     ]
    }
   ],
   "source": [
    "# Exibe as informações do dataset 'tips'.\n",
    "tips.info()"
   ]
  },
  {
   "cell_type": "markdown",
   "metadata": {},
   "source": [
    "### Método head()\n",
    "\n",
    "Por padrão __head()__ exibe as 5 primeiras linhas, mas isso pode ser alterado:\n",
    "\n",
    "df.head(n=10) // Exibe às 10 primeiras linhas"
   ]
  },
  {
   "cell_type": "code",
   "execution_count": 37,
   "metadata": {},
   "outputs": [
    {
     "data": {
      "text/html": [
       "<div style=\"max-height:1000px;max-width:1500px;overflow:auto;\">\n",
       "<table border=\"1\" class=\"dataframe\">\n",
       "  <thead>\n",
       "    <tr style=\"text-align: right;\">\n",
       "      <th></th>\n",
       "      <th>total_bill</th>\n",
       "      <th>tip</th>\n",
       "      <th>sex</th>\n",
       "      <th>smoker</th>\n",
       "      <th>day</th>\n",
       "      <th>time</th>\n",
       "      <th>size</th>\n",
       "    </tr>\n",
       "  </thead>\n",
       "  <tbody>\n",
       "    <tr>\n",
       "      <th>0</th>\n",
       "      <td> 16.99</td>\n",
       "      <td> 1.01</td>\n",
       "      <td> Female</td>\n",
       "      <td> No</td>\n",
       "      <td> Sun</td>\n",
       "      <td> Dinner</td>\n",
       "      <td> 2</td>\n",
       "    </tr>\n",
       "    <tr>\n",
       "      <th>1</th>\n",
       "      <td> 10.34</td>\n",
       "      <td> 1.66</td>\n",
       "      <td>   Male</td>\n",
       "      <td> No</td>\n",
       "      <td> Sun</td>\n",
       "      <td> Dinner</td>\n",
       "      <td> 3</td>\n",
       "    </tr>\n",
       "    <tr>\n",
       "      <th>2</th>\n",
       "      <td> 21.01</td>\n",
       "      <td> 3.50</td>\n",
       "      <td>   Male</td>\n",
       "      <td> No</td>\n",
       "      <td> Sun</td>\n",
       "      <td> Dinner</td>\n",
       "      <td> 3</td>\n",
       "    </tr>\n",
       "    <tr>\n",
       "      <th>3</th>\n",
       "      <td> 23.68</td>\n",
       "      <td> 3.31</td>\n",
       "      <td>   Male</td>\n",
       "      <td> No</td>\n",
       "      <td> Sun</td>\n",
       "      <td> Dinner</td>\n",
       "      <td> 2</td>\n",
       "    </tr>\n",
       "    <tr>\n",
       "      <th>4</th>\n",
       "      <td> 24.59</td>\n",
       "      <td> 3.61</td>\n",
       "      <td> Female</td>\n",
       "      <td> No</td>\n",
       "      <td> Sun</td>\n",
       "      <td> Dinner</td>\n",
       "      <td> 4</td>\n",
       "    </tr>\n",
       "  </tbody>\n",
       "</table>\n",
       "</div>"
      ],
      "text/plain": [
       "   total_bill   tip     sex smoker  day    time  size\n",
       "0       16.99  1.01  Female     No  Sun  Dinner     2\n",
       "1       10.34  1.66    Male     No  Sun  Dinner     3\n",
       "2       21.01  3.50    Male     No  Sun  Dinner     3\n",
       "3       23.68  3.31    Male     No  Sun  Dinner     2\n",
       "4       24.59  3.61  Female     No  Sun  Dinner     4"
      ]
     },
     "execution_count": 37,
     "metadata": {},
     "output_type": "execute_result"
    }
   ],
   "source": [
    "# Por padrão .head() exibe as 5 primeiras linhas, mas isso pode ser alterado:\n",
    "tips.head()"
   ]
  },
  {
   "cell_type": "markdown",
   "metadata": {},
   "source": [
    "### 01.1 distplot()\n",
    "\n",
    "Por padrão o método pede a __coluna__ que você deseja plotar."
   ]
  },
  {
   "cell_type": "code",
   "execution_count": 38,
   "metadata": {},
   "outputs": [
    {
     "data": {
      "text/plain": [
       "<matplotlib.axes._subplots.AxesSubplot at 0x7f78c6011748>"
      ]
     },
     "execution_count": 38,
     "metadata": {},
     "output_type": "execute_result"
    },
    {
     "data": {
      "image/png": "[encoded data removed]",
      "text/plain": [
       "<matplotlib.figure.Figure at 0x7f78c6014e10>"
      ]
     },
     "metadata": {},
     "output_type": "display_data"
    }
   ],
   "source": [
    "# plota a coluna 'total_bill'.\n",
    "sns.distplot(tips['total_bill'])"
   ]
  },
  {
   "cell_type": "markdown",
   "metadata": {},
   "source": [
    " Como tirar essa curva do gráfico? Para isso nós precisamos utilizar o argumento __\"kde=False\"__."
   ]
  },
  {
   "cell_type": "code",
   "execution_count": 39,
   "metadata": {},
   "outputs": [
    {
     "data": {
      "text/plain": [
       "<matplotlib.axes._subplots.AxesSubplot at 0x7f78c5fa12b0>"
      ]
     },
     "execution_count": 39,
     "metadata": {},
     "output_type": "execute_result"
    },
    {
     "data": {
      "image/png": "[encoded data removed]",
      "text/plain": [
       "<matplotlib.figure.Figure at 0x7f78c5f8b7b8>"
      ]
     },
     "metadata": {},
     "output_type": "display_data"
    }
   ],
   "source": [
    "sns.distplot(tips['total_bill'], kde=False)"
   ]
  },
  {
   "cell_type": "markdown",
   "metadata": {},
   "source": [
    "Como eu posso alterar o tamanho das colunas do gráfico? Simples, para isso basta utilizar o argumento __bins__."
   ]
  },
  {
   "cell_type": "code",
   "execution_count": 40,
   "metadata": {},
   "outputs": [
    {
     "data": {
      "text/plain": [
       "<matplotlib.axes._subplots.AxesSubplot at 0x7f78c602d438>"
      ]
     },
     "execution_count": 40,
     "metadata": {},
     "output_type": "execute_result"
    },
    {
     "data": {
      "image/png": "[encoded data removed]",
      "text/plain": [
       "<matplotlib.figure.Figure at 0x7f78c5fc0a20>"
      ]
     },
     "metadata": {},
     "output_type": "display_data"
    }
   ],
   "source": [
    "sns.distplot(tips['total_bill'], bins=50)"
   ]
  },
  {
   "cell_type": "markdown",
   "metadata": {},
   "source": [
    "### 01.2 jointplot()\n",
    "\n",
    "O método __jointplot()__ é muito utilizado para fazer junções entre plots (ou relações lineares) de distribuições. Ele recebe três argumentos:\n",
    "\n",
    "- coordenadas 'x'\n",
    "- coordenadas 'y'\n",
    "- o nome do dataset que estão os dados\n",
    "\n",
    "__NOTE:__  \n",
    "As coordenadas 'x' e 'y' podem ser representadas por colunas de um dataset."
   ]
  },
  {
   "cell_type": "code",
   "execution_count": 41,
   "metadata": {},
   "outputs": [
    {
     "data": {
      "text/plain": [
       "<seaborn.axisgrid.JointGrid at 0x7f78c5e377b8>"
      ]
     },
     "execution_count": 41,
     "metadata": {},
     "output_type": "execute_result"
    },
    {
     "name": "stderr",
     "output_type": "stream",
     "text": [
      "/usr/lib/python3/dist-packages/matplotlib/collections.py:571: FutureWarning: elementwise comparison failed; returning scalar instead, but in the future will perform elementwise comparison\n",
      "  if self._edgecolors == str('face'):\n"
     ]
    },
    {
     "data": {
      "image/png": "[encoded data removed]",
      "text/plain": [
       "<matplotlib.figure.Figure at 0x7f78c5e37ac8>"
      ]
     },
     "metadata": {},
     "output_type": "display_data"
    }
   ],
   "source": [
    "sns.jointplot(x='total_bill', y='tip', data=tips)"
   ]
  },
  {
   "cell_type": "markdown",
   "metadata": {},
   "source": [
    "### 01.3 pairplot()\n",
    "\n",
    "O método __pairplot()__ pega todas as variáveis(colunas/coordenadas) que são numéricas e faz __jointplot()__ de cada uma delas."
   ]
  },
  {
   "cell_type": "code",
   "execution_count": 42,
   "metadata": {},
   "outputs": [
    {
     "data": {
      "text/plain": [
       "<seaborn.axisgrid.PairGrid at 0x7f78c5d3f390>"
      ]
     },
     "execution_count": 42,
     "metadata": {},
     "output_type": "execute_result"
    },
    {
     "name": "stderr",
     "output_type": "stream",
     "text": [
      "/usr/lib/python3/dist-packages/matplotlib/collections.py:571: FutureWarning: elementwise comparison failed; returning scalar instead, but in the future will perform elementwise comparison\n",
      "  if self._edgecolors == str('face'):\n"
     ]
    },
    {
     "data": {
      "image/png": "[encoded data removed]",
      "text/plain": [
       "<matplotlib.figure.Figure at 0x7f78c5d3fb00>"
      ]
     },
     "metadata": {},
     "output_type": "display_data"
    }
   ],
   "source": [
    "sns.pairplot(tips)"
   ]
  },
  {
   "cell_type": "markdown",
   "metadata": {},
   "source": [
    "Como eu posso diferencia nos plots os sexos? Para isso nós utilizamos o parâmetro __\"hue\"__"
   ]
  },
  {
   "cell_type": "code",
   "execution_count": 43,
   "metadata": {},
   "outputs": [
    {
     "name": "stderr",
     "output_type": "stream",
     "text": [
      "/usr/lib/python3/dist-packages/matplotlib/collections.py:571: FutureWarning: elementwise comparison failed; returning scalar instead, but in the future will perform elementwise comparison\n",
      "  if self._edgecolors == str('face'):\n"
     ]
    },
    {
     "data": {
      "text/plain": [
       "<seaborn.axisgrid.PairGrid at 0x7f78c57cda90>"
      ]
     },
     "execution_count": 43,
     "metadata": {},
     "output_type": "execute_result"
    },
    {
     "data": {
      "image/png": "[encoded data removed]",
      "text/plain": [
       "<matplotlib.figure.Figure at 0x7f78c602d1d0>"
      ]
     },
     "metadata": {},
     "output_type": "display_data"
    }
   ],
   "source": [
    "sns.pairplot(tips, hue='sex')"
   ]
  },
  {
   "cell_type": "markdown",
   "metadata": {},
   "source": [
    "Também é possível utilizar uma __\"Palleta de cores\"__."
   ]
  },
  {
   "cell_type": "code",
   "execution_count": 44,
   "metadata": {},
   "outputs": [
    {
     "name": "stderr",
     "output_type": "stream",
     "text": [
      "/usr/lib/python3/dist-packages/matplotlib/collections.py:571: FutureWarning: elementwise comparison failed; returning scalar instead, but in the future will perform elementwise comparison\n",
      "  if self._edgecolors == str('face'):\n"
     ]
    },
    {
     "data": {
      "text/plain": [
       "<seaborn.axisgrid.PairGrid at 0x7f78c5334be0>"
      ]
     },
     "execution_count": 44,
     "metadata": {},
     "output_type": "execute_result"
    },
    {
     "data": {
      "image/png": "[encoded data removed]",
      "text/plain": [
       "<matplotlib.figure.Figure at 0x7f78c549cef0>"
      ]
     },
     "metadata": {},
     "output_type": "display_data"
    }
   ],
   "source": [
    "sns.pairplot(tips, hue='sex', palette='coolwarm')"
   ]
  },
  {
   "cell_type": "markdown",
   "metadata": {},
   "source": [
    "### 01.4 rugplot()\n",
    "\n",
    "O método __rugplot()__ exibe um traço onde existe dados, ele é muito utilizado em conjunto com outros métodos."
   ]
  },
  {
   "cell_type": "code",
   "execution_count": 45,
   "metadata": {},
   "outputs": [
    {
     "data": {
      "text/plain": [
       "<matplotlib.axes._subplots.AxesSubplot at 0x7f78c4f9fa20>"
      ]
     },
     "execution_count": 45,
     "metadata": {},
     "output_type": "execute_result"
    },
    {
     "data": {
      "image/png": "[encoded data removed]",
      "text/plain": [
       "<matplotlib.figure.Figure at 0x7f78c4e9f908>"
      ]
     },
     "metadata": {},
     "output_type": "display_data"
    }
   ],
   "source": [
    "sns.rugplot(tips['total_bill'])"
   ]
  },
  {
   "cell_type": "markdown",
   "metadata": {},
   "source": [
    "### 01.05 kdeplot()\n",
    "\n",
    "O método __kdeplot()__ é muito utilizado quando não sabemos o tipo de distribuição."
   ]
  },
  {
   "cell_type": "markdown",
   "metadata": {},
   "source": [
    "# 02. Plots categóricos\n",
    "\n",
    " - barplot()\n",
    " - countplot()"
   ]
  },
  {
   "cell_type": "code",
   "execution_count": 46,
   "metadata": {},
   "outputs": [
    {
     "data": {
      "text/html": [
       "<div style=\"max-height:1000px;max-width:1500px;overflow:auto;\">\n",
       "<table border=\"1\" class=\"dataframe\">\n",
       "  <thead>\n",
       "    <tr style=\"text-align: right;\">\n",
       "      <th></th>\n",
       "      <th>total_bill</th>\n",
       "      <th>tip</th>\n",
       "      <th>sex</th>\n",
       "      <th>smoker</th>\n",
       "      <th>day</th>\n",
       "      <th>time</th>\n",
       "      <th>size</th>\n",
       "    </tr>\n",
       "  </thead>\n",
       "  <tbody>\n",
       "    <tr>\n",
       "      <th>0</th>\n",
       "      <td> 16.99</td>\n",
       "      <td> 1.01</td>\n",
       "      <td> Female</td>\n",
       "      <td> No</td>\n",
       "      <td> Sun</td>\n",
       "      <td> Dinner</td>\n",
       "      <td> 2</td>\n",
       "    </tr>\n",
       "    <tr>\n",
       "      <th>1</th>\n",
       "      <td> 10.34</td>\n",
       "      <td> 1.66</td>\n",
       "      <td>   Male</td>\n",
       "      <td> No</td>\n",
       "      <td> Sun</td>\n",
       "      <td> Dinner</td>\n",
       "      <td> 3</td>\n",
       "    </tr>\n",
       "    <tr>\n",
       "      <th>2</th>\n",
       "      <td> 21.01</td>\n",
       "      <td> 3.50</td>\n",
       "      <td>   Male</td>\n",
       "      <td> No</td>\n",
       "      <td> Sun</td>\n",
       "      <td> Dinner</td>\n",
       "      <td> 3</td>\n",
       "    </tr>\n",
       "    <tr>\n",
       "      <th>3</th>\n",
       "      <td> 23.68</td>\n",
       "      <td> 3.31</td>\n",
       "      <td>   Male</td>\n",
       "      <td> No</td>\n",
       "      <td> Sun</td>\n",
       "      <td> Dinner</td>\n",
       "      <td> 2</td>\n",
       "    </tr>\n",
       "    <tr>\n",
       "      <th>4</th>\n",
       "      <td> 24.59</td>\n",
       "      <td> 3.61</td>\n",
       "      <td> Female</td>\n",
       "      <td> No</td>\n",
       "      <td> Sun</td>\n",
       "      <td> Dinner</td>\n",
       "      <td> 4</td>\n",
       "    </tr>\n",
       "  </tbody>\n",
       "</table>\n",
       "</div>"
      ],
      "text/plain": [
       "   total_bill   tip     sex smoker  day    time  size\n",
       "0       16.99  1.01  Female     No  Sun  Dinner     2\n",
       "1       10.34  1.66    Male     No  Sun  Dinner     3\n",
       "2       21.01  3.50    Male     No  Sun  Dinner     3\n",
       "3       23.68  3.31    Male     No  Sun  Dinner     2\n",
       "4       24.59  3.61  Female     No  Sun  Dinner     4"
      ]
     },
     "execution_count": 46,
     "metadata": {},
     "output_type": "execute_result"
    }
   ],
   "source": [
    "# Exibe às 5 primeiras linhas do dataset 'tips'\n",
    "tips.head()"
   ]
  },
  {
   "cell_type": "markdown",
   "metadata": {},
   "source": [
    "### 02.1 barplot()\n",
    "\n",
    "O método __barplot()__ recebe três argumentos:\n",
    "\n",
    " - Coordenadas x\n",
    " - Coordenadas y\n",
    " - Um dataset\n",
    "\n",
    "Lembrando novamente que essas coordenadas podem ser representadas por colunas de um dataset."
   ]
  },
  {
   "cell_type": "code",
   "execution_count": 47,
   "metadata": {},
   "outputs": [
    {
     "data": {
      "text/plain": [
       "<matplotlib.axes._subplots.AxesSubplot at 0x7f78c4ace9e8>"
      ]
     },
     "execution_count": 47,
     "metadata": {},
     "output_type": "execute_result"
    },
    {
     "data": {
      "image/png": "[encoded data removed]",
      "text/plain": [
       "<matplotlib.figure.Figure at 0x7f78c4b46668>"
      ]
     },
     "metadata": {},
     "output_type": "display_data"
    }
   ],
   "source": [
    "sns.barplot(x='sex', y='total_bill', data=tips)"
   ]
  },
  {
   "cell_type": "markdown",
   "metadata": {},
   "source": [
    "__NOTE:__  \n",
    "A linha acima dos plots representa qual o desvio padrão deste conjunto de dados."
   ]
  },
  {
   "cell_type": "markdown",
   "metadata": {},
   "source": [
    "### 02.2 countplot()\n",
    "\n",
    "O método __countplot()__ vai fazer a contagem dos elementos naquele eixo (coluna). Como nós não vamos cruzar dados não é necessário passar 2 coordenas, apenas uma que vai ser contada."
   ]
  },
  {
   "cell_type": "code",
   "execution_count": 48,
   "metadata": {},
   "outputs": [
    {
     "data": {
      "text/plain": [
       "<matplotlib.axes._subplots.AxesSubplot at 0x7f78c4b1a128>"
      ]
     },
     "execution_count": 48,
     "metadata": {},
     "output_type": "execute_result"
    },
    {
     "data": {
      "image/png": "[encoded data removed]",
      "text/plain": [
       "<matplotlib.figure.Figure at 0x7f78c4b38128>"
      ]
     },
     "metadata": {},
     "output_type": "display_data"
    }
   ],
   "source": [
    "sns.countplot(x='sex', data=tips)"
   ]
  },
  {
   "cell_type": "code",
   "execution_count": null,
   "metadata": {},
   "outputs": [],
   "source": []
  }
 ],
 "metadata": {
  "kernelspec": {
   "display_name": "Python 3",
   "language": "python",
   "name": "python3"
  },
  "language_info": {
   "codemirror_mode": {
    "name": "ipython",
    "version": 3
   },
   "file_extension": ".py",
   "mimetype": "text/x-python",
   "name": "python",
   "nbconvert_exporter": "python",
   "pygments_lexer": "ipython3",
   "version": "3.4.2"
  }
 },
 "nbformat": 4,
 "nbformat_minor": 2
}
