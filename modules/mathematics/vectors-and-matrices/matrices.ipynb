{
 "cells": [
  {
   "cell_type": "markdown",
   "metadata": {},
   "source": [
    "# Matrizes\n",
    "Em termos gerais, uma matriz é uma array de números organizados em __linhas__ e __colunas__."
   ]
  },
  {
   "cell_type": "markdown",
   "metadata": {},
   "source": [
    "# 1. Matrizes e notação de matriz\n",
    "Uma matriz organiza números em __linhas__ e __colunas__, assim:  \n",
    "  \n",
    "\\begin{equation}A = \\begin{bmatrix}\n",
    "  1 & 2 & 3 \\\\\n",
    "  4 & 5 & 6\n",
    " \\end{bmatrix}\n",
    "\\end{equation}\n",
    "  \n",
    "Observe que as matrizes geralmente são nomeadas como uma letra maiúscula. Referimo-nos aos `elementos` da matriz usando o equivalente em minúscula com um indicador de linha e coluna subscrito, assim:  \n",
    "  \n",
    "\\begin{equation}A = \\begin{bmatrix}\n",
    "  a_{1,1} & a_{1,2} & a_{1,3} \\\\\n",
    "  a_{2,1} & a_{2,2} & a_{2,3}\n",
    " \\end{bmatrix}\n",
    "\\end{equation}\n",
    "  \n",
    "Em Python, você pode definir uma Matriz 2-dimensional com a função __np.array()__ do NumPy:"
   ]
  },
  {
   "cell_type": "code",
   "execution_count": 1,
   "metadata": {},
   "outputs": [
    {
     "name": "stdout",
     "output_type": "stream",
     "text": [
      "[[1 2 3]\n",
      " [4 5 6]]\n"
     ]
    }
   ],
   "source": [
    "# Importa a biblioteca NumPy.\n",
    "import numpy as np\n",
    "\n",
    "# Cria nossa Matriz com o método array() do NumPy.\n",
    "A = np.array([[1,2,3],\n",
    "              [4,5,6]])\n",
    "\n",
    "print(A) # Imprime a Matriz."
   ]
  },
  {
   "cell_type": "markdown",
   "metadata": {},
   "source": [
    "Você também pode usar o __np.matrix()__ que é uma subclasse especializada de matrizes(arrays):"
   ]
  },
  {
   "cell_type": "code",
   "execution_count": 2,
   "metadata": {},
   "outputs": [
    {
     "name": "stdout",
     "output_type": "stream",
     "text": [
      "[[1 2 3]\n",
      " [4 5 6]]\n"
     ]
    }
   ],
   "source": [
    "import numpy as np\n",
    "\n",
    "# cria uma Matriz, porém de forma especializada.\n",
    "M = np.matrix([[1,2,3],\n",
    "               [4,5,6]])\n",
    "\n",
    "print(M) # Imprime a Matriz."
   ]
  },
  {
   "cell_type": "markdown",
   "metadata": {},
   "source": [
    "Existem algumas diferenças de comportamento entre __array()__ e __matrix()__ - Especialmente com relação à multiplicação (que vamos explorar mais tarde). Você pode usar qualquer um, mas os programadores Python mais experientes que precisam trabalhar com vetores e matrizes tendem a preferir o __array()__ para consistência."
   ]
  },
  {
   "cell_type": "markdown",
   "metadata": {},
   "source": [
    "# 2. Operações matriciais\n",
    "Matrizes suportam operações aritméticas comuns.  \n",
    "  \n",
    "### Adicionando Matrizes\n",
    "Para adicionar duas matrizes do mesmo tamanho juntas, basta adicionar os elementos correspondentes em cada matriz:  \n",
    "  \n",
    "\\begin{equation}\\begin{bmatrix}1 & 2 & 3 \\\\4 & 5 & 6\\end{bmatrix}+ \\begin{bmatrix}6 & 5 & 4 \\\\3 & 2 & 1\\end{bmatrix} = \\begin{bmatrix}7 & 7 & 7 \\\\7 & 7 & 7\\end{bmatrix}\\end{equation}\n",
    "  \n",
    "Vamos tentar isso com Python:"
   ]
  },
  {
   "cell_type": "code",
   "execution_count": 3,
   "metadata": {},
   "outputs": [
    {
     "name": "stdout",
     "output_type": "stream",
     "text": [
      "[[7 7 7]\n",
      " [7 7 7]]\n"
     ]
    }
   ],
   "source": [
    "# Importa a biblioteca NumPy.\n",
    "import numpy as np\n",
    "\n",
    "# Cria a Matriz A.\n",
    "A = np.array([[1,2,3],\n",
    "              [4,5,6]])\n",
    "\n",
    "# Cria a matriz B.\n",
    "B = np.array([[6,5,4],\n",
    "              [3,2,1]])\n",
    "\n",
    "# Imprime a SOMA das duas Matrizes.\n",
    "print(A + B)"
   ]
  },
  {
   "cell_type": "markdown",
   "metadata": {},
   "source": [
    "### Subtraindo Matrizes\n",
    "A subtração da matriz funciona de forma semelhante à adição de matriz:  \n",
    "  \n",
    "\\begin{equation}\\begin{bmatrix}1 & 2 & 3 \\\\4 & 5 & 6\\end{bmatrix}- \\begin{bmatrix}6 & 5 & 4 \\\\3 & 2 & 1\\end{bmatrix} = \\begin{bmatrix}-5 & -3 & -1 \\\\1 & 3 & 5\\end{bmatrix}\\end{equation}\n",
    "\n",
    "Vamos ver isso em Python:"
   ]
  },
  {
   "cell_type": "code",
   "execution_count": 4,
   "metadata": {},
   "outputs": [
    {
     "name": "stdout",
     "output_type": "stream",
     "text": [
      "[[-5 -3 -1]\n",
      " [ 1  3  5]]\n"
     ]
    }
   ],
   "source": [
    "# Importa a biblioteca NumPy.\n",
    "import numpy as np\n",
    "\n",
    "# Cria a Matriz A.\n",
    "A = np.array([[1,2,3],\n",
    "              [4,5,6]])\n",
    "\n",
    "# Cria a matriz B.\n",
    "B = np.array([[6,5,4],\n",
    "              [3,2,1]])\n",
    "\n",
    "# Imprime a SUBTRAÇÃO das duas Matrizes.\n",
    "print (A - B)"
   ]
  },
  {
   "cell_type": "markdown",
   "metadata": {},
   "source": [
    "#### Conformability\n",
    "In the previous examples, we were able to add and subtract the matrices, because the *operands* (the matrices we are operating on) are ***conformable*** for the specific operation (in this case, addition or subtraction). To be conformable for addition and subtraction, the operands must have the same number of rows and columns. There are different conformability requirements for other operations, such as multiplication; which we'll explore later."
   ]
  },
  {
   "cell_type": "markdown",
   "metadata": {},
   "source": [
    "### Matrizes Negativas\n",
    "A nagativa de uma matriz, é apenas uma matriz com o sinal de cada elemento invertido:  \n",
    "  \n",
    "\\begin{equation}C = \\begin{bmatrix}-5 & -3 & -1 \\\\1 & 3 & 5\\end{bmatrix}\\end{equation}\n",
    "  \n",
    "\\begin{equation}-C = \\begin{bmatrix}5 & 3 & 1 \\\\-1 & -3 & -5\\end{bmatrix}\\end{equation}\n",
    "  \n",
    "Vamos ver isso em Python."
   ]
  },
  {
   "cell_type": "code",
   "execution_count": 5,
   "metadata": {},
   "outputs": [
    {
     "name": "stdout",
     "output_type": "stream",
     "text": [
      "Matriz C:\n",
      " [[-5 -3 -1]\n",
      " [ 1  3  5]]\n",
      "\n",
      "A Negativa da Matriz C:\n",
      " [[ 5  3  1]\n",
      " [-1 -3 -5]]\n"
     ]
    }
   ],
   "source": [
    "# Importa a biblioteca NumPy.\n",
    "import numpy as np\n",
    "\n",
    "# Cria a Matriz C.\n",
    "C = np.array([[-5,-3,-1],\n",
    "              [1,3,5]])\n",
    "\n",
    "\n",
    "print('Matriz C:\\n {0}\\n'.format(C)) # Imprime a Matriz C.\n",
    "print('A Negativa da Matriz C:\\n {0}'.format(-C)) # Imprime a negativa da Matriz C."
   ]
  },
  {
   "cell_type": "markdown",
   "metadata": {},
   "source": [
    "### Transposição de Matriz \n",
    "Você pode `transpor` uma matriz, que é mudar a orientação de suas linhas e colunas. Você indica isso com um sobrescrito __T__, assim:  \n",
    "  \n",
    "\\begin{equation}\\begin{bmatrix}1 & 2 & 3 \\\\4 & 5 & 6\\end{bmatrix}^{T} = \\begin{bmatrix}1 & 4\\\\2 & 5\\\\3 & 6 \\end{bmatrix}\\end{equation}\n",
    "  \n",
    "Em Python, ambos __np.array()__ e __np.matriz__ tem uma função chamada __T__ que é responsável por fazer esse tipo de operação. Vamos ver isso em Python:"
   ]
  },
  {
   "cell_type": "code",
   "execution_count": 6,
   "metadata": {},
   "outputs": [
    {
     "name": "stdout",
     "output_type": "stream",
     "text": [
      "Matriz A:\n",
      " [[1 2 3]\n",
      " [4 5 6]]\n",
      "\n",
      "Transposta da Matriz A:\n",
      " [[1 4]\n",
      " [2 5]\n",
      " [3 6]]\n"
     ]
    }
   ],
   "source": [
    "# Importa a biblioteca NumPy.\n",
    "import numpy as np\n",
    "\n",
    "# Cria a Matriz \"A\".\n",
    "A = np.array([[1,2,3],\n",
    "              [4,5,6]])\n",
    "\n",
    "print('Matriz A:\\n {0}\\n'.format(A)) # Imprime a Matriz A.\n",
    "print('Transposta da Matriz A:\\n {0}'.format(A.T)) # Imprime a transposta da Matriz A."
   ]
  }
 ],
 "metadata": {
  "kernelspec": {
   "display_name": "Python 3",
   "language": "python",
   "name": "python3"
  },
  "language_info": {
   "codemirror_mode": {
    "name": "ipython",
    "version": 3
   },
   "file_extension": ".py",
   "mimetype": "text/x-python",
   "name": "python",
   "nbconvert_exporter": "python",
   "pygments_lexer": "ipython3",
   "version": "3.4.2"
  }
 },
 "nbformat": 4,
 "nbformat_minor": 2
}
