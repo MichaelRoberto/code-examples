{
 "cells": [
  {
   "cell_type": "markdown",
   "metadata": {},
   "source": [
    "# Matrizes\n",
    "Em termos gerais, uma matriz é uma array de números organizados em __linhas__ e __colunas__."
   ]
  },
  {
   "cell_type": "markdown",
   "metadata": {},
   "source": [
    "# 1. Matrizes e notação de matriz\n",
    "Uma matriz organiza números em __linhas__ e __colunas__, assim:  \n",
    "  \n",
    "\\begin{equation}A = \\begin{bmatrix}\n",
    "  1 & 2 & 3 \\\\\n",
    "  4 & 5 & 6\n",
    " \\end{bmatrix}\n",
    "\\end{equation}\n",
    "  \n",
    "Observe que as matrizes geralmente são nomeadas como uma letra maiúscula. Referimo-nos aos `elementos` da matriz usando o equivalente em minúscula com um indicador de linha e coluna subscrito, assim:  \n",
    "  \n",
    "\\begin{equation}A = \\begin{bmatrix}\n",
    "  a_{1,1} & a_{1,2} & a_{1,3} \\\\\n",
    "  a_{2,1} & a_{2,2} & a_{2,3}\n",
    " \\end{bmatrix}\n",
    "\\end{equation}\n",
    "  \n",
    "Em Python, você pode definir uma Matriz 2-dimensional com a função __np.array()__ do NumPy:"
   ]
  },
  {
   "cell_type": "code",
   "execution_count": 1,
   "metadata": {},
   "outputs": [
    {
     "name": "stdout",
     "output_type": "stream",
     "text": [
      "[[1 2 3]\n",
      " [4 5 6]]\n"
     ]
    }
   ],
   "source": [
    "# Importa a biblioteca NumPy.\n",
    "import numpy as np\n",
    "\n",
    "# Cria nossa Matriz com o método array() do NumPy.\n",
    "A = np.array([[1,2,3],\n",
    "              [4,5,6]])\n",
    "\n",
    "print(A) # Imprime a Matriz."
   ]
  },
  {
   "cell_type": "markdown",
   "metadata": {},
   "source": [
    "Você também pode usar o __np.matrix()__ que é uma subclasse especializada de matrizes(arrays):"
   ]
  },
  {
   "cell_type": "code",
   "execution_count": 2,
   "metadata": {},
   "outputs": [
    {
     "name": "stdout",
     "output_type": "stream",
     "text": [
      "[[1 2 3]\n",
      " [4 5 6]]\n"
     ]
    }
   ],
   "source": [
    "import numpy as np\n",
    "\n",
    "# cria uma Matriz, porém de forma especializada.\n",
    "M = np.matrix([[1,2,3],\n",
    "               [4,5,6]])\n",
    "\n",
    "print(M) # Imprime a Matriz."
   ]
  },
  {
   "cell_type": "markdown",
   "metadata": {},
   "source": [
    "Existem algumas diferenças de comportamento entre __array()__ e __matrix()__ - Especialmente com relação à multiplicação (que vamos explorar mais tarde). Você pode usar qualquer um, mas os programadores Python mais experientes que precisam trabalhar com vetores e matrizes tendem a preferir o __array()__ para consistência."
   ]
  },
  {
   "cell_type": "markdown",
   "metadata": {},
   "source": [
    "# 2. Operações matriciais\n",
    "Matrizes suportam operações aritméticas comuns.  \n",
    "  \n",
    "### Adicionando Matrizes\n",
    "Para adicionar duas matrizes do mesmo tamanho juntas, basta adicionar os elementos correspondentes em cada matriz:  \n",
    "  \n",
    "\\begin{equation}\\begin{bmatrix}1 & 2 & 3 \\\\4 & 5 & 6\\end{bmatrix}+ \\begin{bmatrix}6 & 5 & 4 \\\\3 & 2 & 1\\end{bmatrix} = \\begin{bmatrix}7 & 7 & 7 \\\\7 & 7 & 7\\end{bmatrix}\\end{equation}\n",
    "  \n",
    "Vamos tentar isso com Python:"
   ]
  },
  {
   "cell_type": "code",
   "execution_count": 3,
   "metadata": {},
   "outputs": [
    {
     "name": "stdout",
     "output_type": "stream",
     "text": [
      "[[7 7 7]\n",
      " [7 7 7]]\n"
     ]
    }
   ],
   "source": [
    "# Importa a biblioteca NumPy.\n",
    "import numpy as np\n",
    "\n",
    "# Cria a Matriz A.\n",
    "A = np.array([[1,2,3],\n",
    "              [4,5,6]])\n",
    "\n",
    "# Cria a matriz B.\n",
    "B = np.array([[6,5,4],\n",
    "              [3,2,1]])\n",
    "\n",
    "# Imprime a SOMA das duas Matrizes.\n",
    "print(A + B)"
   ]
  },
  {
   "cell_type": "markdown",
   "metadata": {},
   "source": [
    "### Subtraindo Matrizes\n",
    "A subtração da matriz funciona de forma semelhante à adição de matriz:  \n",
    "  \n",
    "\\begin{equation}\\begin{bmatrix}1 & 2 & 3 \\\\4 & 5 & 6\\end{bmatrix}- \\begin{bmatrix}6 & 5 & 4 \\\\3 & 2 & 1\\end{bmatrix} = \\begin{bmatrix}-5 & -3 & -1 \\\\1 & 3 & 5\\end{bmatrix}\\end{equation}\n",
    "\n",
    "Vamos ver isso em Python:"
   ]
  },
  {
   "cell_type": "code",
   "execution_count": 4,
   "metadata": {},
   "outputs": [
    {
     "name": "stdout",
     "output_type": "stream",
     "text": [
      "[[-5 -3 -1]\n",
      " [ 1  3  5]]\n"
     ]
    }
   ],
   "source": [
    "# Importa a biblioteca NumPy.\n",
    "import numpy as np\n",
    "\n",
    "# Cria a Matriz A.\n",
    "A = np.array([[1,2,3],\n",
    "              [4,5,6]])\n",
    "\n",
    "# Cria a matriz B.\n",
    "B = np.array([[6,5,4],\n",
    "              [3,2,1]])\n",
    "\n",
    "# Imprime a SUBTRAÇÃO das duas Matrizes.\n",
    "print (A - B)"
   ]
  },
  {
   "cell_type": "markdown",
   "metadata": {},
   "source": [
    "###  Multiplicação de Matriz\n",
    "Multiplicar matrizes é um pouco mais complexo que as operações que vimos até agora. Há dois casos a considerar:  \n",
    "  \n",
    " - __Multiplicação Escalar__ (multiplicando uma matriz por um único número)  \n",
    " - __Multiplicação de matriz de produto escalar__ (multiplicando uma matriz por outra matriz  \n",
    "  \n",
    "### Multiplicação Escalar\n",
    "Para multiplicar uma matriz por um valor escalar, basta multiplicar cada elemento pelo escalar para produzir uma nova matriz:  \n",
    "  \n",
    "\\begin{equation}2 \\times \\begin{bmatrix}1 & 2 & 3 \\\\4 & 5 & 6\\end{bmatrix} = \\begin{bmatrix}2 & 4 & 6 \\\\8 & 10 & 12\\end{bmatrix}\\end{equation}\n",
    "  \n",
    "Em Python, você calcula isso usando o operador __*__:"
   ]
  },
  {
   "cell_type": "code",
   "execution_count": 5,
   "metadata": {},
   "outputs": [
    {
     "name": "stdout",
     "output_type": "stream",
     "text": [
      "[[ 2  4  6]\n",
      " [ 8 10 12]]\n"
     ]
    }
   ],
   "source": [
    "# Importa a biblioteca NumPy.\n",
    "import numpy as np\n",
    "\n",
    "# Cria a nossa Matriz A.\n",
    "A = np.array([[1,2,3],\n",
    "              [4,5,6]])\n",
    "\n",
    "# Aplica a multiplicação Escalar.\n",
    "print(2 * A)"
   ]
  },
  {
   "cell_type": "markdown",
   "metadata": {},
   "source": [
    "### Multiplicação de Matriz de Produtos Dot\n",
    "  \n",
    "Para multiplicar duas matrizes juntas, você precisa calcular o `produto escalar` de linhas e colunas.  \n",
    "  \n",
    "> Isso significa multiplicar cada um dos elementos em cada linha da primeira matriz por cada um dos elementos em cada coluna da segunda matriz e adicionar os resultados.  \n",
    "  \n",
    "Vamos ver um exemplo:  \n",
    "  \n",
    "\\begin{equation}\\begin{bmatrix}1 & 2 & 3 \\\\4 & 5 & 6\\end{bmatrix} \\cdot \\begin{bmatrix}9 & 8 \\\\ 7 & 6 \\\\ 5 & 4\\end{bmatrix}\\end{equation}  \n",
    "  \n",
    "Observe que a primeira matriz é 2x3 e a segunda matriz é 3x2:  \n",
    "  \n",
    "> __O importante aqui é que a primeira matriz tem duas linhas e a segunda matriz tem duas colunas__.  \n",
    "  \n",
    "Para realizar a multiplicação, primeiro pegamos o produto escalar da primeira `linha` da primeira matriz (1,2,3) e a primeira `coluna` da segunda matriz (9,7,5):  \n",
    "  \n",
    "\\begin{equation}(1,2,3) \\cdot (9,7,5) = (1 \\times 9) + (2 \\times 7) + (3 \\times 5) = 38\\end{equation}\n",
    "  \n",
    "Em nossa matriz resultante __(que sempre terá o mesmo número de linhas que a primeira matriz e o mesmo número de colunas que a segunda matriz)__, podemos inserir isso na primeira linha e no primeiro elemento da coluna:  \n",
    "  \n",
    "\\begin{equation}\\begin{bmatrix}38 & ?\\\\? & ?\\end{bmatrix} \\end{equation}\n",
    "  \n",
    "Agora podemos pegar o produto escalar da primeira linha da primeira matriz e a segunda coluna da segunda matriz:  \n",
    "  \n",
    "\\begin{equation}(1,2,3) \\cdot (8,6,4) = (1 \\times 8) + (2 \\times 6) + (3 \\times 4) = 32\\end{equation}\n",
    "  \n",
    "Vamos adicionar isso à nossa matriz resultante na primeira linha e no segundo elemento da coluna:  \n",
    "  \n",
    "\\begin{equation}\\begin{bmatrix}38 & 32\\\\? & ?\\end{bmatrix} \\end{equation}  \n",
    "  \n",
    "Agora podemos repetir este processo para a segunda linha da primeira matriz e a primeira coluna da segunda matriz:  \n",
    "  \n",
    "\\begin{equation}(4,5,6) \\cdot (9,7,5) = (4 \\times 9) + (5 \\times 7) + (6 \\times 5) = 101\\end{equation}  \n",
    "  \n",
    "Que preenche o próximo elemento no resultado:  \n",
    "  \n",
    "\\begin{equation}\\begin{bmatrix}38 & 32\\\\101 & ?\\end{bmatrix} \\end{equation}  \n",
    "  \n",
    "Finalmente, obtemos o produto escalar para a segunda linha da primeira matriz e a segunda coluna da segunda matriz:  \n",
    "  \n",
    "\\begin{equation}(4,5,6) \\cdot (8,6,4) = (4 \\times 8) + (5 \\times 6) + (6 \\times 4) = 86\\end{equation}\n",
    "  \n",
    "Dando-nos:  \n",
    "  \n",
    "\\begin{equation}\\begin{bmatrix}38 & 32\\\\101 & 86\\end{bmatrix} \\end{equation}\n",
    "  \n",
    "Em Python, nós podemos utilizar a função __np.dot()__ do NumPy para multiplicar matrizes bidimensionais:"
   ]
  },
  {
   "cell_type": "code",
   "execution_count": 6,
   "metadata": {},
   "outputs": [
    {
     "name": "stdout",
     "output_type": "stream",
     "text": [
      " Matriz A:\n",
      " [[1 2 3]\n",
      " [4 5 6]]\n",
      "\n",
      " Matriz B: \n",
      " [[9 8]\n",
      " [7 6]\n",
      " [5 4]]\n",
      "\n",
      " A * B:\n",
      " [[ 38  32]\n",
      " [101  86]]\n"
     ]
    }
   ],
   "source": [
    "import numpy as np\n",
    "\n",
    "# Cria uma representação da Matriz - A.\n",
    "A = np.array([[1,2,3],\n",
    "              [4,5,6]])\n",
    "\n",
    "# Cria uma representação da Matriz - B.\n",
    "B = np.array([[9,8],\n",
    "              [7,6],\n",
    "              [5,4]])\n",
    "\n",
    "# Imprime:\n",
    "# - Matriz - A;\n",
    "# - Matriz - B;\n",
    "# - O produto das 2 Matrizes A e B.\n",
    "print(' Matriz A:\\n {0}\\n\\n Matriz B: \\n {1}\\n\\n A * B:\\n {2}'.format(A, B, np.dot(A, B)))"
   ]
  },
  {
   "cell_type": "markdown",
   "metadata": {},
   "source": [
    "__NOTE:__  \n",
    "Este é um caso em que há uma diferença no comportamento entre __np.array()__ e __np.matrox()__ :  \n",
    "  \n",
    " - Você também pode usar um operador de multiplicação regular ( __ *__ ) com uma __np.matrix()__\n",
    " - Mas não com uma __np.array()__  \n",
    "  \n",
    "Veja como fica em Python:"
   ]
  },
  {
   "cell_type": "code",
   "execution_count": 7,
   "metadata": {},
   "outputs": [
    {
     "name": "stdout",
     "output_type": "stream",
     "text": [
      "[[ 38  32]\n",
      " [101  86]]\n"
     ]
    }
   ],
   "source": [
    "import numpy as np\n",
    "\n",
    "# Cria a Matriz A com a função matrix().\n",
    "A = np.matrix([[1,2,3]\n",
    "               ,[4,5,6]])\n",
    "\n",
    "# Cria a Matriz B com a fução matrix().\n",
    "B = np.matrix([[9,8],\n",
    "               [7,6],\n",
    "               [5,4]])\n",
    "\n",
    "# Veja que não utilizamos o np.dot() porque criamos\n",
    "# com a função matrix().\n",
    "print(A * B)"
   ]
  },
  {
   "cell_type": "markdown",
   "metadata": {},
   "source": [
    "Note que, ao contrário da multiplicação de números escalares, a ordem dos operandos em uma operação de multiplicação é significativa. Para números escalares, aplica-se a lei comutativa da multiplicação, por exemplo:  \n",
    "  \n",
    "\\begin{equation}2 \\times 4 = 4 \\times 2\\end{equation}\n",
    "  \n",
    "Com a multiplicação de matrizes, as coisas são diferentes, por exemplo:  \n",
    "  \n",
    "\\begin{equation}\\begin{bmatrix}2 & 4 \\\\6 & 8\\end{bmatrix} \\cdot \\begin{bmatrix}1 & 3 \\\\ 5 & 7\\end{bmatrix} \\ne \\begin{bmatrix}1 & 3 \\\\ 5 & 7\\end{bmatrix} \\cdot \\begin{bmatrix}2 & 4 \\\\6 & 8\\end{bmatrix}\\end{equation}"
   ]
  },
  {
   "cell_type": "code",
   "execution_count": 8,
   "metadata": {},
   "outputs": [
    {
     "name": "stdout",
     "output_type": "stream",
     "text": [
      "[[22 34]\n",
      " [46 74]]\n"
     ]
    }
   ],
   "source": [
    "import numpy as np\n",
    "\n",
    "A = np.array([[2,4],\n",
    "              [6,8]])\n",
    "B = np.array([[1,3],\n",
    "              [5,7]])\n",
    "print(A.dot(B))"
   ]
  },
  {
   "cell_type": "markdown",
   "metadata": {},
   "source": [
    "# 3. Matrizes Negativas\n",
    "A nagativa de uma matriz, é apenas uma matriz com o sinal de cada elemento invertido:  \n",
    "  \n",
    "\\begin{equation}C = \\begin{bmatrix}-5 & -3 & -1 \\\\1 & 3 & 5\\end{bmatrix}\\end{equation}\n",
    "  \n",
    "\\begin{equation}-C = \\begin{bmatrix}5 & 3 & 1 \\\\-1 & -3 & -5\\end{bmatrix}\\end{equation}\n",
    "  \n",
    "Vamos ver isso em Python."
   ]
  },
  {
   "cell_type": "code",
   "execution_count": 9,
   "metadata": {},
   "outputs": [
    {
     "name": "stdout",
     "output_type": "stream",
     "text": [
      "Matriz C:\n",
      " [[-5 -3 -1]\n",
      " [ 1  3  5]]\n",
      "\n",
      "A Negativa da Matriz C:\n",
      " [[ 5  3  1]\n",
      " [-1 -3 -5]]\n"
     ]
    }
   ],
   "source": [
    "# Importa a biblioteca NumPy.\n",
    "import numpy as np\n",
    "\n",
    "# Cria a Matriz C.\n",
    "C = np.array([[-5,-3,-1],\n",
    "              [1,3,5]])\n",
    "\n",
    "\n",
    "print('Matriz C:\\n {0}\\n'.format(C)) # Imprime a Matriz C.\n",
    "print('A Negativa da Matriz C:\\n {0}'.format(-C)) # Imprime a negativa da Matriz C."
   ]
  },
  {
   "cell_type": "markdown",
   "metadata": {},
   "source": [
    "# 4. Transposição de Matriz \n",
    "Você pode `transpor` uma matriz, que é mudar a orientação de suas linhas e colunas. Você indica isso com um sobrescrito __T__, assim:  \n",
    "  \n",
    "\\begin{equation}\\begin{bmatrix}1 & 2 & 3 \\\\4 & 5 & 6\\end{bmatrix}^{T} = \\begin{bmatrix}1 & 4\\\\2 & 5\\\\3 & 6 \\end{bmatrix}\\end{equation}\n",
    "  \n",
    "Em Python, ambos __np.array()__ e __np.matriz__ tem uma função chamada __T__ que é responsável por fazer esse tipo de operação. Vamos ver isso em Python:"
   ]
  },
  {
   "cell_type": "code",
   "execution_count": 10,
   "metadata": {},
   "outputs": [
    {
     "name": "stdout",
     "output_type": "stream",
     "text": [
      "Matriz A:\n",
      " [[1 2 3]\n",
      " [4 5 6]]\n",
      "\n",
      "Transposta da Matriz A:\n",
      " [[1 4]\n",
      " [2 5]\n",
      " [3 6]]\n"
     ]
    }
   ],
   "source": [
    "# Importa a biblioteca NumPy.\n",
    "import numpy as np\n",
    "\n",
    "# Cria a Matriz \"A\".\n",
    "A = np.array([[1,2,3],\n",
    "              [4,5,6]])\n",
    "\n",
    "print('Matriz A:\\n {0}\\n'.format(A)) # Imprime a Matriz A.\n",
    "print('Transposta da Matriz A:\\n {0}'.format(A.T)) # Imprime a transposta da Matriz A."
   ]
  },
  {
   "cell_type": "markdown",
   "metadata": {},
   "source": [
    "# 5. Matriz Identidade\n",
    "Uma __Matriz Identidade__ (geralmente indicada por um maiúscula __I__) é o equivalente em termos de matriz do número __1__. Ele sempre tem o mesmo número de linhas que as colunas, e tem o valor 1 nas posições do elemento diagonal I<sub>1,1</sub>, I<sub>2,2</sub>, etc; e 0 em todas as outras posições de elemento. Aqui está um exemplo de uma matriz de identidade 3x3:  \n",
    "  \n",
    "\\begin{equation}\\begin{bmatrix}1 & 0 & 0\\\\0 & 1 & 0\\\\0 & 0 & 1\\end{bmatrix} \\end{equation}  \n",
    "  \n",
    "Multiplicar qualquer matriz por uma matriz de identidade é o mesmo que:  \n",
    "  \n",
    "> __Multiplicar um número por 1; o resultado é o mesmo que o valor original.__  \n",
    "  \n",
    "\\begin{equation}\\begin{bmatrix}1 & 2 & 3 \\\\4 & 5 & 6\\\\7 & 8 & 9\\end{bmatrix} \\cdot \\begin{bmatrix}1 & 0 & 0\\\\0 & 1 & 0\\\\0 & 0 & 1\\end{bmatrix} = \\begin{bmatrix}1 & 2 & 3 \\\\4 & 5 & 6\\\\7 & 8 & 9\\end{bmatrix} \\end{equation}\n",
    "\n",
    "\n",
    "Se você duvida de mim, tente o seguinte código Python!"
   ]
  },
  {
   "cell_type": "code",
   "execution_count": 11,
   "metadata": {},
   "outputs": [
    {
     "name": "stdout",
     "output_type": "stream",
     "text": [
      "[[1 2 3]\n",
      " [4 5 6]\n",
      " [7 8 9]]\n"
     ]
    }
   ],
   "source": [
    "import numpy as np\n",
    "\n",
    "# Cria a Matrix A.\n",
    "A = np.array([[1,2,3],\n",
    "              [4,5,6],\n",
    "              [7,8,9]])\n",
    "\n",
    "# Cria a Matrix B.\n",
    "B = np.array([[1,0,0],\n",
    "              [0,1,0],\n",
    "              [0,0,1]])\n",
    "\n",
    "# Multiplica a Matrix A,\n",
    "# pelo a Matrix Identidade B.\n",
    "print(A.dot(B))"
   ]
  },
  {
   "cell_type": "markdown",
   "metadata": {},
   "source": [
    "__NOTE:__  \n",
    "Outa maneira de criar uma Matrix Identidade em Python é utilizar a função __np.eye()__ do NumPy.  \n",
    "  \n",
    "Como uma Matrix Identidade tem sempre o mesmo número de linhas e colunas (Matriz Quadrada) qualquer valor que você passar para a função ela vai determinar o mesmo número de linhas e colunas."
   ]
  },
  {
   "cell_type": "code",
   "execution_count": 12,
   "metadata": {},
   "outputs": [
    {
     "data": {
      "text/plain": [
       "array([[1., 0., 0.],\n",
       "       [0., 1., 0.],\n",
       "       [0., 0., 1.]])"
      ]
     },
     "execution_count": 12,
     "metadata": {},
     "output_type": "execute_result"
    }
   ],
   "source": [
    "# Cria uma Matrix Identidade 3x3.\n",
    "np.eye(3)"
   ]
  },
  {
   "cell_type": "code",
   "execution_count": 13,
   "metadata": {},
   "outputs": [
    {
     "data": {
      "text/plain": [
       "array([[1., 0., 0., 0., 0.],\n",
       "       [0., 1., 0., 0., 0.],\n",
       "       [0., 0., 1., 0., 0.],\n",
       "       [0., 0., 0., 1., 0.],\n",
       "       [0., 0., 0., 0., 1.]])"
      ]
     },
     "execution_count": 13,
     "metadata": {},
     "output_type": "execute_result"
    }
   ],
   "source": [
    "# Cria uma Matrix Identidade 5x5.\n",
    "np.eye(5)"
   ]
  },
  {
   "cell_type": "code",
   "execution_count": 14,
   "metadata": {},
   "outputs": [
    {
     "data": {
      "text/plain": [
       "array([[1., 0., 0., 0., 0., 0., 0., 0., 0., 0.],\n",
       "       [0., 1., 0., 0., 0., 0., 0., 0., 0., 0.],\n",
       "       [0., 0., 1., 0., 0., 0., 0., 0., 0., 0.],\n",
       "       [0., 0., 0., 1., 0., 0., 0., 0., 0., 0.],\n",
       "       [0., 0., 0., 0., 1., 0., 0., 0., 0., 0.],\n",
       "       [0., 0., 0., 0., 0., 1., 0., 0., 0., 0.],\n",
       "       [0., 0., 0., 0., 0., 0., 1., 0., 0., 0.],\n",
       "       [0., 0., 0., 0., 0., 0., 0., 1., 0., 0.],\n",
       "       [0., 0., 0., 0., 0., 0., 0., 0., 1., 0.],\n",
       "       [0., 0., 0., 0., 0., 0., 0., 0., 0., 1.]])"
      ]
     },
     "execution_count": 14,
     "metadata": {},
     "output_type": "execute_result"
    }
   ],
   "source": [
    "# Cria uma Matrix Identidade 10x10.\n",
    "np.eye(10)"
   ]
  },
  {
   "cell_type": "markdown",
   "metadata": {},
   "source": [
    "# 6. (Divisão Matricial) + (Recíproco de um número) + (Inverso de uma Matriz)\n",
    "Antes de iniciar nossos estudos sobre `Divisão Matricial` vamos relembrar um conceito simples: __Recíproco de um número__.  \n",
    "  \n",
    "### Recíproco de um número\n",
    "Para obter o `recíproco` de um número, dividimos 1 pelo número. Por exemplo: o recíproco de 2 é:  \n",
    "  \n",
    "<sup>1</sup>/<sub>2</sub>\n",
    "  \n",
    "### Divisão Matricial de fato\n",
    "  \n",
    "Você não pode realmente dividir por uma matriz; mas quando você quer dividir matrizes, você pode aproveitar o fato de que:  \n",
    "  \n",
    "> __A divisão por um dado número, é o mesmo que a multiplicação pelo recíproco desse número.__  \n",
    "  \n",
    "Por exemplo:  \n",
    "  \n",
    "\\begin{equation}6 \\div 3 = 6 \\times\\frac{1}{3}\\end{equation}  \n",
    "  \n",
    "Ou:  \n",
    "  \n",
    "\\begin{equation}6 \\div 3 = \\frac{1}{3}\\times 6 \\end{equation}  \n",
    "  \n",
    "Neste caso, <sup>1</sup>/<sub>3</sub> é o recíproco de 3 (que como uma fração é <sup>3</sup>/<sub>1</sub> - nós \"invertemos\" o numerador e o denominador para obter o recíproco). Você também pode escrever <sup>1</sup>/<sub>3</sub> como 3<sup>-1</sup>.\n",
    "\n",
    "\n",
    "### Inverso de uma matriz\n",
    "Para a divisão de matrizes, usamos uma ideia relacionada; nós multiplicamos pelo `inverso` de uma matriz:  \n",
    "  \n",
    "\\begin{equation}A \\div B = A \\cdot B^{-1}\\end{equation}  \n",
    "  \n",
    "O inverso de B é B<sup>-1</sup>, desde que a seguinte equação seja verdadeira:  \n",
    "  \n",
    "\\begin{equation}B \\cdot B^{-1} = B^{-1} \\cdot B = I\\end{equation}\n",
    "  \n",
    "__I__, você pode se lembrar, é uma `Matriz de Identidade - (I)`; o equivalente matricial de 1.  \n",
    "  \n",
    "Então, como você calcula o inverso de uma matriz? Para uma matriz 2x2, você pode seguir esta fórmula:  \n",
    "  \n",
    "\\begin{equation}\\begin{bmatrix}a & b\\\\c & d\\end{bmatrix}^{-1} = \\frac{1}{ad-bc}  \\begin{bmatrix}d & -b\\\\-c & a\\end{bmatrix}\\end{equation}\n",
    "  \n",
    "O que aconteceu aqui?  \n",
    "  \n",
    " - Nós trocamos as posições de *a* e *d*  \n",
    " - Mudamos os sinais de *b* e *c*  \n",
    " - Nós multiplicamos a matriz resultante por 1 sobre o *determinante* da matriz (*ad-bc*)  \n",
    "  \n",
    "Vamos tentar com alguns números reais:  \n",
    "  \n",
    "\\begin{equation}\\begin{bmatrix}6 & 2\\\\1 & 2\\end{bmatrix}^{-1} = \\frac{1}{(6\\times2)-(2\\times1)}  \\begin{bmatrix}2 & -2\\\\-1 & 6\\end{bmatrix}\\end{equation}\n",
    "  \n",
    "Assim:  \n",
    "  \n",
    "\\begin{equation}\\begin{bmatrix}6 & 2\\\\1 & 2\\end{bmatrix}^{-1} = \\frac{1}{10}  \\begin{bmatrix}2 & -2\\\\-1 & 6\\end{bmatrix}\\end{equation}\n",
    "  \n",
    "O que nos dá o resultado:  \n",
    "  \n",
    "\\begin{equation}\\begin{bmatrix}6 & 2\\\\1 & 2\\end{bmatrix}^{-1} = \\begin{bmatrix}0.2 & -0.2\\\\-0.1 & 0.6\\end{bmatrix}\\end{equation}\n",
    "  \n",
    "Para verificar isso, podemos multiplicar a matriz original pelo seu inverso para ver se obtemos uma matriz de identidade. Isso faz sentido se você pensar sobre isso; do mesmo modo que 3 x <sup>1</sup>/<sub>3</sub> = 1, uma matriz multiplicado pelos seus resultados inversos em uma matriz de identidade:  \n",
    "  \n",
    "\\begin{equation}\\begin{bmatrix}6 & 2\\\\1 & 2\\end{bmatrix} \\cdot \\begin{bmatrix}0.2 & -0.2\\\\-0.1 & 0.6\\end{bmatrix} = \\begin{bmatrix}(6\\times0.2)+(2\\times-0.1) & (6\\times-0.2)+(2\\times0.6)\\\\(1\\times0.2)+(2\\times-0.1) & (1\\times-0.2)+(2\\times0.6)\\end{bmatrix} = \\begin{bmatrix}1 & 0\\\\0 & 1\\end{bmatrix}\\end{equation}\n",
    "  \n",
    "Note que nem toda matriz tem um inverso - por exemplo, se o determinante funciona como 0, a matriz inversa não é definida.  \n",
    "  \n",
    "No Python, você pode usar a função __np.linalg.inv()__ do NumPy para obter o inverso de uma matriz em um  objeto `matrix` ou `array`:"
   ]
  },
  {
   "cell_type": "code",
   "execution_count": 15,
   "metadata": {},
   "outputs": [
    {
     "name": "stdout",
     "output_type": "stream",
     "text": [
      "[[ 0.2 -0.2]\n",
      " [-0.1  0.6]]\n"
     ]
    }
   ],
   "source": [
    "import numpy as np\n",
    "\n",
    "# Cria a Matriz do nosso exemplo\n",
    "B = np.array([[6,2],\n",
    "              [1,2]])\n",
    "\n",
    "# Pega o inverso da Matriz com a função inv() do np.linalg\n",
    "print(np.linalg.inv(B))"
   ]
  },
  {
   "cell_type": "markdown",
   "metadata": {},
   "source": [
    "__NOTE:__  \n",
    "Além disso, o __np.matrix()__ possui um método ***I*** que retorna a matriz inversa:"
   ]
  },
  {
   "cell_type": "code",
   "execution_count": 16,
   "metadata": {},
   "outputs": [
    {
     "name": "stdout",
     "output_type": "stream",
     "text": [
      "[[ 0.2 -0.2]\n",
      " [-0.1  0.6]]\n"
     ]
    }
   ],
   "source": [
    "import numpy as np\n",
    "\n",
    "# Cria a Matriz do nosso exemplo, porém,\n",
    "# agora a função matrix().\n",
    "B = np.matrix([[6,2],\n",
    "              [1,2]])\n",
    "\n",
    "\n",
    "# Utiliza o método \"I\" do matrix() para pegar\n",
    "# a Matriz Inversa de B.\n",
    "print(B.I)"
   ]
  },
  {
   "cell_type": "markdown",
   "metadata": {},
   "source": [
    "Para matrizes maiores, o processo para calcular o inverso é mais complexo. Vamos explorar um exemplo baseado na seguinte matriz:  \n",
    "  \n",
    "\\begin{equation}\\begin{bmatrix}4 & 2 & 2\\\\6 & 2 & 4\\\\2 & 2 & 8\\end{bmatrix} \\end{equation}\n",
    "  \n",
    "O processo para encontrar o inverso consiste nos seguintes passos:  \n",
    "  \n",
    "__STEP - 01:__ Crie uma matriz de *menores* calculando o *determinante* para cada elemento na matriz com base - nos elementos que __não__ estão na mesma linha ou coluna; como isso:  \n",
    "  \n",
    "\\begin{equation}\\begin{bmatrix}\\color{blue}4 & \\color{lightgray}2 & \\color{lightgray}2\\\\\\color{lightgray}6 & \\color{red}2 & \\color{red}4\\\\\\color{lightgray}2 & \\color{red}2 & \\color{red}8\\end{bmatrix}\\;\\;\\;\\;(2\\times8) - (4\\times2) = 8\\;\\;\\;\\;\\begin{bmatrix}8 & \\color{lightgray}? & \\color{lightgray}?\\\\\\color{lightgray}? & \\color{lightgray}? & \\color{lightgray}?\\\\\\color{lightgray}? & \\color{lightgray}? & \\color{lightgray}?\\end{bmatrix} \\end{equation}\n",
    "\n",
    "\\begin{equation}\\begin{bmatrix}\\color{lightgray}4 & \\color{blue}2 & \\color{lightgray}2\\\\\\color{red}6 & \\color{lightgray}2 & \\color{red}4\\\\\\color{red}2 & \\color{lightgray}2 & \\color{red}8\\end{bmatrix}\\;\\;\\;\\;(6\\times8) - (4\\times2) = 40\\;\\;\\;\\;\\begin{bmatrix}8 & 40 & \\color{lightgray}?\\\\\\color{lightgray}? & \\color{lightgray}? & \\color{lightgray}?\\\\\\color{lightgray}? & \\color{lightgray}? & \\color{lightgray}?\\end{bmatrix}\\end{equation}\n",
    "\n",
    "\\begin{equation}\\begin{bmatrix}\\color{lightgray}4 & \\color{lightgray}2 & \\color{blue}2\\\\\\color{red}6 & \\color{red}2 & \\color{lightgray}4\\\\\\color{red}2 & \\color{red}2 & \\color{lightgray}8\\end{bmatrix}\\;\\;\\;\\;(6\\times2) - (2\\times2) = 8\\;\\;\\;\\;\\begin{bmatrix}8 & 40 & 8\\\\\\color{lightgray}? & \\color{lightgray}? & \\color{lightgray}?\\\\\\color{lightgray}? & \\color{lightgray}? & \\color{lightgray}?\\end{bmatrix} \\end{equation}\n",
    "\n",
    "\\begin{equation}\\begin{bmatrix}\\color{lightgray}4 & \\color{red}2 & \\color{red}2\\\\\\color{blue}6 & \\color{lightgray}2 & \\color{lightgray}4\\\\\\color{lightgray}2 & \\color{red}2 & \\color{red}8\\end{bmatrix}\\;\\;\\;\\;(2\\times8) - (2\\times2) = 12\\;\\;\\;\\;\\begin{bmatrix}8 & 40 & 8\\\\12 & \\color{lightgray}? & \\color{lightgray}?\\\\\\color{lightgray}? & \\color{lightgray}? & \\color{lightgray}?\\end{bmatrix} \\end{equation}\n",
    "\n",
    "\\begin{equation}\\begin{bmatrix}\\color{red}4 & \\color{lightgray}2 & \\color{red}2\\\\\\color{lightgray}6 & \\color{blue}2 & \\color{lightgray}4\\\\\\color{red}2 & \\color{lightgray}2 & \\color{red}8\\end{bmatrix}\\;\\;\\;\\;(4\\times8) - (2\\times2) = 28\\;\\;\\;\\;\\begin{bmatrix}8 & 40 & 8\\\\12 & 28 & \\color{lightgray}?\\\\\\color{lightgray}? & \\color{lightgray}? & \\color{lightgray}?\\end{bmatrix} \\end{equation}\n",
    "\n",
    "\\begin{equation}\\begin{bmatrix}\\color{red}4 & \\color{red}2 & \\color{lightgray}2\\\\\\color{lightgray}6 & \\color{lightgray}2 & \\color{blue}4\\\\\\color{red}2 & \\color{red}2 & \\color{lightgray}8\\end{bmatrix}\\;\\;\\;\\;(4\\times2) - (2\\times2) = 4\\;\\;\\;\\;\\begin{bmatrix}8 & 40 & 8\\\\12 & 28 & 4\\\\\\color{lightgray}? & \\color{lightgray}? & \\color{lightgray}?\\end{bmatrix} \\end{equation}\n",
    "\n",
    "\\begin{equation}\\begin{bmatrix}\\color{lightgray}4 & \\color{red}2 & \\color{red}2\\\\\\color{lightgray}6 & \\color{red}2 & \\color{red}4\\\\\\color{blue}2 & \\color{lightgray}2 & \\color{lightgray}8\\end{bmatrix}\\;\\;\\;\\;(2\\times4) - (2\\times2) = 4\\;\\;\\;\\;\\begin{bmatrix}8 & 40 & 8\\\\12 & 28 & 4\\\\4 & \\color{lightgray}? & \\color{lightgray}?\\end{bmatrix} \\end{equation}\n",
    "\n",
    "\\begin{equation}\\begin{bmatrix}\\color{red}4 & \\color{lightgray}2 & \\color{red}2\\\\\\color{red}6 & \\color{lightgray}2 & \\color{red}4\\\\\\color{lightgray}2 & \\color{blue}2 & \\color{lightgray}8\\end{bmatrix}\\;\\;\\;\\;(4\\times4) - (2\\times6) = 4\\;\\;\\;\\;\\begin{bmatrix}8 & 40 & 8\\\\12 & 28 & 4\\\\4 & 4 & \\color{lightgray}?\\end{bmatrix} \\end{equation}\n",
    "\n",
    "\\begin{equation}\\begin{bmatrix}\\color{red}4 & \\color{red}2 & \\color{lightgray}2\\\\\\color{red}6 & \\color{red}2 & \\color{lightgray}4\\\\\\color{lightgray}2 & \\color{lightgray}2 & \\color{blue}8\\end{bmatrix}\\;\\;\\;\\;(4\\times2) - (2\\times6) = -4\\;\\;\\;\\;\\begin{bmatrix}8 & 40 & 8\\\\12 & 28 & 4\\\\4 & 4 & -4\\end{bmatrix} \\end{equation}\n",
    "  \n",
    "__NOTE:__  \n",
    "Veja que nós começamos a calcular pelo índice a<sub>11</sub> e como a regra diz - Na posição que estamos calculando (a<sub>11</sub>) __não__ podemos pegar elementos que estejam:  \n",
    "  \n",
    " - Na mesma linha - a<sub>11</sub>  \n",
    " - Ou na mesma coluna - a<sub>11</sub>  \n",
    "  \n",
    "As cores `Azul` e `Vermelho` significam:  \n",
    "  \n",
    " - O índice na Matriz que estamos calculando - (Azul)  \n",
    " - Os elementos que não estão na linha ou coluna do índice que estamos calculando - (Vermelho)  \n",
    "  \n",
    "__STEP - 02:__ Aplique *cofatores* à matriz trocando o sinal de cada elemento alternativo na matriz de menores:  \n",
    "  \n",
    "Se você não se lembra como aplicar os *cofatores* a aula do link abaixo pode lhe ajudar:  \n",
    "[Invertendo uma matriz 3x3 calculando a matriz dos menores complementares e a matriz dos cofatores](https://www.youtube.com/watch?v=VjRCgDJPtTA)  \n",
    "  \n",
    "\\begin{equation}\\begin{bmatrix}8 & -40 & 8\\\\-12 & 28 & -4\\\\4 & -4 & -4\\end{bmatrix} \\end{equation}\n",
    "  \n",
    "O último elemento __-4__, continuou negativo mesmo depois dos cofatores, porque ele já era negativo.  \n",
    "  \n",
    "__STEP - 03:__ Aplica a Matriz Transposta, ou seja, as linhas vão virar colunas:  \n",
    "  \n",
    "\\begin{equation}\\begin{bmatrix}8 & \\color{green}-\\color{green}1\\color{green}2 & \\color{orange}4\\\\\\color{green}-\\color{green}4\\color{green}0 & 28 & \\color{purple}-\\color{purple}4\\\\\\color{orange}8 & \\color{purple}-\\color{purple}4 & -4\\end{bmatrix} \\end{equation}\n",
    "  \n",
    "__STEP - 04:__ Multiplique por __1/determinante da matriz original__. Para encontrar isso:\n",
    " - Multiplique cada um dos elementos da linha superior da matriz original pelos seus determinantes menores correspondentes (que calculamos anteriormente na matriz de menores);\n",
    " - Subtraia o segundo do primeiro e adicione o terceiro:  \n",
    "  \n",
    "Só para relembrar a matriz original é essa:  \n",
    "  \n",
    "\\begin{equation}\\begin{bmatrix}4 & 2 & 2\\\\6 & 2 & 4\\\\2 & 2 & 8\\end{bmatrix} \\end{equation}  \n",
    "  \n",
    "É a matriz dos menores é a seguinte:  \n",
    "  \n",
    "\\begin{equation}\\begin{bmatrix}8 & 40 & 8\\\\12 & 28 & 4\\\\4 & 4 & -4\\end{bmatrix} \\end{equation}  \n",
    "  \n",
    "E como o primeiro ponto do passo 4 diz - Multiplique cada um dos elementos da linha superior da matriz original pelos seus determinantes menores correspondentes, ou seja:  \n",
    "  \n",
    "\\begin{equation}\\begin{bmatrix}4 & 2 & 2\\\\  &   &  \\\\  &   &  \\end{bmatrix} \\end{equation}  \n",
    "  \n",
    "\\begin{equation}\\begin{bmatrix}8 & 40 & 8\\\\   &    &  \\\\  &   &   \\end{bmatrix} \\end{equation}  \n",
    "  \n",
    "Vai ficar algo parecido com isso:  \n",
    "  \n",
    "\\begin{equation}(4 \\times 8), (2 \\times 40), (2 \\times 8)\\end{equation}\n",
    "  \n",
    "E como nosso segundo ponto do passo 4 diz - Subtraia o segundo do primeiro e adicione o terceiro, logo teremos a seguinte formula para encontrar o *determinante*:  \n",
    "  \n",
    "\\begin{equation}Determinant = (4 \\times 8) - (2 \\times 40) + (2 \\times 8) = -32\\end{equation}\n",
    "  \n",
    "Agora, que nós já temos o determinante da matriz original (-32) vamos aplicar o que realmente importa - __1/determinante da matriz original__  \n",
    "  \n",
    "\\begin{equation}\\frac{1}{-32}\\begin{bmatrix}8 & -12 & 4\\\\-40 & 28 & -4\\\\8 & -4 & -4\\end{bmatrix} =  \\begin{bmatrix}-0.25 & 0.375 & -0.125\\\\1.25 & -0.875 & 0.125\\\\-0.25 & 0.125 & 0.125\\end{bmatrix}\\end{equation}\n",
    "  \n",
    "Vamos verificar que a matriz original multiplicada pelos resultados inversos em uma matriz de identidade:\n",
    "  \n",
    "\\begin{equation}\\begin{bmatrix}4 & 2 & 2\\\\6 & 2 & 4\\\\2 & 2 & 8\\end{bmatrix} \\cdot \\begin{bmatrix}-0.25 & 0.375 & -0.125\\\\1.25 & -0.875 & 0.125\\\\-0.25 & 0.125 & 0.125\\end{bmatrix}\\end{equation}\n",
    "  \n",
    "\\begin{equation}= \\begin{bmatrix}(4\\times-0.25)+(2\\times1.25)+(2\\times-0.25) & (4\\times0.375)+(2\\times-0.875)+(2\\times0.125) & (4\\times-0.125)+(2\\times-0.125)+(2\\times0.125)\\\\(6\\times-0.25)+(2\\times1.25)+(4\\times-0.25) & (6\\times0.375)+(2\\times-0.875)+(4\\times0.125) & (6\\times-0.125)+(2\\times-0.125)+(4\\times0.125)\\\\(2\\times-0.25)+(2\\times1.25)+(8\\times-0.25) & (2\\times0.375)+(2\\times-0.875)+(8\\times0.125) & (2\\times-0.125)+(2\\times-0.125)+(8\\times0.125)\\end{bmatrix} \\end{equation}\n",
    "\n",
    "\\begin{equation}= \\begin{bmatrix}1 & 0 & 0\\\\0 & 1 & 0\\\\0 & 0 & 1\\end{bmatrix} \\end{equation}\n",
    "  \n",
    "Como você pode ver, isso pode ficar bastante complicado - e é por isso que geralmente usamos uma calculadora ou um programa de computador. Você pode executar o seguinte código Python para verificar se a matriz inversa que calculamos está correta:"
   ]
  },
  {
   "cell_type": "code",
   "execution_count": 17,
   "metadata": {},
   "outputs": [
    {
     "name": "stdout",
     "output_type": "stream",
     "text": [
      "[[-0.25   0.375 -0.125]\n",
      " [ 1.25  -0.875  0.125]\n",
      " [-0.25   0.125  0.125]]\n"
     ]
    }
   ],
   "source": [
    "import numpy as np\n",
    "\n",
    "# Cria uma representação da nossa Matriz original.\n",
    "B = np.array([[4,2,2],\n",
    "              [6,2,4],\n",
    "              [2,2,8]])\n",
    "\n",
    "# Tira a inversa da nossa matriz.\n",
    "print(np.linalg.inv(B))"
   ]
  },
  {
   "cell_type": "markdown",
   "metadata": {},
   "source": [
    "###  Multiplicando por uma matriz inversa \n",
    "Agora que você sabe calcular uma matriz inversa, você pode usar esse conhecimento para multiplicar o inverso de uma matriz por outra matriz como alternativa à divisão:  \n",
    "  \n",
    "\\begin{equation}\\begin{bmatrix}1 & 2\\\\3 & 4\\end{bmatrix} \\cdot \\begin{bmatrix}6 & 2\\\\1 & 2\\end{bmatrix}^{-1} \\end{equation}\n",
    "\n",
    "\\begin{equation}=\\begin{bmatrix}1 & 2\\\\3 & 4\\end{bmatrix} \\cdot \\begin{bmatrix}0.2 & -0.2\\\\-0.1 & 0.6\\end{bmatrix}  \\end{equation}\n",
    "\n",
    "\\begin{equation}=\\begin{bmatrix}(1\\times0.2)+(2\\times-0.1) & (1\\times-0.2)+(2\\times0.6)\\\\(3\\times0.2)+(4\\times-0.1) & (3\\times-0.2)+(4\\times0.6)\\end{bmatrix}\\end{equation}\n",
    "\n",
    "\\begin{equation}=\\begin{bmatrix}0 & 1\\\\0.2 & 1.8\\end{bmatrix}\\end{equation}\n",
    "\n",
    "Aqui está o código Python para calcular isso:"
   ]
  },
  {
   "cell_type": "code",
   "execution_count": 18,
   "metadata": {},
   "outputs": [
    {
     "name": "stdout",
     "output_type": "stream",
     "text": [
      "[[0.  1. ]\n",
      " [0.2 1.8]]\n"
     ]
    }
   ],
   "source": [
    "import numpy as np\n",
    "\n",
    "# Cria uma representação da Matriz A.\n",
    "A = np.array([[1,2],\n",
    "              [3,4]])\n",
    "\n",
    "# Cria uma representação da Matriz B\n",
    "B = np.array([[6,2],\n",
    "              [1,2]])\n",
    "\n",
    "# Multiplica a Matriz A pelo o inverso da Matriz B.\n",
    "C = A.dot(np.linalg.inv(B))\n",
    "\n",
    "print(C) # Imprime o resultado."
   ]
  },
  {
   "cell_type": "markdown",
   "metadata": {},
   "source": [
    "# 7. Resolvendo Sistemas de Equações com Matrizes\n",
    "  \n",
    "Uma das grandes coisas sobre matrizes é que elas podem nos ajudar a resolver sistemas de equações. Por exemplo, considere o seguinte sistema de equações:  \n",
    "  \n",
    "\\begin{equation}2x + 4y = 18\\end{equation}\n",
    "\\begin{equation}6x + 2y = 34\\end{equation}\n",
    "  \n",
    "Podemos escrever isso em forma de matriz, assim:  \n",
    "  \n",
    "\\begin{equation}\\begin{bmatrix}2 & 4\\\\6 & 2\\end{bmatrix} \\cdot \\begin{bmatrix}x\\\\y\\end{bmatrix}=\\begin{bmatrix}18\\\\34\\end{bmatrix}\\end{equation}\n",
    "  \n",
    "Observe que as variáveis (__x__ e __y__) são organizadas como uma coluna em uma matriz, que é multiplicada por uma matriz contendo os coeficientes para produzir uma matriz contendo os resultados.  \n",
    "  \n",
    "Se você calcular o produto escalar no lado esquerdo, poderá ver claramente que isso representa as equações originais:  \n",
    "  \n",
    "\\begin{equation}\\begin{bmatrix}2x + 4y\\\\6x + 2y\\end{bmatrix} =\\begin{bmatrix}18\\\\34\\end{bmatrix}\\end{equation}\n",
    "  \n",
    "Agora. vamos nomear nossas matrizes para que possamos entender melhor o que vem a seguir:  \n",
    "  \n",
    "\\begin{equation}A=\\begin{bmatrix}2 & 4\\\\6 & 2\\end{bmatrix}\\;\\;\\;\\;X=\\begin{bmatrix}x\\\\y\\end{bmatrix}\\;\\;\\;\\;B=\\begin{bmatrix}18\\\\34\\end{bmatrix}\\end{equation}\n",
    "  \n",
    "Nós já sabemos que ***A &bull; X = B***, o que significa aritmeticamente que ***X = B &div; A*** (o __A__ estava de um lado multiplicando, o que fizemos foi passar para o outro lado dividindo - como em equações). Como não podemos realmente dividir por uma matriz, precisamos multiplicar pelo inverso; então podemos encontrar os valores para nossas variáveis (`X`) assim: ***X = A<sup>-1</sup> &bull; B***  \n",
    "  \n",
    "Então, primeiro precisamos do inverso de A:  \n",
    "  \n",
    "\\begin{equation}\\begin{bmatrix}2 & 4\\\\6 & 2\\end{bmatrix}^{-1} = \\frac{1}{(2\\times2)-(4\\times6)}  \\begin{bmatrix}2 & -4\\\\-6 & 2\\end{bmatrix}\\end{equation}\n",
    "  \n",
    "\\begin{equation}= \\frac{1}{-20}  \\begin{bmatrix}2 & -4\\\\-6 & 2\\end{bmatrix}\\end{equation}\n",
    "  \n",
    "\\begin{equation}=\\begin{bmatrix}-0.1 & 0.2\\\\0.3 & -0.1\\end{bmatrix}\\end{equation}\n",
    "  \n",
    "Então nós apenas multiplicamos isso com __B__:  \n",
    "  \n",
    "\\begin{equation}X = \\begin{bmatrix}-0.1 & 0.2\\\\0.3 & -0.1\\end{bmatrix} \\cdot \\begin{bmatrix}18\\\\34\\end{bmatrix}\\end{equation}\n",
    "  \n",
    "\\begin{equation}X = \\begin{bmatrix}(-0.1 \\times 18)+(0.2 \\times 34)\\\\(0.3\\times18)+(-0.1\\times34)\\end{bmatrix}\\end{equation}\n",
    "  \n",
    "\\begin{equation}X = \\begin{bmatrix}5\\\\2\\end{bmatrix}\\end{equation}\n",
    "  \n",
    "A matriz resultante (__X__) contém os valores para nossas variáveis __x__ e __y__, e podemos verificar estes ligando-os nas equações originais:  \n",
    "  \n",
    "\\begin{equation}(2\\times5) + (4\\times2) = 18\\end{equation}\n",
    "\\begin{equation}(6\\times5) + (2\\times2) = 34\\end{equation}\n",
    "  \n",
    "Estes, obviamente, simplificam para:  \n",
    "  \n",
    "\\begin{equation}10 + 8 = 18\\end{equation}\n",
    "\\begin{equation}30 + 4 = 34\\end{equation}\n",
    "  \n",
    "Portanto, nossos valores variáveis estão corretos.  \n",
    "  \n",
    "Aqui está o código Python para fazer tudo isso:"
   ]
  },
  {
   "cell_type": "code",
   "execution_count": 19,
   "metadata": {},
   "outputs": [
    {
     "name": "stdout",
     "output_type": "stream",
     "text": [
      "[[5.]\n",
      " [2.]]\n"
     ]
    }
   ],
   "source": [
    "import numpy as np\n",
    "\n",
    "# A matriz A vai representa os coeficientes da equação:\n",
    "# - 2x + 4y = 18\n",
    "# - 6x + 2y = 34\n",
    "A = np.array([[2,4],\n",
    "              [6,2]])\n",
    "\n",
    "# A matriz B vai representa os resultados finais das equações.\n",
    "B = np.array([[18],\n",
    "              [34]])\n",
    "\n",
    "# Agora vamos criar de fato nossa formula para resolver o Sistema Linear:\n",
    "# A • X = B =\n",
    "# X = B ÷ A =\n",
    "# X = A^1 • B\n",
    "# Ou seja, vamos aplicar a multiplicação da matriz inversa de A\n",
    "# com a matriz B: X = A^1 • B\n",
    "C = np.dot(np.linalg.inv(A), B)\n",
    "\n",
    "print(C) # Imprime o resultado."
   ]
  },
  {
   "cell_type": "markdown",
   "metadata": {},
   "source": [
    "__NOTE:__  \n",
    "Na nossa saída em Python o  __x = 5__ e __y = 2__:  \n",
    "  \n",
    "2x + 4y = 18  \n",
    "6x + 2y = 34  \n",
    "  \n",
    "Que é equivalente:  \n",
    "  \n",
    "2x5 + 4x2 = 18  \n",
    "6x5 + 2x2 = 34  "
   ]
  },
  {
   "cell_type": "markdown",
   "metadata": {},
   "source": [
    "__ESTUDOS ADICIONAIS:__  \n",
    "[Recíproco de um número - (Reciprocal of a number)](https://www.mathsisfun.com/reciprocal.html)  \n",
    "[Invertendo uma matriz 3x3 calculando a matriz dos menores complementares e a matriz dos cofatores](https://www.youtube.com/watch?v=VjRCgDJPtTA)  "
   ]
  }
 ],
 "metadata": {
  "kernelspec": {
   "display_name": "Python 3",
   "language": "python",
   "name": "python3"
  },
  "language_info": {
   "codemirror_mode": {
    "name": "ipython",
    "version": 3
   },
   "file_extension": ".py",
   "mimetype": "text/x-python",
   "name": "python",
   "nbconvert_exporter": "python",
   "pygments_lexer": "ipython3",
   "version": "3.4.2"
  }
 },
 "nbformat": 4,
 "nbformat_minor": 2
}
