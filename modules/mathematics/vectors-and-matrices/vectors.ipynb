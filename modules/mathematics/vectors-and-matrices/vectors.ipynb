{
 "cells": [
  {
   "cell_type": "markdown",
   "metadata": {},
   "source": [
    "# Vetores\n",
    "Vetores e espaços vetoriais são fundamentais para a `álgebra linear` e são usados em muitos modelos de aprendizado de máquina. Os vetores descrevem linhas e planos espaciais, permitindo que você execute cálculos que exploram relacionamentos em um espaço multidimensional. "
   ]
  },
  {
   "cell_type": "markdown",
   "metadata": {},
   "source": [
    "# 1. O que é um vetor\n",
    "Na sua forma mais simples, um vetor é um elemento numérico que possui __Magnitude__ e __direção__:  \n",
    "  \n",
    " - A __magnitude__ representa uma distância (por exemplo, \"2 milhas\");  \n",
    " - A __direção__ indica para qual caminho o vetor está indo (por exemplo, \"Leste\").  \n",
    " \n",
    "Vetores são definidos por uma coordenada n-dimensional que descreve um ponto no espaço que pode ser conectado por uma linha de uma origem arbitrária.  \n",
    "  \n",
    "Tudo isso parece um pouco complicado, então vamos começar com um exemplo simples e __bidimensional (duas coordenadas - X e Y)__. Neste caso, usaremos 2 por x e 1 para y.  \n",
    "  \n",
    "Nosso vetor pode ser escrito como __v = (2,1)__, porém, mais formalmente usaríamos a seguinte notação, na qual os valores de coordenadas dimensionais para o vetor são mostrados como uma matriz:  \n",
    "  \n",
    "\\begin{equation}\\vec{v} = \\begin{bmatrix}2 \\\\ 1 \\end{bmatrix}\\end{equation}\n",
    "  \n",
    "Então o que exatamente isso significa? Bem, a coordenada é bidimensional e descreve os movimentos necessários para chegar ao ponto final (da `cabeça/head`) do vetor .\n",
    "\n",
    " - Nesse caso, precisamos mover 2 unidades na dimensão x;\n",
    " - E 1 unidade na dimensão y.\n",
    " \n",
    "Note que não especificamos um ponto de partida para o vetor - estamos simplesmente descrevendo uma coordenada de destino que encapsula o magnitide e a direção do vetor. Pense nisso como as orientações que você precisa seguir para chegar __lá__ a __partir daqui__, sem especificar em que aqui realmente é!  \n",
    "  \n",
    "É bastante simples. Nós apenas definimos um plano __bidimensional (duas coordenadas - X e Y)__, escolhemos um ponto de partida (qualquer ponto no nosso exemplo, já que não foi especificado) e plotamos a coordenada descrita pelo vetor em relação ao ponto inicial.  \n",
    "  \n",
    "Veja o código a seguir para visualizar o vetor v (que lembre-se é descrito pela coordenada (2,1))."
   ]
  },
  {
   "cell_type": "code",
   "execution_count": 8,
   "metadata": {},
   "outputs": [
    {
     "data": {
      "image/png": "[encoded data removed]",
      "text/plain": [
       "<Figure size 432x288 with 1 Axes>"
      ]
     },
     "metadata": {},
     "output_type": "display_data"
    }
   ],
   "source": [
    "%matplotlib inline\n",
    "\n",
    "# Importa as biblioteca NumPy e Matplotlib.\n",
    "import numpy as np\n",
    "import matplotlib.pyplot as plt\n",
    "\n",
    "# Cria um Vetor com a função array do NumPy.\n",
    "v = np.array([2,1])\n",
    "\n",
    "# Utiliza a função quiver() do Matplotlib para criar o plot/gráfico.\n",
    "# A função quiver() recebe 4 argumentos principais:\n",
    "# - As coordenadas iniciais do vetor - x = 0 e y = 0, no nosso caso\n",
    "# - Quantas posições o vetor vai andar - x = 1 e y =1, nosso caso - *v\n",
    "plt.quiver(0, 0, *v, scale=10, color='r')\n",
    "plt.axis('equal') # Define o dimensionamento do plot igual.\n",
    "\n",
    "plt.grid() # Adiciona um Grid no plot.\n",
    "plt.title('v = (2, 1)') # Adiciona um título no plot.\n",
    "plt.xlabel('Coordenadas - X') # Adiciona um label no eixo X.\n",
    "plt.ylabel('Coordenadas - Y') # Adiciona um label no eixo Y.\n",
    "plt.show() # Exibe o plot."
   ]
  },
  {
   "cell_type": "markdown",
   "metadata": {},
   "source": [
    "__NOTE:__  \n",
    "Note que podemos usar um array numpy para criar um vetor em Python.  \n",
    "  \n",
    "Então, para criar nosso vetor (2,1), simplesmente criamos um array numpy com os elementos [2,1]. Em seguida, usamos um plot/gráfico __quiver()__ para visualizar o vetor, `usando o ponto 0,0 como ponto de partida (ou origem)`. Nosso vetor de (2,1) é mostrado como uma seta que começa em 0,0 (inicialmente x = 0 e x = 0) e move:  \n",
    "\n",
    " - 2 unidades ao longo do eixo x (à direita);  \n",
    " - 1 unidade ao longo do eixo y (para cima)."
   ]
  },
  {
   "cell_type": "markdown",
   "metadata": {},
   "source": [
    "# 2. Calculando a magnitude e direção do vetor\n",
    "Temos a tendência de trabalhar com vetores expressando seus componentes como coordenadas cartesianas; isto é, __x__ e __y__ (e outra dimensão) valores que definem o número de unidades percorridas ao longo de cada dimensão. Assim, as coordenadas do nosso vetor (2,1) indicam que devemos percorrer 2 unidades ao longo do eixo __x__ e 1 unidade ao longo do eixo __y__.  \n",
    "  \n",
    "No entanto, você também pode trabalhar com vetores em termos de suas coordenadas polares; isto é, coordenadas que descrevem a magnitude e direção do vetor:  \n",
    "  \n",
    " - A __magnitude__ é a distância total do vetor da cauda à cabeça;  \n",
    " - A __direção__ é o ângulo no qual o vetor é orientado.\n",
    "  \n",
    "### Calculando Magnitude\n",
    "Calcular a `magnitude` do vetor a partir de suas coordenadas cartesianas requer __medir a distância entre o ponto de partida arbitrário e o ponto de cabeça do vetor__.  \n",
    "  \n",
    "Para um vetor bidimensional, na verdade, estamos apenas calculando o comprimento da hipotenusa em um triângulo retângulo - para que pudéssemos simplesmente invocar o `Teorema de Pitágoras` e calcular a raiz quadrada da soma dos quadrados de seus componentes, assim:  \n",
    "  \n",
    "\\begin{equation}\\|\\vec{v}\\| = \\sqrt{v_{1}\\;^{2} + v_{2}\\;^{2}}\\end{equation}\n",
    "  \n",
    "A notação para a magnitude de um vetor é cercar o nome do vetor com barras verticais - você pode usar barras simples (por exemplo, |__v__|) ou barras duplas (||__v__||). Barras duplas são frequentemente usadas para evitar confusão com valores absolutos. Note que os componentes do vetor são indicados por índices subscritos (v<sub>1</sub>, v<sub>2</sub>,...v<sub>*n*</sub>),  \n",
    "  \n",
    "Nesse caso, o vetor __v__ tem dois componentes com valores __2__ e __1__, então nosso cálculo de magnitude é:  \n",
    "  \n",
    "\\begin{equation}\\|\\vec{v}\\| = \\sqrt{2^{2} + 1^{2}}\\end{equation}\n",
    "  \n",
    "Qual é:  \n",
    "  \n",
    "\\begin{equation}\\|\\vec{v}\\| = \\sqrt{4 + 1}\\end{equation}\n",
    "  \n",
    "Assim:  \n",
    "  \n",
    "\\begin{equation}\\|\\vec{v}\\| = \\sqrt{5} \\approx 2.24\\end{equation}\n",
    "  \n",
    "Veja o código abaixo em Python para obter um resultado mais preciso (observe que os elementos de um array numpy são baseados em zero)"
   ]
  },
  {
   "cell_type": "code",
   "execution_count": 9,
   "metadata": {},
   "outputs": [
    {
     "name": "stdout",
     "output_type": "stream",
     "text": [
      "2.23606797749979\n"
     ]
    }
   ],
   "source": [
    "# Importa a biblioteca math para trabalhar com sqrt(),\n",
    "# funçõa para tirar a raiz quadrada de um número.\n",
    "import math\n",
    "\n",
    "# Tira a Magnitude do Vetor.\n",
    "vMag = math.sqrt(v[0]**2 + v[1]**2)\n",
    "print(vMag) # Imprime a Magnitude do Vetor."
   ]
  },
  {
   "cell_type": "markdown",
   "metadata": {},
   "source": [
    "__NOTE:__  \n",
    "Este cálculo funciona para vetores de __qualquer dimensionalidade__ - você apenas pega a raiz quadrada da soma dos componentes quadrados:\n",
    "\n",
    "\\begin{equation}\\|\\vec{v}\\| = \\sqrt{v_{1}\\;^{2} + v_{2}\\;^{2} ... + v_{n}\\;^{2}}\\end{equation}\n",
    "  \n",
    "Em Python, numpy fornece uma biblioteca de Álgebra Linear chamada __linalg__ que facilita o trabalho com vetores - você pode usar a função __norm()__ para calcular a magnitude de um vetor:"
   ]
  },
  {
   "cell_type": "code",
   "execution_count": 10,
   "metadata": {},
   "outputs": [
    {
     "name": "stdout",
     "output_type": "stream",
     "text": [
      "2.23606797749979\n"
     ]
    }
   ],
   "source": [
    "import numpy as np\n",
    "\n",
    "# Tira a Magnitude do Vetor com a função norm() da biblioteca linalg.\n",
    "vMag = np.linalg.norm(v)\n",
    "print (vMag) # Imprime a Magnitude do Vetor."
   ]
  },
  {
   "cell_type": "markdown",
   "metadata": {},
   "source": [
    "### Cálculo de direção\n",
    "  \n",
    "Para calcular a direção, ou `amplitude`, de um vetor de suas coordenadas cartesianas, você deve empregar um pouco de trigonometria. Podemos obter o ângulo do vetor calculando a `tangente inversa`; às vezes conhecido como o `arctan` (a tangente calcula um ângulo como uma razão - a tangente inversa, ou **tan<sup>-1</sup>**, expressa isso em graus).  \n",
    "  \n",
    "Em qualquer triângulo retângulo, a tangente é calculada como o `oposto` do `adjacente`. Em um vetor bidimensional, esse é o valor de `y` sobre o valor de `x`, portanto, para nosso vetor __v__ (2,1):  \n",
    "  \n",
    "\\begin{equation}tan(\\theta) = \\frac{1}{2}\\end{equation}  \n",
    "  \n",
    "Isso produz o resultado __0,5__, a partir do qual podemos usar uma calculadora para calcular a tangente inversa para obter o ângulo em graus:  \n",
    "  \n",
    "\\begin{equation}\\theta = tan^{-1} (0.5) \\approx 26.57^{o}\\end{equation}\n",
    "  \n",
    "Note que o ângulo de direção é indicado como ***&theta;***.  \n",
    "  \n",
    "Veja o seguinte código Python para confirmar isso:"
   ]
  },
  {
   "cell_type": "code",
   "execution_count": 11,
   "metadata": {},
   "outputs": [
    {
     "name": "stdout",
     "output_type": "stream",
     "text": [
      "tan = 0.5\n",
      "inverse-tan = 26.56505117707799\n"
     ]
    }
   ],
   "source": [
    "import math\n",
    "import numpy as np\n",
    "\n",
    "v = np.array([2,1]) # Cria uma representação do nosso Vetor.\n",
    "vTan = v[1] / v[0] # Calcula a tangente.\n",
    "print ('tan = ' + str(vTan)) # Imprime a tangente.\n",
    "\n",
    "vAtan = math.atan(vTan) \n",
    "print('inverse-tan = ' + str(math.degrees(vAtan)))"
   ]
  },
  {
   "cell_type": "markdown",
   "metadata": {},
   "source": [
    "# 3. Adição de Vetor\n",
    "  \n",
    "Até agora, trabalhamos com um vetor de cada vez. O que acontece quando você precisa adicionar dois vetores?  \n",
    "  \n",
    "Vamos dar uma olhada em um exemplo, já temos um vetor chamado __v__, como definido aqui:  \n",
    "  \n",
    "\\begin{equation}\\vec{v} = \\begin{bmatrix}2 \\\\ 1 \\end{bmatrix}\\end{equation}\n",
    "  \n",
    "Agora vamos criar um segundo vetor, e chamado __s__ assim:  \n",
    "  \n",
    "\\begin{equation}\\vec{s} = \\begin{bmatrix}-3 \\\\ 2 \\end{bmatrix}\\end{equation}\n",
    "  \n",
    "Veja o plot/gráfico a seguir como isso fica."
   ]
  },
  {
   "cell_type": "code",
   "execution_count": 12,
   "metadata": {
    "scrolled": true
   },
   "outputs": [
    {
     "name": "stdout",
     "output_type": "stream",
     "text": [
      "O Vetor v = [2 1] ,e o Vetor s = [-3  2].\n",
      "\n",
      "O Vetor de vetores é: \n",
      "[[ 2  1]\n",
      " [-3  2]]\n"
     ]
    },
    {
     "data": {
      "image/png": "[encoded data removed]",
      "text/plain": [
       "<Figure size 432x288 with 1 Axes>"
      ]
     },
     "metadata": {},
     "output_type": "display_data"
    }
   ],
   "source": [
    "import math\n",
    "import numpy as np\n",
    "import matplotlib.pyplot as plt\n",
    "%matplotlib inline\n",
    "\n",
    "v = np.array([2,1]) # Cria o Vetor \"v\" com array NumPy.\n",
    "s = np.array([-3,2]) # Cria o Vetor \"s\" com array NumPy.\n",
    "print('O Vetor v = {0} ,e o Vetor s = {1}.\\n'.format(v, s)) # Imprime os  Vetores \"v\" e \"s\".\n",
    "\n",
    "# Adiciona os Vetores \"v\" e \"s\" dentro de um terceiro Vetor.\n",
    "vectors = np.array([v,s])\n",
    "print('O Vetor de vetores é: \\n{}'.format(vectors)) # Imprime o Vetor de Vetores.\n",
    "\n",
    "# Cria um plot com quiver() e passa como argumento:\n",
    "# - Os pontos inicias - x = 0 e y = 0;\n",
    "# - Todo o Vetor \"v\" - vectors[:, 0];\n",
    "# - Todo o Vetor \"s\" - vectors[:, 1];\n",
    "# - as cores para cada Vetor, respectivamente;\n",
    "# - Scale - é uma forma de dimensionar dentro do plot.\n",
    "plt.quiver(0, 0, vectors[:,0], vectors[:,1], color=['r', 'b'], scale=10)\n",
    "plt.axis('equal') # Define o dimensionamento do plot igual.\n",
    "plt.grid()\n",
    "plt.show()"
   ]
  },
  {
   "cell_type": "markdown",
   "metadata": {},
   "source": [
    "Você pode ver no gráfico que os dois vetores têm diferentes direções e magnitudes. Então, o que acontece quando os adicionamos juntos?  \n",
    "  \n",
    "Aqui está a fórmula:  \n",
    "  \n",
    "\\begin{equation}\\vec{z} = \\vec{v}+\\vec{s}\\end{equation}\n",
    "  \n",
    "Em termos de nossas matrizes vetoriais, isso se parece com isto:  \n",
    "  \n",
    "\\begin{equation}\\vec{z} = \\begin{bmatrix}2 \\\\ 1 \\end{bmatrix} + \\begin{bmatrix}-3 \\\\ 2 \\end{bmatrix}\\end{equation}\n",
    "  \n",
    "Que dá o seguinte resultado:  \n",
    "  \n",
    "\\begin{equation}\\vec{z} = \\begin{bmatrix}2 \\\\ 1 \\end{bmatrix} + \\begin{bmatrix}-3 \\\\ 2 \\end{bmatrix} = \\begin{bmatrix}-1 \\\\ 3 \\end{bmatrix}\\end{equation}\n",
    "\n",
    "Vamos ver como fica isso em Python:"
   ]
  },
  {
   "cell_type": "code",
   "execution_count": 13,
   "metadata": {},
   "outputs": [
    {
     "name": "stdout",
     "output_type": "stream",
     "text": [
      "[-1  3]\n"
     ]
    }
   ],
   "source": [
    "z = v + s\n",
    "print(z)"
   ]
  },
  {
   "cell_type": "markdown",
   "metadata": {},
   "source": [
    "Então, como isso fica no nosso plot/gráfico?"
   ]
  },
  {
   "cell_type": "code",
   "execution_count": 14,
   "metadata": {},
   "outputs": [
    {
     "name": "stdout",
     "output_type": "stream",
     "text": [
      " Vetor v: [2 1]\n",
      " Vetor s: [-3  2]\n",
      " Vetor z: [-1  3]\n",
      " Vetor de vetores: \n",
      "[[ 2  1]\n",
      " [-3  2]\n",
      " [-1  3]]\n"
     ]
    },
    {
     "data": {
      "image/png": "[encoded data removed]",
      "text/plain": [
       "<Figure size 432x288 with 1 Axes>"
      ]
     },
     "metadata": {},
     "output_type": "display_data"
    }
   ],
   "source": [
    "# Adiciona mais um Vetor no nosso Vetor de vetores,\n",
    "# Ou seja, vamos ter 3 vetores agora - \"v\", \"s\" e \"z\".\n",
    "vectors = np.array([v,s,z])\n",
    "\n",
    "# Imprime os vetores \"v\", \"s\", \"s\" e o Vetor de Vetores.\n",
    "print(\" Vetor v: {0}\\n Vetor s: {1}\\n Vetor z: {2}\\n Vetor de vetores: \\n{3}\".format(v, s, z, vectors))\n",
    "\n",
    "# Cria um plot com quiver() para exibir os 3 vetores.\n",
    "plt.quiver(0, 0, vectors[:,0], vectors[:,1], color=['r', 'b', 'g'], scale=10)\n",
    "plt.axis('equal')\n",
    "plt.grid()\n",
    "plt.show()"
   ]
  },
  {
   "cell_type": "markdown",
   "metadata": {},
   "source": [
    "Então, o que está acontecendo aqui?  \n",
    "  \n",
    "Bem, adicionamos as dimensões de __s__ às dimensões de __v__ para descrever um novo vetor __z__. Vamos quebrar isso:  \n",
    "  \n",
    " - As dimensões de __v__ são (2,1), portanto, a partir do nosso ponto de partida, movemos 2 unidades na dimensão `x` (transversalmente para a direita) e 1 unidade na dimensão `y` (para cima). No plot/gráfico, se você começar na posição (0,0), isso é mostrado como a seta vermelha.  \n",
    " - Então estamos adicionando __s__, que tem valores de dimensão (-3, 2), então movemos -3 unidades na dimensão `x` (transversal à esquerda, porque é um número negativo) e depois 2 unidades na dimensão `y` (acima ).  \n",
    "   - __No plot/gráfico, se você começar na ponta da flecha vermelha e fizer esses movimentos, você terminará na ponta da flecha verde, que representa z__.  \n",
    "  \n",
    "O mesmo acontece se você executar a operação de adição ao contrário e adicionar __v__ a __s__, as etapas para criar __s__ são descritas pela seta azul e, se você usá-la como ponto de partida para __v__, terminará em a cabeça da seta verde, que representa __z__.  \n",
    "  \n",
    "Note no enredo que se você simplesmente movesse a cauda da flecha azul para que ela começasse na ponta da flecha vermelha, sua cabeça terminaria no mesmo lugar que a cabeça da flecha verde; e o mesmo seria verdade se você movesse o rabo da flecha vermelha para a ponta da flecha azul."
   ]
  }
 ],
 "metadata": {
  "kernelspec": {
   "display_name": "Python 3",
   "language": "python",
   "name": "python3"
  },
  "language_info": {
   "codemirror_mode": {
    "name": "ipython",
    "version": 3
   },
   "file_extension": ".py",
   "mimetype": "text/x-python",
   "name": "python",
   "nbconvert_exporter": "python",
   "pygments_lexer": "ipython3",
   "version": "3.4.2"
  }
 },
 "nbformat": 4,
 "nbformat_minor": 2
}
