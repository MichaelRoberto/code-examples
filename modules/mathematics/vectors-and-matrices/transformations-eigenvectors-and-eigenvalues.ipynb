{
 "cells": [
  {
   "cell_type": "markdown",
   "metadata": {},
   "source": [
    "# Transformações, autovetores e autovalores\n",
    "Matrizes e vetores são usados ​​juntos para manipular as dimensões espaciais. Isso tem muitas aplicações, incluindo a geração matemática de computação gráfica 3D, modelagem geométrica e o treinamento e otimização de algoritmos de *Machine Learning*. Nós não vamos cobrir o assunto exaustivamente aqui; mas nos concentraremos em alguns conceitos-chave úteis para saber quando você planejar trabalhar com *Machine Learning*."
   ]
  },
  {
   "cell_type": "markdown",
   "metadata": {
    "collapsed": true
   },
   "source": [
    "# 1. Transformações Lineares\n",
    "  \n",
    "Você pode manipular um vetor multiplicando-o por uma matriz. A matriz atua como uma função que opera em um vetor de entrada para produzir uma saída de vetor. Especificamente, as multiplicações de matriz de vetores são transformações lineares que transformam o vetor de entrada no vetor de saída.  \n",
    "  \n",
    "Por exemplo, considere esta matriz __A__ e vetor __v__:  \n",
    "  \n",
    "$$ A = \\begin{bmatrix}2 & 3\\\\5 & 2\\end{bmatrix} \\;\\;\\;\\; \\vec{v} = \\begin{bmatrix}1\\\\2\\end{bmatrix}$$\n",
    "  \n",
    "Podemos definir uma transformação __T__ assim:  \n",
    "  \n",
    "$$ T(\\vec{v}) = A\\vec{v} $$\n",
    "  \n",
    "Para realizar essa transformação, simplesmente calculamos o produto escalar aplicando a regra *RC*; multiplicando cada linha da matriz pela coluna única do vetor:  \n",
    "  \n",
    "$$\\begin{bmatrix}2 & 3\\\\5 & 2\\end{bmatrix} \\cdot  \\begin{bmatrix}1\\\\2\\end{bmatrix} = \\begin{bmatrix}8\\\\9\\end{bmatrix}$$\n",
    "  \n",
    "Veja como fica em Python:"
   ]
  },
  {
   "cell_type": "code",
   "execution_count": 1,
   "metadata": {},
   "outputs": [
    {
     "name": "stdout",
     "output_type": "stream",
     "text": [
      "[8 9]\n"
     ]
    }
   ],
   "source": [
    "import numpy as np\n",
    "\n",
    "# Cria o Vetor v.\n",
    "v = np.array([1,2])\n",
    "\n",
    "# Cria a Matriz A.\n",
    "A = np.array([[2,3],\n",
    "              [5,2]])\n",
    "\n",
    "t = np.dot(A, v) # aplica a multiplicação.\n",
    "print(t) # Imprime o resultado."
   ]
  },
  {
   "cell_type": "markdown",
   "metadata": {},
   "source": [
    "Nesse caso, tanto o vetor de entrada quanto o vetor de saída têm dois componentes - em outras palavras, a transformação assume um vetor bidimensional e produz um novo vetor bidimensional; que podemos indicar assim:  \n",
    "  \n",
    "$$ T: \\rm I\\!R^{2} \\to \\rm I\\!R^{2} $$\n",
    "  \n",
    "Observe que o vetor de saída pode ter um número diferente de dimensões do vetor de entrada; então a função matriz pode transformar o vetor de um espaço para outro - ou em notação, ${\\rm I\\!R}$<sup>n</sup> -> ${\\rm I\\!R}$<sup>m</sup>.  \n",
    "  \n",
    "Por exemplo, vamos redefinir a matriz __A__, mantendo a definição original do vetor __v__:  \n",
    "  \n",
    "$$ A = \\begin{bmatrix}2 & 3\\\\5 & 2\\\\1 & 1\\end{bmatrix} \\;\\;\\;\\; \\vec{v} = \\begin{bmatrix}1\\\\2\\end{bmatrix}$$\n",
    "  \n",
    "Agora, se mais uma vez definirmos __T__ assim:  \n",
    "  \n",
    "$$ T(\\vec{v}) = A\\vec{v} $$\n",
    "  \n",
    "Aplicamos a transformação assim:  \n",
    "  \n",
    "$$\\begin{bmatrix}2 & 3\\\\5 & 2\\\\1 & 1\\end{bmatrix} \\cdot  \\begin{bmatrix}1\\\\2\\end{bmatrix} = \\begin{bmatrix}8\\\\9\\\\3\\end{bmatrix}$$\n",
    "  \n",
    "Então, agora, nossa transformação transforma o vetor do espaço bidimensional em espaço tridimensional:  \n",
    "  \n",
    "$$ T: \\rm I\\!R^{2} \\to \\rm I\\!R^{3} $$\n",
    "  \n",
    "Veja como fica isso em Python:"
   ]
  },
  {
   "cell_type": "code",
   "execution_count": 2,
   "metadata": {},
   "outputs": [
    {
     "name": "stdout",
     "output_type": "stream",
     "text": [
      "[8 9 3]\n"
     ]
    }
   ],
   "source": [
    "import numpy as np\n",
    "\n",
    "# Cria o Vetor v.\n",
    "v = np.array([1,2])\n",
    "\n",
    "# Cria a Matriz A.\n",
    "A = np.array([[2,3],\n",
    "              [5,2],\n",
    "              [1,1]])\n",
    "\n",
    "\n",
    "t = np.dot(A, v) # Aplica a multiplicação.\n",
    "print(t) # Imprime o resultado."
   ]
  },
  {
   "cell_type": "markdown",
   "metadata": {},
   "source": [
    "# 2. Transformações de magnitude e amplitude\n",
    "  \n",
    "Quando você multiplica um vetor por uma matriz, você o transforma em pelo menos uma das duas maneiras a seguir:  \n",
    "  \n",
    " - Escala o comprimento __(magnitude)__ da matriz para torná-la mais longa ou mais curta;  \n",
    " - Alterar a direção __(amplitude)__ da matriz.  \n",
    "  \n",
    "Por exemplo, considere a seguinte matriz e vetor:  \n",
    "  \n",
    "$$ A = \\begin{bmatrix}2 & 0\\\\0 & 2\\end{bmatrix} \\;\\;\\;\\; \\vec{v} = \\begin{bmatrix}1\\\\0\\end{bmatrix}$$\n",
    "  \n",
    "Como antes, transformamos o vetor __v__ multiplicando-o com a matriz __A__:  \n",
    "  \n",
    "\\begin{equation}\\begin{bmatrix}2 & 0\\\\0 & 2\\end{bmatrix} \\cdot  \\begin{bmatrix}1\\\\0\\end{bmatrix} = \\begin{bmatrix}2\\\\0\\end{bmatrix}\\end{equation}\n",
    "  \n",
    "Neste caso, o vetor resultante mudou em comprimento __(magnitude)__, mas não mudou sua direção __(amplitude)__.  \n",
    "  \n",
    "Vamos visualizar isso em Python:"
   ]
  },
  {
   "cell_type": "code",
   "execution_count": 3,
   "metadata": {},
   "outputs": [
    {
     "name": "stdout",
     "output_type": "stream",
     "text": [
      "[2 0]\n"
     ]
    },
    {
     "data": {
      "image/png": "[encoded data removed]",
      "text/plain": [
       "<Figure size 432x288 with 1 Axes>"
      ]
     },
     "metadata": {},
     "output_type": "display_data"
    }
   ],
   "source": [
    "import numpy as np\n",
    "import matplotlib.pyplot as plt\n",
    "%matplotlib inline\n",
    "\n",
    "# Cria o Vetor v.\n",
    "v = np.array([1,0])\n",
    "\n",
    "# Cria a Matriz A.\n",
    "A = np.array([[2,0],\n",
    "              [0,2]])\n",
    "\n",
    "# Aplica a multiplicação.\n",
    "t = np.dot(A, v)\n",
    "print(t) # Imprime o resultado da multiplicação.\n",
    "\n",
    "# Cria um vetor que vai receber:\n",
    "# - O resultado do vetor v multiplocado pelo a Matriz A.\n",
    "# - E o Vetor v.\n",
    "vecs = np.array([t,v])\n",
    "\n",
    "# Cria um plot/gráfico para demonstrar como fica isso na prática.\n",
    "plt.quiver(0, 0, vecs[:,0], vecs[:,1], color=['blue', 'orange'], scale=10)\n",
    "plt.ticklabel_format(style='sci', axis='both', scilimits=(0,0))\n",
    "plt.axis('equal')\n",
    "plt.grid()\n",
    "plt.show()"
   ]
  },
  {
   "cell_type": "markdown",
   "metadata": {},
   "source": [
    "O vetor original __v__ é mostrado em laranja, e o vetor transformado __t__ é mostrado em azul - note que __t__ tem a mesma direção (*amplitude*) que __v__ mas um comprimento maior (*magnitude*).  \n",
    "  \n",
    "Agora vamos usar uma matriz diferente para transformar o vetor __v__:  \n",
    "  \n",
    "\\begin{equation}\\begin{bmatrix}0 & -1\\\\1 & 0\\end{bmatrix} \\cdot  \\begin{bmatrix}1\\\\0\\end{bmatrix} = \\begin{bmatrix}0\\\\1\\end{bmatrix}\\end{equation}\n",
    "  \n",
    "Desta vez, o vetor resultante foi alterado para uma *amplitude* diferente - __Mas tem a mesma magnitude__.  \n",
    "  \n",
    "Vamos ver como fica isso em Python:"
   ]
  },
  {
   "cell_type": "code",
   "execution_count": 4,
   "metadata": {},
   "outputs": [
    {
     "name": "stdout",
     "output_type": "stream",
     "text": [
      "[0 1]\n"
     ]
    },
    {
     "data": {
      "image/png": "[encoded data removed]",
      "text/plain": [
       "<Figure size 432x288 with 1 Axes>"
      ]
     },
     "metadata": {},
     "output_type": "display_data"
    }
   ],
   "source": [
    "import numpy as np\n",
    "import matplotlib.pyplot as plt\n",
    "%matplotlib inline\n",
    "\n",
    "# Cria o Vetor v.\n",
    "v = np.array([1,0])\n",
    "\n",
    "# Cria a Matriz A.\n",
    "A = np.array([[0,-1],\n",
    "              [1,0]])\n",
    "\n",
    "# Aplica a multiplicação.\n",
    "t = np.dot(A, v)\n",
    "print(t) # Imprime o resultado da multiplicação.\n",
    "vecs = np.array([v,t]) # Salva o Vetor \"v\" e \"t\".\n",
    "\n",
    "# Cria um plot/gráfico para demonstrar como fica isso na prática.\n",
    "plt.axis('equal')\n",
    "plt.grid()\n",
    "plt.ticklabel_format(style='sci', axis='both', scilimits=(0,0))\n",
    "plt.quiver(0, 0, vecs[:,0], vecs[:,1], color=['orange', 'blue'], scale=10)\n",
    "plt.show()"
   ]
  },
  {
   "cell_type": "markdown",
   "metadata": {},
   "source": [
    "Agora vamos mudar a matriz mais uma vez:  \n",
    "  \n",
    "\\begin{equation}\\begin{bmatrix}2 & 1\\\\1 & 2\\end{bmatrix} \\cdot  \\begin{bmatrix}1\\\\0\\end{bmatrix} = \\begin{bmatrix}2\\\\1\\end{bmatrix}\\end{equation}\n",
    "  \n",
    "Agora, nosso vetor resultante foi transformado em uma nova amplitude *e* magnitude - a transformação afetou a direção e a escala. Veja como fica em Python:"
   ]
  },
  {
   "cell_type": "code",
   "execution_count": 5,
   "metadata": {},
   "outputs": [
    {
     "name": "stdout",
     "output_type": "stream",
     "text": [
      "[2 1]\n"
     ]
    },
    {
     "data": {
      "image/png": "[encoded data removed]",
      "text/plain": [
       "<Figure size 432x288 with 1 Axes>"
      ]
     },
     "metadata": {},
     "output_type": "display_data"
    }
   ],
   "source": [
    "import numpy as np\n",
    "import matplotlib.pyplot as plt\n",
    "%matplotlib inline\n",
    "\n",
    "v = np.array([1,0])\n",
    "A = np.array([[2,1],\n",
    "              [1,2]])\n",
    "\n",
    "t = np.dot(A, v)\n",
    "print(t)\n",
    "vecs = np.array([v,t])\n",
    "\n",
    "# Cria o plot/gráfico para representa nosso exemplo.\n",
    "plt.axis('equal')\n",
    "plt.grid()\n",
    "plt.ticklabel_format(style='sci', axis='both', scilimits=(0,0))\n",
    "plt.quiver(0, 0, vecs[:,0], vecs[:,1], color=['orange', 'blue'], scale=10)\n",
    "plt.show()"
   ]
  },
  {
   "cell_type": "markdown",
   "metadata": {},
   "source": [
    "# 3. Transformações Afim\n",
    "  \n",
    "Uma transformação Afim multiplica um vetor por uma matriz e adiciona um vetor de deslocamento, às vezes chamado de *polarização (bias)*; como isso:  \n",
    "  \n",
    "$$T(\\vec{v}) = A\\vec{v} + \\vec{b}$$\n",
    "\n",
    "Por exemplo:  \n",
    "  \n",
    "\\begin{equation}\\begin{bmatrix}5 & 2\\\\3 & 1\\end{bmatrix} \\cdot  \\begin{bmatrix}1\\\\1\\end{bmatrix} + \\begin{bmatrix}-2\\\\-6\\end{bmatrix} = \\begin{bmatrix}5\\\\-2\\end{bmatrix}\\end{equation}\n",
    "  \n",
    "Esse tipo de transformação é, na verdade, a base da __regressão linear__, que é uma base fundamental para Machine Learning. A matriz define as *características*, o primeiro vetor é os *coeficientes* e o vetor de polarização é o *intercepto*.  \n",
    "  \n",
    "Aqui está um exemplo de uma transformação Afim em Python:"
   ]
  },
  {
   "cell_type": "code",
   "execution_count": 6,
   "metadata": {},
   "outputs": [
    {
     "name": "stdout",
     "output_type": "stream",
     "text": [
      "[ 5 -2]\n"
     ]
    },
    {
     "data": {
      "image/png": "[encoded data removed]",
      "text/plain": [
       "<Figure size 432x288 with 1 Axes>"
      ]
     },
     "metadata": {},
     "output_type": "display_data"
    }
   ],
   "source": [
    "import numpy as np\n",
    "import matplotlib.pyplot as plt\n",
    "%matplotlib inline\n",
    "\n",
    "v = np.array([1,1])\n",
    "A = np.array([[5,2],\n",
    "              [3,1]])\n",
    "b = np.array([-2,-6])\n",
    "\n",
    "t = np.dot(A, v) + b\n",
    "print(t)\n",
    "vecs = np.array([v,t])\n",
    "\n",
    "# Cria um plot/gráfico para desenhar o exemplo.\n",
    "plt.quiver(0, 0, vecs[:,0], vecs[:,1], color=['orange', 'blue'], scale=15)\n",
    "plt.ticklabel_format(style='sci', axis='both', scilimits=(0,0))\n",
    "plt.axis('equal')\n",
    "plt.grid()\n",
    "plt.show()"
   ]
  },
  {
   "cell_type": "markdown",
   "metadata": {},
   "source": [
    "# 4. Autovetores e autovalores\n",
    "  \n",
    "Assim, podemos ver que quando você transforma um vetor usando uma matriz, mudamos sua direção, comprimento ou ambos. Quando a transformação afeta apenas a escala (em outras palavras, o vetor de saída tem uma magnitude diferente, mas a mesma amplitude que o vetor de entrada), a multiplicação da matriz para a transformação é a operação equivalente a alguma multiplicação escalar do vetor.  \n",
    "  \n",
    "Por exemplo, anteriormente examinamos a seguinte transformação que multiplica um vetor por uma matriz:  \n",
    "  \n",
    "$$\\begin{bmatrix}2 & 0\\\\0 & 2\\end{bmatrix} \\cdot  \\begin{bmatrix}1\\\\0\\end{bmatrix} = \\begin{bmatrix}2\\\\0\\end{bmatrix}$$\n",
    "  \n",
    "Você pode obter o mesmo resultado multiplicando o vetor pelo valor escalar __2__:  \n",
    "  \n",
    "$$2 \\times \\begin{bmatrix}1\\\\0\\end{bmatrix} = \\begin{bmatrix}2\\\\0\\end{bmatrix}$$\n",
    "  \n",
    "O python a seguir executa esses dois cálculos e mostra os resultados, que são idênticos."
   ]
  },
  {
   "cell_type": "code",
   "execution_count": 7,
   "metadata": {},
   "outputs": [
    {
     "name": "stdout",
     "output_type": "stream",
     "text": [
      "[2 0]\n",
      "[2 0]\n"
     ]
    },
    {
     "data": {
      "image/png": "[encoded data removed]",
      "text/plain": [
       "<Figure size 432x288 with 1 Axes>"
      ]
     },
     "metadata": {},
     "output_type": "display_data"
    },
    {
     "data": {
      "image/png": "[encoded data removed]",
      "text/plain": [
       "<Figure size 432x288 with 1 Axes>"
      ]
     },
     "metadata": {},
     "output_type": "display_data"
    }
   ],
   "source": [
    "import numpy as np\n",
    "import matplotlib.pyplot as plt\n",
    "%matplotlib inline\n",
    "\n",
    "v = np.array([1,0])\n",
    "A = np.array([[2,0],\n",
    "              [0,2]])\n",
    "\n",
    "t1 = np.dot(A, v)\n",
    "print (t1)\n",
    "t2 = 2*v\n",
    "print (t2)\n",
    "\n",
    "fig = plt.figure()\n",
    "a=fig.add_subplot(1,1,1)\n",
    "\n",
    "# Cria o primeiro plot/gráfico.\n",
    "vecs = np.array([t1,v])\n",
    "plt.quiver(0, 0, vecs[:,0], vecs[:,1], color=['blue', 'orange'], scale=10)\n",
    "plt.ticklabel_format(style='sci', axis='both', scilimits=(0,0))\n",
    "plt.axis('equal')\n",
    "plt.grid()\n",
    "plt.show()\n",
    "a=fig.add_subplot(1,2,1)\n",
    "\n",
    "# Cria o segundo plot/gráfico.\n",
    "vecs = np.array([t2,v])\n",
    "plt.quiver(0, 0, vecs[:,0], vecs[:,1], color=['blue', 'orange'], scale=10)\n",
    "plt.ticklabel_format(style='sci', axis='both', scilimits=(0,0))\n",
    "plt.axis('equal')\n",
    "plt.grid()\n",
    "plt.show()"
   ]
  },
  {
   "cell_type": "markdown",
   "metadata": {},
   "source": [
    "Em casos como estes, onde uma transformação de matriz é o equivalente de uma multiplicação de vetor escalar, os pares de vetor escalar que correspondem à matriz são conhecidos respectivamente como autovalores e autovetores. Geralmente, indicamos autovalores usando a letra grega lambda (&lambda;), e a fórmula que define autovalores e autovetores em relação a uma transformação é:  \n",
    "  \n",
    "$$ T(\\vec{v}) = \\lambda\\vec{v}$$  \n",
    "  \n",
    "Onde o vetor __v__ é um autovetor e o valor de ***&lambda;*** é um valor próprio para a transformação __T__.  \n",
    "  \n",
    "Quando a transformação __T__ é representada como uma multiplicação de matrizes, como neste caso, onde a transformação é representada pela matriz __A__:  \n",
    "  \n",
    "$$ T(\\vec{v}) = A\\vec{v} = \\lambda\\vec{v}$$\n",
    "  \n",
    "Então __v__ é um autovetor e ***&lambda;*** é um autovalor de __A__.  \n",
    "  \n",
    "Uma matriz pode ter vários pares de autovetores e autovalores, e você pode calculá-los manualmente. No entanto, geralmente é mais fácil usar uma ferramenta ou linguagem de programação. Por exemplo, em Python você pode usar a função ***np.linalg.eig()***, que retorna um array de autovalores e uma matriz dos autovetores correspondentes para a matriz especificada.  \n",
    "  \n",
    "Aqui está um exemplo que retorna os pares de autovalores e autovetores para a seguinte matriz:  \n",
    "  \n",
    "$$A=\\begin{bmatrix}2 & 0\\\\0 & 3\\end{bmatrix}$$"
   ]
  },
  {
   "cell_type": "code",
   "execution_count": 8,
   "metadata": {},
   "outputs": [
    {
     "name": "stdout",
     "output_type": "stream",
     "text": [
      "[2. 3.]\n",
      "[[1. 0.]\n",
      " [0. 1.]]\n"
     ]
    }
   ],
   "source": [
    "import numpy as np\n",
    "\n",
    "A = np.array([[2,0],\n",
    "              [0,3]])\n",
    "\n",
    "eVals, eVecs = np.linalg.eig(A)\n",
    "print(eVals)\n",
    "print(eVecs)"
   ]
  },
  {
   "cell_type": "markdown",
   "metadata": {},
   "source": [
    "Portanto, há dois pares de autovetores e valores próprios para essa matriz, como mostrado aqui:  \n",
    "  \n",
    "$$ \\lambda_{1} = 2, \\vec{v_{1}} = \\begin{bmatrix}1 \\\\ 0\\end{bmatrix}  \\;\\;\\;\\;\\;\\; \\lambda_{2} = 3, \\vec{v_{2}} = \\begin{bmatrix}0 \\\\ 1\\end{bmatrix} $$\n",
    "  \n",
    "Vamos verificar que multiplicar cada par autovalor e autovetor corresponde ao ponto-produto do autovetor e da matriz. Aqui está o primeiro par:  \n",
    "  \n",
    "$$ 2 \\times \\begin{bmatrix}1 \\\\ 0\\end{bmatrix} = \\begin{bmatrix}2 \\\\ 0\\end{bmatrix}  \\;\\;\\;and\\;\\;\\; \\begin{bmatrix}2 & 0\\\\0 & 3\\end{bmatrix} \\cdot \\begin{bmatrix}1 \\\\ 0\\end{bmatrix} = \\begin{bmatrix}2 \\\\ 0\\end{bmatrix} $$\n",
    "  \n",
    "Por enquanto, tudo bem. Agora vamos verificar o segundo par:  \n",
    "  \n",
    "$$ 3 \\times \\begin{bmatrix}0 \\\\ 1\\end{bmatrix} = \\begin{bmatrix}0 \\\\ 3\\end{bmatrix}  \\;\\;\\;and\\;\\;\\; \\begin{bmatrix}2 & 0\\\\0 & 3\\end{bmatrix} \\cdot \\begin{bmatrix}0 \\\\ 1\\end{bmatrix} = \\begin{bmatrix}0 \\\\ 3\\end{bmatrix} $$\n",
    "  \n",
    "Portanto, nossas multiplicações escalares de autovetor com autovetor correspondem de fato a nossas transformações de produto de ponto de autovetor com matriz.  \n",
    "  \n",
    "Veja o código a seguir que exemplifica isso:"
   ]
  },
  {
   "cell_type": "code",
   "execution_count": 9,
   "metadata": {},
   "outputs": [
    {
     "name": "stdout",
     "output_type": "stream",
     "text": [
      "Matrix A:\n",
      "[[2 0]\n",
      " [0 3]]\n",
      "-------\n",
      "lam1: 2.0\n",
      "v1: [1. 0.]\n",
      "Av1: [2. 0.]\n",
      "lam1 x v1: [2. 0.]\n",
      "-------\n",
      "lam2: 3.0\n",
      "v2: [0. 1.]\n",
      "Av2: [0. 3.]\n",
      "lam2 x v2: [0. 3.]\n"
     ]
    }
   ],
   "source": [
    "vec1 = eVecs[:,0]\n",
    "lam1 = eVals[0]\n",
    "\n",
    "print('Matrix A:')\n",
    "print(A)\n",
    "print('-------')\n",
    "\n",
    "print('lam1: ' + str(lam1))\n",
    "print ('v1: ' + str(vec1))\n",
    "print ('Av1: ' + str(A.dot(vec1)))\n",
    "print ('lam1 x v1: ' + str(lam1*vec1))\n",
    "\n",
    "print('-------')\n",
    "\n",
    "vec2 = eVecs[:,1]\n",
    "lam2 = eVals[1]\n",
    "\n",
    "print('lam2: ' + str(lam2))\n",
    "print ('v2: ' + str(vec2))\n",
    "print ('Av2: ' + str(A.dot(vec2)))\n",
    "print ('lam2 x v2: ' + str(lam2*vec2))"
   ]
  },
  {
   "cell_type": "markdown",
   "metadata": {},
   "source": [
    "Você pode usar o seguinte código para visualizar essas transformações:"
   ]
  },
  {
   "cell_type": "code",
   "execution_count": 10,
   "metadata": {},
   "outputs": [
    {
     "name": "stdout",
     "output_type": "stream",
     "text": [
      "[2. 0.]\n",
      "[0. 3.]\n"
     ]
    },
    {
     "data": {
      "image/png": "[encoded data removed]",
      "text/plain": [
       "<Figure size 432x288 with 1 Axes>"
      ]
     },
     "metadata": {},
     "output_type": "display_data"
    },
    {
     "data": {
      "image/png": "[encoded data removed]",
      "text/plain": [
       "<Figure size 432x288 with 1 Axes>"
      ]
     },
     "metadata": {},
     "output_type": "display_data"
    }
   ],
   "source": [
    "t1 = lam1*vec1\n",
    "print (t1)\n",
    "t2 = lam2*vec2\n",
    "print (t2)\n",
    "\n",
    "fig = plt.figure()\n",
    "a=fig.add_subplot(1,1,1)\n",
    "\n",
    "# Plot v and t1\n",
    "vecs = np.array([t1,vec1])\n",
    "plt.axis('equal')\n",
    "plt.grid()\n",
    "plt.ticklabel_format(style='sci', axis='both', scilimits=(0,0))\n",
    "plt.quiver(0, 0, vecs[:,0], vecs[:,1], color=['blue', 'orange'], scale=10)\n",
    "plt.show()\n",
    "a=fig.add_subplot(1,2,1)\n",
    "\n",
    "# Plot v and t2\n",
    "vecs = np.array([t2,vec2])\n",
    "plt.axis('equal')\n",
    "plt.grid()\n",
    "plt.ticklabel_format(style='sci', axis='both', scilimits=(0,0))\n",
    "plt.quiver(0, 0, vecs[:,0], vecs[:,1], color=['blue', 'orange'], scale=10)\n",
    "plt.show()"
   ]
  }
 ],
 "metadata": {
  "kernelspec": {
   "display_name": "Python 3",
   "language": "python",
   "name": "python3"
  },
  "language_info": {
   "codemirror_mode": {
    "name": "ipython",
    "version": 3
   },
   "file_extension": ".py",
   "mimetype": "text/x-python",
   "name": "python",
   "nbconvert_exporter": "python",
   "pygments_lexer": "ipython3",
   "version": "3.4.2"
  }
 },
 "nbformat": 4,
 "nbformat_minor": 2
}
