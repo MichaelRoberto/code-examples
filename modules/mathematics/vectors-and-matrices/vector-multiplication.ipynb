{
 "cells": [
  {
   "cell_type": "markdown",
   "metadata": {},
   "source": [
    "# Multiplicação vetorial"
   ]
  },
  {
   "cell_type": "markdown",
   "metadata": {},
   "source": [
    "# 1. Multiplicação escalar\n",
    "Vamos começar com a Multiplicação `Escalar` - em outras palavras, multiplicando um vetor por um único valor numérico.  \n",
    "  \n",
    "Suponha que eu queira multiplicar meu vetor por 2, o que eu poderia escrever assim:  \n",
    "  \n",
    "\\begin{equation} \\vec{w} = 2\\vec{v}\\end{equation}\n",
    "  \n",
    "Observe que o resultado desse cálculo é um novo vetor chamado __w__. Então, como calcularíamos isso? Lembre-se de que __v__ é definido assim:  \n",
    "  \n",
    "\\begin{equation}\\vec{v} = \\begin{bmatrix}2 \\\\ 1 \\end{bmatrix}\\end{equation}\n",
    "  \n",
    "Para calcular 2v, basta aplicar a operação para cada valor de dimensão na matriz vetorial, assim:  \n",
    "  \n",
    "\\begin{equation}\\vec{w} = \\begin{bmatrix}2 \\cdot 2 \\\\  2 \\cdot 1 \\end{bmatrix}\\end{equation}\n",
    "  \n",
    "Qual nos dá o seguinte resultado:  \n",
    "  \n",
    "\\begin{equation}\\vec{w} = \\begin{bmatrix}2 \\cdot 2 \\\\  2 \\cdot 1 \\end{bmatrix} = \\begin{bmatrix}4 \\\\ 2 \\end{bmatrix}\\end{equation}\n",
    "  \n",
    "Em Python, você pode aplicar esse tipo de operações de vetor diretamente a matrizes numpy, então podemos simplesmente calcular __w__ assim:"
   ]
  },
  {
   "cell_type": "code",
   "execution_count": 1,
   "metadata": {},
   "outputs": [
    {
     "name": "stdout",
     "output_type": "stream",
     "text": [
      " Vetor v: [2 1]\n",
      " Vetor multiplicado w: [4 2]\n",
      "\n"
     ]
    },
    {
     "data": {
      "image/png": "[encoded data removed]",
      "text/plain": [
       "<Figure size 432x288 with 1 Axes>"
      ]
     },
     "metadata": {},
     "output_type": "display_data"
    }
   ],
   "source": [
    "%matplotlib inline\n",
    "import numpy as np\n",
    "import matplotlib.pyplot as plt\n",
    "import math\n",
    "\n",
    "v = np.array([2,1]) # Cria o Vetor do nosso exemplo.\n",
    "w = 2 * v # Faz uma multiplicação Escalar - Por 2.\n",
    "print(' Vetor v: {0}\\n Vetor multiplicado w: {1}\\n'.format(v, w)) # Imprime o Vetor multiplicado.\n",
    "\n",
    "# Cria um plot/gráfico com quiver() para exibir o vetor multiplicado.\n",
    "plt.quiver(0, 0, *w, scale=10)\n",
    "plt.axis('equal')\n",
    "plt.grid()\n",
    "plt.show()"
   ]
  },
  {
   "cell_type": "markdown",
   "metadata": {},
   "source": [
    "__NOTE:__  \n",
    "A mesma abordagem é adotada para a divisão escalar.\n",
    "\n",
    "\\begin{equation}\\vec{b} = \\frac{\\vec{v}}{2}\\end{equation}"
   ]
  },
  {
   "cell_type": "code",
   "execution_count": 2,
   "metadata": {},
   "outputs": [
    {
     "name": "stdout",
     "output_type": "stream",
     "text": [
      "[1.  0.5]\n"
     ]
    },
    {
     "data": {
      "image/png": "[encoded data removed]",
      "text/plain": [
       "<Figure size 432x288 with 1 Axes>"
      ]
     },
     "metadata": {},
     "output_type": "display_data"
    }
   ],
   "source": [
    "b = v / 2 # Divide o Vetor \"v\" por 2 - Scale.\n",
    "print(b) # Imprime o Vetor dividido.\n",
    "\n",
    "# Cria um plot/gráfico com quiver() para exibir o vetor dividido.\n",
    "plt.quiver(0, 0, *b, scale=10)\n",
    "plt.axis('equal')\n",
    "plt.grid()\n",
    "plt.show()"
   ]
  },
  {
   "cell_type": "markdown",
   "metadata": {},
   "source": [
    "# 2. Multiplicação de Produtos - (dot)\n",
    "Então, vimos como multiplicar um vetor por um escalar. Que tal multiplicar dois vetores juntos? Na verdade, existem duas maneiras de fazer isso, dependendo se você deseja que o resultado seja:  \n",
    "  \n",
    " - Um produto escalar (em outras palavras, um número)  \n",
    " - Um produto vetorial (um vetor).  \n",
    "  \n",
    "Para obter um produto escalar, calculamos o `produto escalar`. Isso leva uma abordagem semelhante à multiplicação de um vetor por um escalar, exceto que ele multiplica cada par de componentes dos vetores e soma os resultados. Para indicar que estamos executando uma operação de produto escalar, usamos o operador &bull;:  \n",
    "  \n",
    "\\begin{equation} \\vec{v} \\cdot \\vec{s} = (v_{1} \\cdot s_{1}) + (v_{2} \\cdot s_{2}) ... + \\; (v_{n} \\cdot s_{n})\\end{equation}\n",
    "  \n",
    "Então, para nossos vetores __v__ (2,1) e __s__ (-3,2), nosso cálculo se parece com isto:  \n",
    "  \n",
    "\\begin{equation} \\vec{v} \\cdot \\vec{s} = (2 \\cdot -3) + (1 \\cdot 2) = -6 + 2 = -4\\end{equation}\n",
    "  \n",
    "Portanto, o produto escalar de __v__ &bull; __s__ é __-4__.  \n",
    "  \n",
    "Em Python junto com o NumPy você pode utilizar a função __dot()__ para calcular esse tipo de problema."
   ]
  },
  {
   "cell_type": "code",
   "execution_count": 3,
   "metadata": {},
   "outputs": [
    {
     "name": "stdout",
     "output_type": "stream",
     "text": [
      "-4\n"
     ]
    }
   ],
   "source": [
    "# Importa a biblioteca NumPy.\n",
    "import numpy as np\n",
    "\n",
    "# Cria os vetores \"v\" e \"s\".\n",
    "v = np.array([2,1])\n",
    "s = np.array([-3,2])\n",
    "\n",
    "# Calcula o produto dos vetores com a função dot().\n",
    "d = np.dot(v,s)\n",
    "\n",
    "# Imprime o Vetor calculado.\n",
    "print (d)"
   ]
  },
  {
   "cell_type": "markdown",
   "metadata": {},
   "source": [
    "# 3. Multiplicação cruzada de produtos - (cross)\n",
    "  \n",
    "Para obter o `produto vetorial` de multiplicar dois vetores juntos, você deve calcular o `produto cruzado`. O resultado disso é um novo vetor que está em ângulo reto com ambos os outros vetores no espaço Euclidiano 3D. Isso significa que o produto cruzado só faz sentido ao trabalhar com vetores que contêm três componentes.  \n",
    "  \n",
    "Por exemplo, vamos supor que temos os seguintes vetores:  \n",
    "  \n",
    "\\begin{equation}\\vec{p} = \\begin{bmatrix}2 \\\\ 3 \\\\ 1 \\end{bmatrix}\\;\\; \\vec{q} = \\begin{bmatrix}1 \\\\ 2 \\\\ -2 \\end{bmatrix}\\end{equation}\n",
    "  \n",
    "Para calcular o produto cruzado destes vectores, escritos como __p__ x __q__, é necessário criar um novo vector (chamemos-lhe __r__) com três componentes (r<sub>1</sub>, r<sub>2</sub>, and r<sub>3</sub>). Os valores para esses componentes são calculados da seguinte forma:  \n",
    "  \n",
    "\\begin{equation}r_{1} = p_{2}q_{3} - p_{3}q_{2}\\end{equation}\n",
    "\\begin{equation}r_{2} = p_{3}q_{1} - p_{1}q_{3}\\end{equation}\n",
    "\\begin{equation}r_{3} = p_{1}q_{2} - p_{2}q_{1}\\end{equation}\n",
    "  \n",
    "Então, no nosso caso:  \n",
    "  \n",
    "\\begin{equation}\\vec{r} = \\vec{p} \\times \\vec{q} = \\begin{bmatrix}(3 \\cdot -2) - (1 \\cdot 2) \\\\ (1 \\cdot 1) - (2 \\cdot -2) \\\\ (2 \\cdot 2) - (3 \\cdot 1) \\end{bmatrix} = \\begin{bmatrix}-6 - 2 \\\\ 1 - -4 \\\\ 4 - 3 \\end{bmatrix} = \\begin{bmatrix}-8 \\\\ 5 \\\\ 1 \\end{bmatrix}\\end{equation}\n",
    "  \n",
    "Em Python junto com NumPy você pode utilizar a função __cross()__ para resolver esse tipo de problema:"
   ]
  },
  {
   "cell_type": "code",
   "execution_count": 4,
   "metadata": {},
   "outputs": [
    {
     "name": "stdout",
     "output_type": "stream",
     "text": [
      "[-8  5  1]\n"
     ]
    }
   ],
   "source": [
    "# Importa a biblioteca NumPy.\n",
    "import numpy as np\n",
    "\n",
    "p = np.array([2,3,1]) # Cria o Vetor \"p\" do nosso exemplo.\n",
    "q = np.array([1,2,-2]) # Cria o Vetor \"q\" do nosso exemplo.\n",
    "\n",
    "# Aplica a multiplicação cruzada com a função cross().\n",
    "r = np.cross(p,q)\n",
    "print (r)"
   ]
  }
 ],
 "metadata": {
  "kernelspec": {
   "display_name": "Python 3",
   "language": "python",
   "name": "python3"
  },
  "language_info": {
   "codemirror_mode": {
    "name": "ipython",
    "version": 3
   },
   "file_extension": ".py",
   "mimetype": "text/x-python",
   "name": "python",
   "nbconvert_exporter": "python",
   "pygments_lexer": "ipython3",
   "version": "3.4.2"
  }
 },
 "nbformat": 4,
 "nbformat_minor": 2
}
