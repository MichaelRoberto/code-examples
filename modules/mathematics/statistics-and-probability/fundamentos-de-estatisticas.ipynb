{
 "cells": [
  {
   "cell_type": "markdown",
   "metadata": {},
   "source": [
    "# Fundamentos de Estatísticas\n",
    "As estatísticas são principalmente sobre a análise de amostras de dados, e isso começa com a compreensão da distribuição de dados em uma amostra."
   ]
  },
  {
   "cell_type": "markdown",
   "metadata": {},
   "source": [
    "# 1. Analisando Distribuição de Dados\n",
    "Uma grande parte da análise estatística baseia-se na maneira como os valores de dados são distribuídos no conjunto de dados. Nesta seção, exploraremos algumas estatísticas que podem ser usadas para informar sobre os valores em um conjunto de dados."
   ]
  },
  {
   "cell_type": "markdown",
   "metadata": {},
   "source": [
    "### 1.1  Medidas da Tendência Central  \n",
    "O termo medidas de tendência central soa um pouco grande, mas na verdade é apenas uma maneira elegante de dizer que __estamos interessados em saber onde está o valor intermediário em nossos dados__.  \n",
    "  \n",
    "> Por exemplo, suponha que você decida realizar um estudo sobre os salários comparativos de pessoas que se formaram na mesma escola. Você pode gravar os resultados assim:  \n",
    "  \n",
    "| Nome     | Salário     |\n",
    "|----------|-------------|\n",
    "| Dan      | 50,000      |\n",
    "| Joann    | 54,000      |\n",
    "| Pedro    | 50,000      |\n",
    "| Rosie    | 189,000     |\n",
    "| Ethan    | 55,000      |\n",
    "| Vicky    | 40,000      |\n",
    "| Frederic | 59,000      |\n",
    "\n",
    "Agora, alguns dos ex-alunos podem ganhar muito e outros podem ganhar menos; mas qual é o salário no meio do intervalo de todos os salários?\n",
    "\n",
    "### 1.2 Média - (mean)  \n",
    "\n",
    "Uma maneira comum de definir o valor central é usar a média , geralmente chamada de mean/average. Isso é calculado como a soma dos valores no conjunto de dados, dividido pelo número de observações no conjunto de dados. Quando o conjunto de dados consiste na população total, a média é representada pelo símbolo grego ***&mu;*** (*mu*) e a fórmula é escrita assim:  \n",
    "  \n",
    "\\begin{equation}\\mu = \\frac{\\displaystyle\\sum_{i=1}^{N}X_{i}}{N}\\end{equation}  \n",
    "  \n",
    "Mais comumente, ao trabalhar com uma amostra, a média é representada por ***x&#772;*** (*x-bar*), e a fórmula é escrita assim (observe as letras minúsculas usadas para indicar valores de uma amostra):\n",
    "  \n",
    "\\begin{equation}\\bar{x} = \\frac{\\displaystyle\\sum_{i=1}^{n}x_{i}}{n}\\end{equation}  \n",
    "  \n",
    "No caso da nossa lista de salários, isso pode ser calculado como:  \n",
    "  \n",
    "\\begin{equation}\\bar{x} = \\frac{50000+54000+50000+189000+55000+40000+59000}{7}\\end{equation}  \n",
    "  \n",
    "Qual é **71,000**.  \n",
    "  \n",
    "Em Python, ao trabalhar com dados em *pandas.dataframe*, você pode usar a função __mean()__, assim:"
   ]
  },
  {
   "cell_type": "code",
   "execution_count": 1,
   "metadata": {},
   "outputs": [],
   "source": [
    "# Importa a biblioteca pandas.\n",
    "import pandas as pd\n",
    "\n",
    "# Cria um DataFrame para representar os alunos formados e seus respectivos salários.\n",
    "df = pd.DataFrame({'Name': ['Dan', 'Joann', 'Pedro', 'Rosie', 'Ethan', 'Vicky', 'Frederic'],\n",
    "                   'Salary':[50000,54000,50000,189000,55000,40000,59000]})"
   ]
  },
  {
   "cell_type": "code",
   "execution_count": 2,
   "metadata": {},
   "outputs": [
    {
     "data": {
      "text/html": [
       "<div>\n",
       "<style scoped>\n",
       "    .dataframe tbody tr th:only-of-type {\n",
       "        vertical-align: middle;\n",
       "    }\n",
       "\n",
       "    .dataframe tbody tr th {\n",
       "        vertical-align: top;\n",
       "    }\n",
       "\n",
       "    .dataframe thead th {\n",
       "        text-align: right;\n",
       "    }\n",
       "</style>\n",
       "<table border=\"1\" class=\"dataframe\">\n",
       "  <thead>\n",
       "    <tr style=\"text-align: right;\">\n",
       "      <th></th>\n",
       "      <th>Name</th>\n",
       "      <th>Salary</th>\n",
       "    </tr>\n",
       "  </thead>\n",
       "  <tbody>\n",
       "    <tr>\n",
       "      <th>0</th>\n",
       "      <td>Dan</td>\n",
       "      <td>50000</td>\n",
       "    </tr>\n",
       "    <tr>\n",
       "      <th>1</th>\n",
       "      <td>Joann</td>\n",
       "      <td>54000</td>\n",
       "    </tr>\n",
       "    <tr>\n",
       "      <th>2</th>\n",
       "      <td>Pedro</td>\n",
       "      <td>50000</td>\n",
       "    </tr>\n",
       "    <tr>\n",
       "      <th>3</th>\n",
       "      <td>Rosie</td>\n",
       "      <td>189000</td>\n",
       "    </tr>\n",
       "    <tr>\n",
       "      <th>4</th>\n",
       "      <td>Ethan</td>\n",
       "      <td>55000</td>\n",
       "    </tr>\n",
       "    <tr>\n",
       "      <th>5</th>\n",
       "      <td>Vicky</td>\n",
       "      <td>40000</td>\n",
       "    </tr>\n",
       "    <tr>\n",
       "      <th>6</th>\n",
       "      <td>Frederic</td>\n",
       "      <td>59000</td>\n",
       "    </tr>\n",
       "  </tbody>\n",
       "</table>\n",
       "</div>"
      ],
      "text/plain": [
       "       Name  Salary\n",
       "0       Dan   50000\n",
       "1     Joann   54000\n",
       "2     Pedro   50000\n",
       "3     Rosie  189000\n",
       "4     Ethan   55000\n",
       "5     Vicky   40000\n",
       "6  Frederic   59000"
      ]
     },
     "execution_count": 2,
     "metadata": {},
     "output_type": "execute_result"
    }
   ],
   "source": [
    "df # Exibe o DataFrame"
   ]
  },
  {
   "cell_type": "code",
   "execution_count": 3,
   "metadata": {},
   "outputs": [
    {
     "name": "stdout",
     "output_type": "stream",
     "text": [
      "71000.0\n"
     ]
    }
   ],
   "source": [
    "# Encontra a média de salários dos recém formados.\n",
    "print (df['Salary'].mean())"
   ]
  },
  {
   "cell_type": "markdown",
   "metadata": {},
   "source": [
    "Então, __71.000__ é realmente o valor central? Ou, em outras palavras, seria razoável para um graduado desta escola esperar ganhar 71 mil dólares? Afinal, esse é o salário médio de um graduado desta escola.  \n",
    "  \n",
    "__NOTE:__  \n",
    "> Se você observar de perto os salários, verá que, dos sete ex-alunos, seis ganham menos do que o salário médio. __`Os dados são distorcidos` pelo fato de que Rosie conseguiu encontrar um trabalho bem mais bem remunerado do que seus colegas de classe__. Como resolver isso ? - Mediana(median)."
   ]
  },
  {
   "cell_type": "markdown",
   "metadata": {},
   "source": [
    "### 1.3 Mediana - (median)"
   ]
  },
  {
   "cell_type": "markdown",
   "metadata": {},
   "source": [
    "OK, vamos ver se podemos encontrar outra definição para o valor central que reflita mais de perto o potencial de ganho esperado dos alunos que frequentam a nossa escola. Outra medida de tendência central que podemos usar é a mediana(median).  \n",
    "  \n",
    "Para calcular a mediana(median), precisamos __ordenar__ os valores em __ordem crescente__ e depois encontrar o valor do meio. Quando há um número ímpar de observações, você pode encontrar a posição do valor mediano usando a seguinte fórmula (onde n é o número de observações):  \n",
    "  \n",
    "\\begin{equation}\\frac{n+1}{2}\\end{equation}  \n",
    "  \n",
    "Lembre-se de que essa fórmula retorna a posição do valor médio na lista classificada. não o valor em si.  \n",
    "  \n",
    "Se o número de observações for par, as coisas são um pouco (mas não muito) mais complicadas. Nesse caso, você calcula a mediana como a média dos dois valores intermediários, que são encontrados assim:  \n",
    "  \n",
    "\\begin{equation}\\frac{n}{2} \\;\\;\\;\\;and \\;\\;\\;\\; \\frac{n}{2} + 1\\end{equation}  \n",
    "  \n",
    "Então, para os nossos salários de pós-graduação; primeiro vamos ordenar o conjunto de dados:  \n",
    "  \n",
    "| Salary      |\n",
    "|-------------|\n",
    "| 40,000      |\n",
    "| 50,000      |\n",
    "| 50,000      |\n",
    "| 54,000      |\n",
    "| 55,000      |\n",
    "| 59,000      |\n",
    "| 189,000     |\n",
    "\n",
    "Há um número ímpar de observações (7), portanto, o valor mediano(median) está na posição __(7 + 1) ÷ 2__; em outras palavras, posição __4__:  \n",
    "  \n",
    "| Salary      |\n",
    "|-------------|\n",
    "| 40,000      |\n",
    "| 50,000      |\n",
    "| 50,000      |\n",
    "|***>54,000*** |\n",
    "| 55,000      |\n",
    "| 59,000      |\n",
    "| 189,000     |\n",
    "  \n",
    "Então, o salário médio é de __54.000__.  \n",
    "  \n",
    "A classe __pandas.dataframe__ no Python tem uma função __median()__ para encontrar a mediana:"
   ]
  },
  {
   "cell_type": "code",
   "execution_count": 4,
   "metadata": {},
   "outputs": [],
   "source": [
    "# Importa a biblioteca pandas.\n",
    "import pandas as pd\n",
    "\n",
    "# Cria um DataFrame para representar os alunos formados e seus respectivos salários.\n",
    "df = pd.DataFrame({'Name': ['Dan', 'Joann', 'Pedro', 'Rosie', 'Ethan', 'Vicky', 'Frederic'],\n",
    "                   'Salary':[50000,54000,50000,189000,55000,40000,59000]})"
   ]
  },
  {
   "cell_type": "code",
   "execution_count": 5,
   "metadata": {},
   "outputs": [
    {
     "data": {
      "text/html": [
       "<div>\n",
       "<style scoped>\n",
       "    .dataframe tbody tr th:only-of-type {\n",
       "        vertical-align: middle;\n",
       "    }\n",
       "\n",
       "    .dataframe tbody tr th {\n",
       "        vertical-align: top;\n",
       "    }\n",
       "\n",
       "    .dataframe thead th {\n",
       "        text-align: right;\n",
       "    }\n",
       "</style>\n",
       "<table border=\"1\" class=\"dataframe\">\n",
       "  <thead>\n",
       "    <tr style=\"text-align: right;\">\n",
       "      <th></th>\n",
       "      <th>Name</th>\n",
       "      <th>Salary</th>\n",
       "    </tr>\n",
       "  </thead>\n",
       "  <tbody>\n",
       "    <tr>\n",
       "      <th>0</th>\n",
       "      <td>Dan</td>\n",
       "      <td>50000</td>\n",
       "    </tr>\n",
       "    <tr>\n",
       "      <th>1</th>\n",
       "      <td>Joann</td>\n",
       "      <td>54000</td>\n",
       "    </tr>\n",
       "    <tr>\n",
       "      <th>2</th>\n",
       "      <td>Pedro</td>\n",
       "      <td>50000</td>\n",
       "    </tr>\n",
       "    <tr>\n",
       "      <th>3</th>\n",
       "      <td>Rosie</td>\n",
       "      <td>189000</td>\n",
       "    </tr>\n",
       "    <tr>\n",
       "      <th>4</th>\n",
       "      <td>Ethan</td>\n",
       "      <td>55000</td>\n",
       "    </tr>\n",
       "    <tr>\n",
       "      <th>5</th>\n",
       "      <td>Vicky</td>\n",
       "      <td>40000</td>\n",
       "    </tr>\n",
       "    <tr>\n",
       "      <th>6</th>\n",
       "      <td>Frederic</td>\n",
       "      <td>59000</td>\n",
       "    </tr>\n",
       "  </tbody>\n",
       "</table>\n",
       "</div>"
      ],
      "text/plain": [
       "       Name  Salary\n",
       "0       Dan   50000\n",
       "1     Joann   54000\n",
       "2     Pedro   50000\n",
       "3     Rosie  189000\n",
       "4     Ethan   55000\n",
       "5     Vicky   40000\n",
       "6  Frederic   59000"
      ]
     },
     "execution_count": 5,
     "metadata": {},
     "output_type": "execute_result"
    }
   ],
   "source": [
    "# Exibe o DataFrame.\n",
    "df"
   ]
  },
  {
   "cell_type": "code",
   "execution_count": 6,
   "metadata": {},
   "outputs": [],
   "source": [
    "# - Ordena os valores do DataFrame para depois tirar a Mediana(median);\n",
    "# - Passa como argumento a coluna/dado que você deseja ordenar - \"Salary\";\n",
    "# - Salva a ordenação no próprio DataFrame - df.\n",
    "df = df.sort_values(\"Salary\")"
   ]
  },
  {
   "cell_type": "code",
   "execution_count": 7,
   "metadata": {},
   "outputs": [
    {
     "data": {
      "text/html": [
       "<div>\n",
       "<style scoped>\n",
       "    .dataframe tbody tr th:only-of-type {\n",
       "        vertical-align: middle;\n",
       "    }\n",
       "\n",
       "    .dataframe tbody tr th {\n",
       "        vertical-align: top;\n",
       "    }\n",
       "\n",
       "    .dataframe thead th {\n",
       "        text-align: right;\n",
       "    }\n",
       "</style>\n",
       "<table border=\"1\" class=\"dataframe\">\n",
       "  <thead>\n",
       "    <tr style=\"text-align: right;\">\n",
       "      <th></th>\n",
       "      <th>Name</th>\n",
       "      <th>Salary</th>\n",
       "    </tr>\n",
       "  </thead>\n",
       "  <tbody>\n",
       "    <tr>\n",
       "      <th>5</th>\n",
       "      <td>Vicky</td>\n",
       "      <td>40000</td>\n",
       "    </tr>\n",
       "    <tr>\n",
       "      <th>0</th>\n",
       "      <td>Dan</td>\n",
       "      <td>50000</td>\n",
       "    </tr>\n",
       "    <tr>\n",
       "      <th>2</th>\n",
       "      <td>Pedro</td>\n",
       "      <td>50000</td>\n",
       "    </tr>\n",
       "    <tr>\n",
       "      <th>1</th>\n",
       "      <td>Joann</td>\n",
       "      <td>54000</td>\n",
       "    </tr>\n",
       "    <tr>\n",
       "      <th>4</th>\n",
       "      <td>Ethan</td>\n",
       "      <td>55000</td>\n",
       "    </tr>\n",
       "    <tr>\n",
       "      <th>6</th>\n",
       "      <td>Frederic</td>\n",
       "      <td>59000</td>\n",
       "    </tr>\n",
       "    <tr>\n",
       "      <th>3</th>\n",
       "      <td>Rosie</td>\n",
       "      <td>189000</td>\n",
       "    </tr>\n",
       "  </tbody>\n",
       "</table>\n",
       "</div>"
      ],
      "text/plain": [
       "       Name  Salary\n",
       "5     Vicky   40000\n",
       "0       Dan   50000\n",
       "2     Pedro   50000\n",
       "1     Joann   54000\n",
       "4     Ethan   55000\n",
       "6  Frederic   59000\n",
       "3     Rosie  189000"
      ]
     },
     "execution_count": 7,
     "metadata": {},
     "output_type": "execute_result"
    }
   ],
   "source": [
    "# Exibe o DataFrame ordenado.\n",
    "df"
   ]
  },
  {
   "cell_type": "code",
   "execution_count": 8,
   "metadata": {},
   "outputs": [
    {
     "data": {
      "text/plain": [
       "54000.0"
      ]
     },
     "execution_count": 8,
     "metadata": {},
     "output_type": "execute_result"
    }
   ],
   "source": [
    "# Exibe a Mediana(median) da coluna \"Salary\".\n",
    "df['Salary'].median()"
   ]
  },
  {
   "cell_type": "markdown",
   "metadata": {},
   "source": [
    "### 1.4 Modo - (mode)"
   ]
  },
  {
   "cell_type": "markdown",
   "metadata": {},
   "source": [
    "Outra estatística relacionada é o modo(mode), __que indica o valor mais frequente__. Se você pensar sobre isso, isso é potencialmente um bom indicador de quanto um aluno pode esperar ganhar quando se formar na escola; de todos os salários que estão sendo ganhos por ex-alunos, o modo(mode) é ganho por mais do que qualquer outro.  \n",
    "  \n",
    "Olhando para a nossa lista de salários, há duas instâncias de ex-alunos que ganham __50.000__, mas apenas uma instância para cada outro salário:  \n",
    "  \n",
    "| Salary      |\n",
    "|-------------|\n",
    "| 40,000      |\n",
    "|***>50,000***|\n",
    "|***>50,000***|\n",
    "| 54,000      |\n",
    "| 55,000      |\n",
    "| 59,000      |\n",
    "| 189,000     |\n",
    "\n",
    "O modo(mode) é, portanto, __50.000__.  \n",
    "  \n",
    "Como você poderia esperar, a classe pandas.dataframe tem uma função __mode()__ para retornar o modo:"
   ]
  },
  {
   "cell_type": "code",
   "execution_count": 9,
   "metadata": {},
   "outputs": [
    {
     "data": {
      "text/plain": [
       "0    50000\n",
       "dtype: int64"
      ]
     },
     "execution_count": 9,
     "metadata": {},
     "output_type": "execute_result"
    }
   ],
   "source": [
    "# Importa a biblioteca Pandas - pd.\n",
    "import pandas as pd\n",
    "\n",
    "# Cria um DataFrame para representar os alunos formados e seus respectivos salários.\n",
    "df = pd.DataFrame({'Name': ['Dan', 'Joann', 'Pedro', 'Rosie', 'Ethan', 'Vicky', 'Frederic'],\n",
    "                   'Salary':[50000,54000,50000,189000,55000,40000,59000]})\n",
    "\n",
    "df['Salary'].mode() # Utiliza a função mode() do Pandas para pegar o Modo (salários mais frequentes) da lista."
   ]
  },
  {
   "cell_type": "markdown",
   "metadata": {},
   "source": [
    "### 1.5 Dados Multimodais"
   ]
  },
  {
   "cell_type": "markdown",
   "metadata": {},
   "source": [
    "Não é incomum que um conjunto de dados tenha mais de um valor como o modo. Por exemplo, suponha que receba um aumento que leve seu salário a __59.000__:  \n",
    "  \n",
    "| Salary      |\n",
    "|-------------|\n",
    "| 40,000      |\n",
    "|***>50,000***|\n",
    "|***>50,000***|\n",
    "| 54,000      |\n",
    "|***>59,000***|\n",
    "|***>59,000***|\n",
    "| 189,000     |\n",
    "  \n",
    "Agora existem dois valores com a frequência mais alta. __Este conjunto de dados é bimodal__. Mais geralmente, quando há mais de um valor de modo, os dados são considerados __multimodais__.  \n",
    "  \n",
    "A função __mode()__ do pandas.dataframe retorna todos os modos:"
   ]
  },
  {
   "cell_type": "code",
   "execution_count": 10,
   "metadata": {},
   "outputs": [
    {
     "data": {
      "text/plain": [
       "0    50000\n",
       "1    59000\n",
       "dtype: int64"
      ]
     },
     "execution_count": 10,
     "metadata": {},
     "output_type": "execute_result"
    }
   ],
   "source": [
    "# Importa a biblioteca Pandas - pd.\n",
    "import pandas as pd\n",
    "\n",
    "# Cria um DataFrame para representar os alunos formados e seus respectivos salários.\n",
    "df = pd.DataFrame({'Name': ['Dan', 'Joann', 'Pedro', 'Rosie', 'Ethan', 'Vicky', 'Frederic'],\n",
    "                   'Salary':[50000,54000,50000,189000,59000,40000,59000]})\n",
    "\n",
    "df['Salary'].mode() # Utiliza a função mode() do Pandas para pegar o Modo (salários mais frequentes) da lista."
   ]
  },
  {
   "cell_type": "markdown",
   "metadata": {},
   "source": [
    "# 2. Distribuição e densidade"
   ]
  },
  {
   "cell_type": "markdown",
   "metadata": {},
   "source": [
    "Agora que sabemos algo sobre encontrar o centro, podemos começar a explorar como os dados são distribuídos em torno dele (o centro). O que nos interessa aqui é entender a \"forma\" geral da distribuição de dados, de modo que possamos começar a ter uma ideia do que um valor \"típico\" poderia ser esperado.  \n",
    "  \n",
    "Podemos começar por encontrar os extremos - __o mínimo__ e __o máximo__. No caso de nossos dados salariais:  \n",
    "  \n",
    " - __Com menor remuneração de nossa escola é Vicky, com um salário de 40.000;__  \n",
    " - __O(a) mais bem paga é Rosie, com 189.000.__  \n",
    "  \n",
    "A classe pandas.dataframe possui funções __min()__ e __max()__ para retornar esses valores."
   ]
  },
  {
   "cell_type": "code",
   "execution_count": 11,
   "metadata": {},
   "outputs": [
    {
     "name": "stdout",
     "output_type": "stream",
     "text": [
      "Min: 40000\n",
      "Mode: 50000\n",
      "Median: 54000.0\n",
      "Mean: 71000.0\n",
      "Max: 189000\n"
     ]
    }
   ],
   "source": [
    "# Importa a biblioteca Pandas\n",
    "import pandas as pd\n",
    "\n",
    "# Cria um DataFrame para representar os alunos formados e seus respectivos salários.\n",
    "df = pd.DataFrame({'Name': ['Dan', 'Joann', 'Pedro', 'Rosie', 'Ethan', 'Vicky', 'Frederic'],\n",
    "                   'Salary':[50000,54000,50000,189000,55000,40000,59000]})\n",
    "\n",
    "print ('Min: ' + str(df['Salary'].min())) # Pega o menor salário/elmento da lista.\n",
    "print ('Mode: ' + str(df['Salary'].mode()[0])) # Encontra o mode (o/os mais frequente(s)).\n",
    "print ('Median: ' + str(df['Salary'].median())) # Encontra a mediana(median).\n",
    "print ('Mean: ' + str(df['Salary'].mean())) # Encontra a média(mean)\n",
    "print ('Max: ' + str(df['Salary'].max())) # Pega o maior salário/elemento da lista."
   ]
  },
  {
   "cell_type": "markdown",
   "metadata": {},
   "source": [
    "Podemos examinar esses valores e ter uma ideia de como os dados são distribuídos. Por exemplo, podemos ver que a média está mais próxima do máximo, que a mediana está mais próximos do mínimo que do máximo.  \n",
    "  \n",
    "__NOTE:__  \n",
    "No entanto, geralmente é mais fácil ter uma noção da distribuição visualizando os dados. Vamos começar criando um histograma dos salários, destacando:\n",
    "\n",
    " - A média(mean) de salários;  \n",
    " - Os salários medianos(median);  \n",
    " - O min(), max() são bastante evidentes, um do lado esquerdo e o outro do lado direito, respectivamente __(você pode ver isso no eixo \"x\")__;  \n",
    " - O modo é onde a barra é mais alta está __(mesmo não desenhado uma linha, mas você pode ver que é onde tem mais dados frequentes)__."
   ]
  },
  {
   "cell_type": "code",
   "execution_count": 12,
   "metadata": {},
   "outputs": [
    {
     "data": {
      "image/png": "[encoded data removed]",
      "text/plain": [
       "<Figure size 432x288 with 1 Axes>"
      ]
     },
     "metadata": {},
     "output_type": "display_data"
    }
   ],
   "source": [
    "%matplotlib inline\n",
    "import pandas as pd\n",
    "import matplotlib.pyplot as plt\n",
    "\n",
    "df = pd.DataFrame({'Name': ['Dan', 'Joann', 'Pedro', 'Rosie', 'Ethan', 'Vicky', 'Frederic'],\n",
    "                   'Salary':[50000,54000,50000,189000,55000,40000,59000]})\n",
    "\n",
    "salary = df['Salary'] # Pega os salários do DataFrame e salva no objeto \"salary\".\n",
    "\n",
    "# Cria o plot/gráfico.\n",
    "salary.plot.hist(title='Salary Distribution', color='lightblue', bins=25) # Cria o Histogram a partir de \"salary\".\n",
    "plt.axvline(salary.mean(), color='magenta', linestyle='dashed', linewidth=2) # Adiciona mean() lane no plot.\n",
    "plt.axvline(salary.median(), color='green', linestyle='dashed', linewidth=2) # Adiciona median() lane no plot.\n",
    "plt.show()"
   ]
  },
  {
   "cell_type": "markdown",
   "metadata": {},
   "source": [
    "A <span style=\"color:magenta\">***Média(mean)***</span> e a <span style=\"color:green\">***Mediana(median)***</span> são mostradas como linhas tracejadas. Observe o seguinte:  \n",
    "  \n",
    " - O salário é um valor de dados contínuo - os graduados poderiam potencialmente ganhar qualquer valor ao longo da escala, até mesmo uma fração de centavo;  \n",
    " - O número de bins no histograma determina o tamanho de cada faixa salarial para a qual estamos contando as freqüências. __Menos bins significam juntar mais salários individuais para serem contados como um grupo__;  \n",
    " - A maioria dos dados está no lado esquerdo do histograma, refletindo o fato de que a maioria dos formandos ganha entre 40.000 e 55.000;  \n",
    " - A média(mean) é um valor mais alto que a mediana(median) e o modo(mode);  \n",
    " - Existem lacunas no histograma das faixas salariais que ninguém ganha.  \n",
    "  \n",
    "O histograma mostra a frequência relativa de cada faixa salarial, com base no número de bins. Também nos dá uma noção da densidade dos dados para cada ponto da escala salarial. Com pontos de dados suficientes e bins pequenas o suficiente, poderíamos ver essa densidade como uma linha que mostra a forma da distribuição de dados."
   ]
  },
  {
   "cell_type": "code",
   "execution_count": 14,
   "metadata": {},
   "outputs": [
    {
     "data": {
      "image/png": "[encoded data removed]",
      "text/plain": [
       "<Figure size 432x288 with 1 Axes>"
      ]
     },
     "metadata": {},
     "output_type": "display_data"
    }
   ],
   "source": [
    "%matplotlib inline\n",
    "import pandas as pd\n",
    "import matplotlib.pyplot as plt\n",
    "import numpy as np\n",
    "import scipy.stats as stats\n",
    "\n",
    "df = pd.DataFrame({'Name': ['Dan', 'Joann', 'Pedro', 'Rosie', 'Ethan', 'Vicky', 'Frederic'],\n",
    "                   'Salary':[50000,54000,50000,189000,55000,40000,59000]})\n",
    "\n",
    "salary = df['Salary'] # Pega os salários do DataFrame e salva no objeto \"salary\".\n",
    "density = stats.gaussian_kde(salary) # Pega a densidade dos salários.\n",
    "\n",
    "# Cria o plot/gráfico.\n",
    "n, x, _ = plt.hist(salary, histtype='step', density=True, bins=25) # Cria o Histograma.\n",
    "plt.plot(x, density(x)*5) # Cria a densidade/linha de densidade no plot.\n",
    "plt.axvline(salary.mean(), color='magenta', linestyle='dashed', linewidth=2) # Adiciona mean() lane no plot.\n",
    "plt.axvline(salary.median(), color='green', linestyle='dashed', linewidth=2) # Adiciona median() lane no plot.\n",
    "plt.show()"
   ]
  },
  {
   "cell_type": "markdown",
   "metadata": {},
   "source": [
    "Observe que a linha de densidade assume a forma de uma curva assimétrica que tem um \"pico\" à esquerda e uma cauda longa à direita. Descrevemos esse tipo de distribuição de dados como distorcida; ou seja, os dados não são distribuídos simetricamente, mas sim \"agrupados\" de um lado. Nesse caso, os dados são agrupados à esquerda, criando uma cauda longa à direita; e é descrito como sendo inclinado para a direita porque alguns valores altos que ocorrem raramente estão puxando a média para a direita."
   ]
  },
  {
   "cell_type": "markdown",
   "metadata": {},
   "source": [
    "Vamos dar uma olhada em outro conjunto de dados. Sabemos quanto dinheiro nossos alunos fazem, mas quantas horas por semana eles precisam trabalhar para ganhar seus salários? Aqui estão os dados:  \n",
    "\n",
    "| Name     | Hours |\n",
    "|----------|-------|\n",
    "| Dan      | 41    |\n",
    "| Joann    | 40    |\n",
    "| Pedro    | 36    |\n",
    "| Rosie    | 30    |\n",
    "| Ethan    | 35    |\n",
    "| Vicky    | 39    |\n",
    "| Frederic | 40    |"
   ]
  },
  {
   "cell_type": "code",
   "execution_count": 15,
   "metadata": {},
   "outputs": [
    {
     "data": {
      "image/png": "[encoded data removed]",
      "text/plain": [
       "<Figure size 432x288 with 1 Axes>"
      ]
     },
     "metadata": {},
     "output_type": "display_data"
    }
   ],
   "source": [
    "%matplotlib inline\n",
    "import pandas as pd\n",
    "import matplotlib.pyplot as plt\n",
    "import numpy as np\n",
    "import scipy.stats as stats\n",
    "\n",
    "df = pd.DataFrame({'Name': ['Dan', 'Joann', 'Pedro', 'Rosie', 'Ethan', 'Vicky', 'Frederic'],\n",
    "                   'Hours':[41,40,36,30,35,39,40]})\n",
    "\n",
    "hours = df['Hours'] # Pega as horas trabalhas por semana de cada aluno.\n",
    "density = stats.gaussian_kde(hours) # Pega a densidade das horas.\n",
    "\n",
    "# Cria o plot/gráfico.\n",
    "n, x, _ = plt.hist(hours, histtype='step', density=True, bins=25) # Cria o Histograma.\n",
    "plt.plot(x, density(x)*7) # Cria a densidade/linha de densidade no plot.\n",
    "plt.axvline(hours.mean(), color='magenta', linestyle='dashed', linewidth=2) # Adiciona mean() lane no plot.\n",
    "plt.axvline(hours.median(), color='green', linestyle='dashed', linewidth=2) # Adiciona median() lane no plot.\n",
    "plt.show()"
   ]
  },
  {
   "cell_type": "markdown",
   "metadata": {},
   "source": [
    "Mais uma vez, a distribuição é distorcida, mas desta vez é distorcida a esquerda. Note que a curva é assimétrica com a <span style=\"color:magenta\">***média(mean)***</span> à esquerda da <span style=\"color:green\">***mediana(median)***</span> e o modo(mode); e a média de horas de trabalho semanais desviadas para a extremidade inferior.  \n",
    "  \n",
    "Mais uma vez, Rosie parece estar recebendo o melhor do negócio. Ela ganha mais do que seus ex-colegas de classe por trabalhar menos horas. Talvez uma olhada nas pontuações do teste que os alunos alcançaram na nota final da escola possa ajudar a explicar seu sucesso:  \n",
    "  \n",
    "| Name     | Grade |\n",
    "|----------|-------|\n",
    "| Dan      | 50    |\n",
    "| Joann    | 50    |\n",
    "| Pedro    | 46    |\n",
    "| Rosie    | 95    |\n",
    "| Ethan    | 50    |\n",
    "| Vicky    | 5     |\n",
    "| Frederic | 57    |\n",
    "\n",
    "Vamos dar uma olhada na distribuição dessas notas:"
   ]
  },
  {
   "cell_type": "code",
   "execution_count": 16,
   "metadata": {},
   "outputs": [
    {
     "data": {
      "image/png": "[encoded data removed]",
      "text/plain": [
       "<Figure size 432x288 with 1 Axes>"
      ]
     },
     "metadata": {},
     "output_type": "display_data"
    }
   ],
   "source": [
    "%matplotlib inline\n",
    "import pandas as pd\n",
    "import matplotlib.pyplot as plt\n",
    "import numpy as np\n",
    "import scipy.stats as stats\n",
    "\n",
    "df = pd.DataFrame({'Name': ['Dan', 'Joann', 'Pedro', 'Rosie', 'Ethan', 'Vicky', 'Frederic'],\n",
    "                   'Grade':[50,50,46,95,50,5,57]})\n",
    "\n",
    "grade = df['Grade'] # Pega as notas/grades de todos os alunos.\n",
    "density = stats.gaussian_kde(grade) # Pega a densidade das notas.\n",
    "\n",
    "# Cria o plot/gráfico.\n",
    "n, x, _ = plt.hist(grade, histtype='step', density=True, bins=25) # Cria o Histograma.\n",
    "plt.plot(x, density(x)*7.5) # Cria a densidade/linha de densidade no plot.\n",
    "plt.axvline(grade.mean(), color='magenta', linestyle='dashed', linewidth=2) # Adiciona mean() lane no plot.\n",
    "plt.axvline(grade.median(), color='green', linestyle='dashed', linewidth=2) # Adiciona median() lane no plot.\n",
    "plt.show()"
   ]
  },
  {
   "cell_type": "markdown",
   "metadata": {},
   "source": [
    "Desta vez, a distribuição é simétrica, formando uma curva __\"em forma de sino\"__. A <span style=\"color:magenta\">***média(mean)***</span>, <span style=\"color:green\">***mediana(median)***</span> e modo(mode) estão no mesmo local, e os dados caem uniformemente em ambos os lados de um pico central.  \n",
    "  \n",
    "Os estatísticos chamam isso de uma distribuição normal (ou às vezes uma distribuição gaussiana ), e ocorre bastante comumente em muitos cenários devido a algo chamado `Teorema do Limite Central`, que reflete a maneira como a probabilidade contínua funciona."
   ]
  },
  {
   "cell_type": "markdown",
   "metadata": {},
   "source": [
    "### 2.1 Assimetria & curtose"
   ]
  },
  {
   "cell_type": "markdown",
   "metadata": {},
   "source": [
    "Você pode medir:  \n",
    "\n",
    " - A __Assimetria (Skewness)__ - (Em que direção os dados estão distorcidos e em que grau);  \n",
    " - A __Curtose (Kurtosis)__ - (como os dados são \"pontiagudos\").  \n",
    "  \n",
    "Para ter uma idéia da forma da distribuição de dados.  \n",
    "  \n",
    "  \n",
    "__NOTE:__  \n",
    "No Python, você pode usar as funções:  \n",
    "  \n",
    " - __skew()__ - Para Assimétria (Skewness);  \n",
    " - __kurt()__ - Para curtose (Kurtosis)."
   ]
  },
  {
   "cell_type": "code",
   "execution_count": 17,
   "metadata": {},
   "outputs": [
    {
     "name": "stdout",
     "output_type": "stream",
     "text": [
      "Salary skewness: 2.57316410755049\n",
      "Salary kurtosis: 6.719828837773431\n"
     ]
    },
    {
     "data": {
      "image/png": "[encoded data removed]",
      "text/plain": [
       "<Figure size 432x288 with 1 Axes>"
      ]
     },
     "metadata": {},
     "output_type": "display_data"
    },
    {
     "name": "stdout",
     "output_type": "stream",
     "text": [
      "\n",
      "\n",
      "Hours skewness: -1.194570307262883\n",
      "Hours kurtosis: 0.9412265624999989\n"
     ]
    },
    {
     "data": {
      "image/png": "[encoded data removed]",
      "text/plain": [
       "<Figure size 432x288 with 1 Axes>"
      ]
     },
     "metadata": {},
     "output_type": "display_data"
    },
    {
     "name": "stdout",
     "output_type": "stream",
     "text": [
      "\n",
      "\n",
      "Grade skewness: -0.06512433009682762\n",
      "Grade kurtosis: 2.7484764913773034\n"
     ]
    },
    {
     "data": {
      "image/png": "[encoded data removed]",
      "text/plain": [
       "<Figure size 432x288 with 1 Axes>"
      ]
     },
     "metadata": {},
     "output_type": "display_data"
    },
    {
     "name": "stdout",
     "output_type": "stream",
     "text": [
      "\n",
      "\n"
     ]
    }
   ],
   "source": [
    "%matplotlib inline\n",
    "import pandas as pd\n",
    "import numpy as np\n",
    "from matplotlib import pyplot as plt\n",
    "import scipy.stats as stats\n",
    "\n",
    "df = pd.DataFrame({'Name': ['Dan', 'Joann', 'Pedro', 'Rosie', 'Ethan', 'Vicky', 'Frederic'],\n",
    "                   'Salary':[50000,54000,50000,189000,55000,40000,59000],\n",
    "                   'Hours':[41,40,36,30,35,39,40],\n",
    "                   'Grade':[50,50,46,95,50,5,57]})\n",
    "\n",
    "# Cria uma lista que vai representar os labels do nosso DataFrame:\n",
    "# - Salary;\n",
    "# - Hours;\n",
    "# - Grade.\n",
    "numcols = ['Salary', 'Hours', 'Grade'] \n",
    "\n",
    "# O laço for vai passar por cada item na nosssa lista de labels(numcols) fazendo o seguinte:\n",
    "# - Imprimindo a assimétria(skewness);\n",
    "# - Imprimindo a curtose(kurtosis);\n",
    "# - Pegando a densidade da label;\n",
    "# - Criando um Histograma para a label;\n",
    "# - Adicionando a densidade/linha de densidade no plot/histograma.\n",
    "for col in numcols:\n",
    "    print(df[col].name + ' skewness: ' + str(df[col].skew())) # Imprime a Assimetria do label/coluna no laço for.\n",
    "    print(df[col].name + ' kurtosis: ' + str(df[col].kurt())) # Imprime a Curtose do label/coluna no laço for.\n",
    "    density = stats.gaussian_kde(df[col]) # Pega a densidade do label/coluna no laço for.\n",
    "    n, x, _ = plt.hist(df[col], histtype='step', density=True, bins=25) # Cria o plot do label/coluna no laço for.\n",
    "    plt.plot(x, density(x)*6) # Cria a densidade/linha de densidade do label no laço for.\n",
    "    plt.show()\n",
    "    print('\\n')"
   ]
  },
  {
   "cell_type": "markdown",
   "metadata": {},
   "source": [
    "Agora vamos olhar para a distribuição de um conjunto de dados real - vamos ver no estudo de Galton como as alturas do pais e das crianças estão distribuídas."
   ]
  },
  {
   "cell_type": "code",
   "execution_count": 19,
   "metadata": {},
   "outputs": [
    {
     "data": {
      "image/png": "[encoded data removed]",
      "text/plain": [
       "<Figure size 432x288 with 1 Axes>"
      ]
     },
     "metadata": {},
     "output_type": "display_data"
    }
   ],
   "source": [
    "%matplotlib inline\n",
    "import pandas as pd\n",
    "import matplotlib.pyplot as plt\n",
    "import numpy as np\n",
    "import scipy.stats as stats\n",
    "\n",
    "import statsmodels.api as sm\n",
    "\n",
    "# Importa o dataset de Galton.\n",
    "df = sm.datasets.get_rdataset('GaltonFamilies', package='HistData').data\n",
    "\n",
    "\n",
    "fathers = df['father'] # Pega a label/coluna que contém ás altuas dos pais.\n",
    "density = stats.gaussian_kde(fathers) # Pega a densidade de altura dos pais.\n",
    "\n",
    "n, x, _ = plt.hist(fathers, histtype='step', density=True, bins=50) # Cria o Histograma.\n",
    "plt.plot(x, density(x)*2.5) # Adiciona a densidade/linha de densidade no plot/Histograma.\n",
    "plt.axvline(fathers.mean(), color='magenta', linestyle='dashed', linewidth=2) # Adiciona a mean() lane no plot.\n",
    "plt.axvline(fathers.median(), color='green', linestyle='dashed', linewidth=2) # Adiciona a median() lane no plot.\n",
    "plt.show()"
   ]
  },
  {
   "cell_type": "markdown",
   "metadata": {},
   "source": [
    "Como você pode ver, as medidas de altura do pai são aproximadamente normalmente distribuídas - em outras palavras, elas formam uma distribuição mais ou menos normal que é simétrica em torno da média."
   ]
  },
  {
   "cell_type": "markdown",
   "metadata": {},
   "source": [
    "# 3. Medidas de variação\n",
    "Podemos ver nos gráficos de distribuição de nossos dados que os valores em nosso conjunto de dados podem variar bastante. Podemos usar várias medidas para quantificar essa variação."
   ]
  },
  {
   "cell_type": "markdown",
   "metadata": {},
   "source": [
    "### 3.1 Intervalo(range)\n",
    "Uma maneira simples de quantificar a variação em um conjunto de dados é identificar a diferença entre os valores mais baixo e mais alto. Isso é chamado de intervalo e é calculado `subtraindo` o __valor máximo__ do __valor mínimo__.\n",
    "\n",
    "O código Python a seguir cria um único dataframe do Pandas para nossos dados de graduação da escola e calcula o intervalo para cada um dos recursos numéricos:"
   ]
  },
  {
   "cell_type": "code",
   "execution_count": 20,
   "metadata": {},
   "outputs": [
    {
     "name": "stdout",
     "output_type": "stream",
     "text": [
      "Salary range: 149000\n",
      "Hours range: 11\n",
      "Grade range: 90\n"
     ]
    }
   ],
   "source": [
    "import pandas as pd\n",
    "\n",
    "df = pd.DataFrame({'Name': ['Dan', 'Joann', 'Pedro', 'Rosie', 'Ethan', 'Vicky', 'Frederic'],\n",
    "                   'Salary':[50000,54000,50000,189000,55000,40000,59000],\n",
    "                   'Hours':[41,40,36,30,35,39,40],\n",
    "                   'Grade':[50,50,46,95,50,5,57]})\n",
    "\n",
    "# Cria uma lista para representar as labels/colunas do DataFrame.\n",
    "numcols = ['Salary', 'Hours', 'Grade']\n",
    "\n",
    "# Itera pelo for e para cada label/coluna do DataFrame\n",
    "# imprime os intervalos(ranges).\n",
    "for col in numcols:\n",
    "    print(df[col].name + ' range: ' + str(df[col].max() - df[col].min()))"
   ]
  },
  {
   "cell_type": "markdown",
   "metadata": {},
   "source": [
    "### 3.2 Percentis & Quartis\n",
    "O intervalo(range) é fácil de calcular, mas não é uma estatística particularmente útil.  \n",
    "  \n",
    " - Por exemplo, um intervalo(range) de 149.000 entre o salário mais baixo e o mais alto não nos diz qual valor dentro desse intervalo um graduado provavelmente ganhará.  \n",
    "  \n",
    " - Não nos diz nada sobre como os salários são distribuídos em torno da média dentro desse intervalo.  \n",
    "  \n",
    " - O intervalo(range) nos diz muito pouco sobre a posição comparativa de um valor individual dentro da distribuição.  \n",
    "  \n",
    "Por exemplo, Frederic marcou 57 em sua nota final na escola; que é uma boa pontuação (é mais do que todos, menos um de seus colegas); mas isso não é imediatamente aparente a partir de uma pontuação de 57 e alcance de 90."
   ]
  },
  {
   "cell_type": "markdown",
   "metadata": {},
   "source": [
    "#### Percentiles\n",
    "Um percentil nos diz __onde um determinado valor (ou dado único) é classificado na distribuição geral__.  \n",
    "  \n",
    "> Por exemplo, 25% dos dados em uma distribuição têm um valor menor que o 25º (valor/dado) percentil.  \n",
    "  \n",
    "> 75% dos dados têm um valor inferior ao 75º (valor/dado) percentil.  \n",
    "  \n",
    "E assim por diante. Note que metade dos dados tem um valor menor que o 50º (valor/dado) percentil - então o percentil 50 também é a mediana!  \n",
    "  \n",
    "Vamos examinar a nota de Frederic usando essa abordagem. Sabemos que ele marcou 57, mas como ele está em relação aos seus colegas?  \n",
    "  \n",
    " - Bem, há sete alunos no total;  \n",
    " - E cinco deles tiveram menos que Frederic;  \n",
    "\n",
    "então podemos calcular o percentil da nota de Frederic assim:  \n",
    "  \n",
    "\\begin{equation}\\frac{5}{7} \\times 100 \\approx 71.4\\end{equation} \n",
    "  \n",
    "Então, a pontuação de Frederic o coloca no 71º percentil de sua classe. __Veja que o Frederic é o tal (valor/dado) que nós tanto falamos__.\n",
    "\n",
    "No Python, você pode usar a função __percentileofscore()__ no pacote scipy.stats para calcular o percentil de um determinado valor em um conjunto de valores:"
   ]
  },
  {
   "cell_type": "code",
   "execution_count": 21,
   "metadata": {},
   "outputs": [
    {
     "name": "stdout",
     "output_type": "stream",
     "text": [
      "71.42857142857143\n"
     ]
    }
   ],
   "source": [
    "import pandas as pd\n",
    "from scipy import stats\n",
    "\n",
    "df = pd.DataFrame({'Name': ['Dan', 'Joann', 'Pedro', 'Rosie', 'Ethan', 'Vicky', 'Frederic'],\n",
    "                   'Salary':[50000,54000,50000,189000,55000,40000,59000],\n",
    "                   'Hours':[41,40,36,30,35,39,40],\n",
    "                   'Grade':[50,50,46,95,50,5,57]})\n",
    "\n",
    "# função percentileofscore() recebe como argumento:\n",
    "# - A label/coluna/lista em que vamos trabalhar;\n",
    "# - A nota do aluno Frederic;\n",
    "# - Define a função como 'strict' - Ou seja, compara apenas com os valores menores;\n",
    "# - E retorna a classificação n° percentil do valor/dado/aluno.\n",
    "print(stats.percentileofscore(df['Grade'], 57, 'strict'))"
   ]
  },
  {
   "cell_type": "markdown",
   "metadata": {},
   "source": [
    "Nós usamos a definição estrita(strict) de percentil; mas às vezes é calculado como sendo a porcentagem de valores que são __menores ou iguais__ ao __valor que você está comparando__.  \n",
    "  \n",
    "> Nesse caso, o cálculo do percentil de Frederic incluiria sua própria pontuação:  \n",
    "  \n",
    "\\begin{equation}\\frac{6}{7} \\times 100 \\approx 85.7\\end{equation} "
   ]
  },
  {
   "cell_type": "markdown",
   "metadata": {},
   "source": [
    "Você pode calcular dessa meneira no Python apenas definindo a função  __percentileofscore()__ como __\"weak\"__."
   ]
  },
  {
   "cell_type": "code",
   "execution_count": 22,
   "metadata": {},
   "outputs": [
    {
     "name": "stdout",
     "output_type": "stream",
     "text": [
      "85.71428571428571\n"
     ]
    }
   ],
   "source": [
    "import pandas as pd\n",
    "from scipy import stats\n",
    "\n",
    "df = pd.DataFrame({'Name': ['Dan', 'Joann', 'Pedro', 'Rosie', 'Ethan', 'Vicky', 'Frederic'],\n",
    "                   'Salary':[50000,54000,50000,189000,55000,40000,59000],\n",
    "                   'Hours':[41,40,36,30,35,39,40],\n",
    "                   'Grade':[50,50,46,95,50,5,57]})\n",
    "\n",
    "# A mesma abordagem, porém para valores MENORES ou IGUAIS.\n",
    "print(stats.percentileofscore(df['Grade'], 57, 'weak'))"
   ]
  },
  {
   "cell_type": "markdown",
   "metadata": {},
   "source": [
    "Consideramos o percentil do grau de Frederic e o usamos para classificá-lo em comparação com seus colegas. Então, e sobre Dan, Joann e Ethan? Como eles se comparam ao resto da turma? Eles obtiveram o mesmo grau (50), portanto, de certo modo, eles compartilham um percentil.  \n",
    "  \n",
    "Para lidar com esse cenário agrupado, podemos calcular a média das classificações percentuais para as pontuações correspondentes. Tratamos metade das pontuações que correspondem àquelas que classificamos como se estivessem abaixo dela e metade como se estivessem acima dela. Nesse caso, havia três pontuações correspondentes de 50, e para cada uma delas calculamos o percentil como se 1 estivesse abaixo e 1 estivesse acima. Portanto, o cálculo de um percentil para Joann com base em pontuações menores ou iguais a 50 é:  \n",
    "  \n",
    "\\begin{equation}(\\frac{4}{7}) \\times 100 \\approx 57.14\\end{equation}  \n",
    "\n",
    "O valor de __4__ consiste nas duas pontuações que estão abaixo da pontuação de 50 de Joann, na pontuação de Joann e em metade das pontuações que são as mesmas de Joann (das quais existem duas, portanto, contamos uma).\n",
    "\n",
    "No Python, a função ***percentileofscore()*** tem uma atributo de classificação __\"rank\"__ que calcula percentis agrupados como este:"
   ]
  },
  {
   "cell_type": "code",
   "execution_count": 26,
   "metadata": {},
   "outputs": [
    {
     "name": "stdout",
     "output_type": "stream",
     "text": [
      "57.14285714285714\n"
     ]
    }
   ],
   "source": [
    "import pandas as pd\n",
    "from scipy import stats\n",
    "\n",
    "df = pd.DataFrame({'Name': ['Dan', 'Joann', 'Pedro', 'Rosie', 'Ethan', 'Vicky', 'Frederic'],\n",
    "                   'Salary':[50000,54000,50000,189000,55000,40000,59000],\n",
    "                   'Hours':[41,40,36,30,35,39,40],\n",
    "                   'Grade':[50,50,46,95,50,5,57]})\n",
    "\n",
    "print(stats.percentileofscore(df['Grade'], 50, 'rank'))"
   ]
  },
  {
   "cell_type": "markdown",
   "metadata": {},
   "source": [
    "#### Quartis\n",
    "Em vez de usar percentis individuais para comparar dados, podemos considerar a distribuição geral dos dados dividindo esses percentis em __quatro quartis__:  \n",
    "  \n",
    "No Python, você pode usar a função quantile da classe pandas.dataframe para encontrar os valores limite nos percentis 25, 50 e 75 ( quantile é um termo genérico para uma posição classificada, como um percentil ou quartil).\n",
    "\n",
    "O código a seguir encontra os limites quartil para as horas semanais trabalhadas pelos nossos ex-alunos:"
   ]
  },
  {
   "cell_type": "code",
   "execution_count": 27,
   "metadata": {},
   "outputs": [
    {
     "name": "stdout",
     "output_type": "stream",
     "text": [
      "0.25    35.5\n",
      "0.50    39.0\n",
      "0.75    40.0\n",
      "Name: Hours, dtype: float64\n"
     ]
    }
   ],
   "source": [
    "# Quartiles\n",
    "import pandas as pd\n",
    "\n",
    "df = pd.DataFrame({'Name': ['Dan', 'Joann', 'Pedro', 'Rosie', 'Ethan', 'Vicky', 'Frederic'],\n",
    "                   'Salary':[50000,54000,50000,189000,55000,40000,59000],\n",
    "                   'Hours':[41,40,36,17,35,39,40],\n",
    "                   'Grade':[50,50,46,95,50,5,57]})\n",
    "print(df['Hours'].quantile([0.25, 0.5, 0.75]))"
   ]
  },
  {
   "cell_type": "markdown",
   "metadata": {},
   "source": [
    "Geralmente é mais fácil entender como os dados são distribuídos pelos quartis visualizando-os. Você pode usar um histograma, mas muitos cientistas de dados usam um tipo de visualização chamado `box plot` __(ou box and whiskers plot)__.\n",
    "\n",
    "Vamos criar um gráfico de caixa `(Box Plot)` para as horas semanais:"
   ]
  },
  {
   "cell_type": "code",
   "execution_count": 28,
   "metadata": {},
   "outputs": [
    {
     "data": {
      "image/png": "[encoded data removed]",
      "text/plain": [
       "<Figure size 720x576 with 1 Axes>"
      ]
     },
     "metadata": {},
     "output_type": "display_data"
    }
   ],
   "source": [
    "%matplotlib inline\n",
    "import pandas as pd\n",
    "from matplotlib import pyplot as plt\n",
    "\n",
    "df = pd.DataFrame({'Name': ['Dan', 'Joann', 'Pedro', 'Rosie', 'Ethan', 'Vicky', 'Frederic'],\n",
    "                   'Salary':[50000,54000,50000,189000,55000,40000,59000],\n",
    "                   'Hours':[41,40,36,30,35,39,40],\n",
    "                   'Grade':[50,50,46,95,50,5,57]})\n",
    "\n",
    "# Cria um plot/gráfico do tipo(kind) \"box\" a partir das horas trabalhas dos ex-alunos.\n",
    "df['Hours'].plot(kind='box', title='Weekly Hours Distribution', figsize=(10,8))\n",
    "plt.show()"
   ]
  },
  {
   "cell_type": "markdown",
   "metadata": {},
   "source": [
    "O box plot consiste em:  \n",
    "  \n",
    " - Uma caixa retangular que mostra onde estão os dados entre o 25º e o 75º percentil __(o segundo e o terceiro quartil)__. Essa parte da distribuição é geralmente chamada de intervalo interquartílico - ela contém os 50 valores de dados intermediários.  \n",
    " - Bigodes que se estendem da caixa até o final do primeiro quartil e o topo do quarto quartil para mostrar toda a gama de dados.  \n",
    " - Uma linha na caixa que mostra a localização da mediana (o percentil 50, que também é o limite entre o segundo e o terceiro quartil)  \n",
    "  \n",
    "O resultado vai ser o seguinte:  \n",
    "  \n",
    " - __O valor mínimo__ - 30;  \n",
    " - __O primeiro quartil__ - 35;  \n",
    " - __O segundo quartil__ - 39(mediana)  \n",
    " - __O terceiro quartil__ - 40  \n",
    " - __O valor máximo__ - 41  \n",
    "  \n",
    "Nesse caso, você pode ver que o intervalo interquartílico está entre 35 e 40, com a mediana mais próxima do topo desse intervalo. O intervalo do primeiro quartil é de cerca de 30 a 35, e o quarto quartil é de 40 a 41."
   ]
  },
  {
   "cell_type": "markdown",
   "metadata": {},
   "source": [
    "### 3.3 Outliers  \n",
    "Vamos dar uma olhada em outro Gráfico de Caixa (Box Plot) - desta vez mostrando a distribuição dos salários ganhos pelos nossos ex-colegas:"
   ]
  },
  {
   "cell_type": "code",
   "execution_count": 29,
   "metadata": {},
   "outputs": [
    {
     "data": {
      "image/png": "[encoded data removed]",
      "text/plain": [
       "<Figure size 720x576 with 1 Axes>"
      ]
     },
     "metadata": {},
     "output_type": "display_data"
    }
   ],
   "source": [
    "%matplotlib inline\n",
    "import pandas as pd\n",
    "from matplotlib import pyplot as plt\n",
    "\n",
    "df = pd.DataFrame({'Name': ['Dan', 'Joann', 'Pedro', 'Rosie', 'Ethan', 'Vicky', 'Frederic'],\n",
    "                   'Salary':[50000,54000,50000,189000,55000,40000,59000],\n",
    "                   'Hours':[41,40,36,30,35,39,40],\n",
    "                   'Grade':[50,50,46,95,50,5,57]})\n",
    "\n",
    "# Cria um plot/gráfico do tipo(kind) \"box\" a partir dos salários dos ex-alunos.\n",
    "df['Salary'].plot(kind='box', title='Salary Distribution', figsize=(10,8))\n",
    "plt.show()"
   ]
  },
  {
   "cell_type": "markdown",
   "metadata": {},
   "source": [
    "Então, o que está acontecendo aqui?\n",
    "\n",
    "Bem, como já notamos, Rosie ganha muito mais do que seus ex-colegas. Tanto mais que o salário dela foi identificado como um __outlier (quando há valores discrepantes)__.  \n",
    "  \n",
    "Um __outlier (quando há valores discrepantes)__ é um valor tão distante do centro da distribuição comparado a outros valores que distorce a distribuição afetando a média. Há vários motivos pelos quais você pode ter valores discrepantes em seus dados, incluindo:  \n",
    "  \n",
    " - Erros de entrada de dados;  \n",
    " - Falhas em sensores ou equipamentos;  \n",
    " - Geradores de dados ou valores genuinamente anômalos.  \n",
    "  \n",
    "Então, o que devemos fazer sobre isso?  \n",
    "  \n",
    "Isso realmente depende dos dados e do que você está tentando usar. Neste caso, vamos supor que estamos tentando descobrir o que é uma expectativa razoável de salário para um graduado de nossa escola ganhar. Ignorando por enquanto que temos um conjunto de dados extremamente pequeno sobre o qual basear nosso julgamento, parece que o salário de Rosie poderia ser um erro (talvez ela tenha digitado errado na forma usada para coletar dados) ou uma anomalia genuína (talvez ela se tornou uma atleta profissional ou algum outro trabalho extremamente bem remunerado). De qualquer maneira, não parece representar um salário que um graduado típico possa ganhar.  \n",
    "  \n",
    "Vamos ver como é a distribuição dos dados sem o outlier:"
   ]
  },
  {
   "cell_type": "code",
   "execution_count": 30,
   "metadata": {},
   "outputs": [
    {
     "data": {
      "image/png": "[encoded data removed]",
      "text/plain": [
       "<Figure size 720x576 with 1 Axes>"
      ]
     },
     "metadata": {},
     "output_type": "display_data"
    }
   ],
   "source": [
    "%matplotlib inline\n",
    "import pandas as pd\n",
    "from matplotlib import pyplot as plt\n",
    "\n",
    "df = pd.DataFrame({'Name': ['Dan', 'Joann', 'Pedro', 'Rosie', 'Ethan', 'Vicky', 'Frederic'],\n",
    "                   'Salary':[50000,54000,50000,189000,55000,40000,59000],\n",
    "                   'Hours':[41,40,36,17,35,39,40],\n",
    "                   'Grade':[50,50,46,95,50,5,57]})\n",
    "\n",
    "# Utiliza o atributo showfliers = False - Ou seja, ignora dados discrepantes.\n",
    "df['Salary'].plot(kind='box', title='Salary Distribution', figsize=(10,8), showfliers=False)\n",
    "plt.show()"
   ]
  },
  {
   "cell_type": "markdown",
   "metadata": {},
   "source": [
    "Agora parece que há uma distribuição mais equilibrada dos salários. Ainda não é bem simétrico, mas há muito menos variação geral. Há potencialmente alguma causa aqui para desconsiderar os dados salariais de Rosie quando comparamos os salários, já que isso tende a distorcer a análise.  \n",
    "  \n",
    "Então está tudo bem? Podemos simplesmente ignorar um valor de dados que não gostamos?  \n",
    "  \n",
    "Mais uma vez, depende do que você está analisando. Vamos dar uma olhada na distribuição das notas finais:"
   ]
  },
  {
   "cell_type": "code",
   "execution_count": 31,
   "metadata": {},
   "outputs": [
    {
     "data": {
      "image/png": "[encoded data removed]",
      "text/plain": [
       "<Figure size 720x576 with 1 Axes>"
      ]
     },
     "metadata": {},
     "output_type": "display_data"
    }
   ],
   "source": [
    "%matplotlib inline\n",
    "import pandas as pd\n",
    "from matplotlib import pyplot as plt\n",
    "\n",
    "df = pd.DataFrame({'Name': ['Dan', 'Joann', 'Pedro', 'Rosie', 'Ethan', 'Vicky', 'Frederic'],\n",
    "                   'Salary':[50000,54000,50000,189000,55000,40000,59000],\n",
    "                   'Hours':[41,40,36,17,35,39,40],\n",
    "                   'Grade':[50,50,46,95,50,5,57]})\n",
    "\n",
    "# Cria um plot/gráfico do tipo(kind) \"box\" para as notas finais dos alunos.\n",
    "df['Grade'].plot(kind='box', title='Grade Distribution', figsize=(10,8))\n",
    "plt.show()"
   ]
  },
  {
   "cell_type": "markdown",
   "metadata": {},
   "source": [
    "Mais uma vez, existem __outliers (quando há valores discrepantes)__, __desta vez em ambas as extremidades da distribuição__. No entanto, pense no que esses dados representam. Se assumirmos que a nota para o teste final é baseada em uma pontuação de 100, parece razoável esperar que alguns alunos pontuem muito baixo (talvez até 0) e alguns irão pontuar muito bem (talvez até 100); mas a maioria terá uma pontuação em algum lugar no meio. A razão pela qual as pontuações baixas e altas aqui parecem outliers pode ser apenas porque temos tão poucos pontos de dados.  \n",
    "  \n",
    "__NOTE:__  \n",
    "Vamos ver o que acontece se incluirmos mais alguns alunos em nossos dados:"
   ]
  },
  {
   "cell_type": "code",
   "execution_count": 32,
   "metadata": {},
   "outputs": [
    {
     "data": {
      "image/png": "[encoded data removed]",
      "text/plain": [
       "<Figure size 720x576 with 1 Axes>"
      ]
     },
     "metadata": {},
     "output_type": "display_data"
    }
   ],
   "source": [
    "%matplotlib inline\n",
    "import pandas as pd\n",
    "from matplotlib import pyplot as plt\n",
    "\n",
    "df = pd.DataFrame({'Name': ['Dan', 'Joann', 'Pedro', 'Rosie', 'Ethan', 'Vicky', 'Frederic', 'Jimmie', 'Rhonda', 'Giovanni', 'Francesca', 'Rajab', 'Naiyana', 'Kian', 'Jenny'],\n",
    "                   'Grade':[50,50,46,95,50,5,57,42,26,72,78,60,40,17,85]})\n",
    "\n",
    "# Cria um plot/gráfico do tipo(kind) \"box\" para as notas finais dos alunos.\n",
    "df['Grade'].plot(kind='box', title='Grade Distribution', figsize=(10,8))\n",
    "plt.show()"
   ]
  },
  {
   "cell_type": "markdown",
   "metadata": {},
   "source": [
    "Com mais dados, existem algumas pontuações mais altas e baixas; então, não consideramos mais os casos isolados como outliers.\n",
    "\n",
    "O ponto-chave a ser levado em consideração é que você realmente precisa entender os dados e o que está tentando fazer com eles, e precisa garantir que tenha um tamanho razoável de amostra antes de determinar o que fazer com os valores discrepantes."
   ]
  },
  {
   "cell_type": "markdown",
   "metadata": {},
   "source": [
    "# 4. Variância e Desvio Padrão\n",
    "Vimos como entender a disseminação de nossa distribuição de dados usando __o intervalo__, __os percentis__ e os __quartis__; e vimos o __efeito de outliers__ na distribuição. Agora é hora de analisar como medir:  \n",
    "\n",
    "> __A quantidade de variação nos dados__."
   ]
  },
  {
   "cell_type": "markdown",
   "metadata": {},
   "source": [
    "### 4.1 Variação - (Variância)"
   ]
  },
  {
   "cell_type": "markdown",
   "metadata": {},
   "source": [
    "> __A variância é igual, o somatório dos quadrados, diferenças entre cada observação e a média aritmética delas, dividida pelo número de observações__.  \n",
    "  \n",
    " - Para uma __população completa__, é indicada por uma letra grega quadrada *sigma* (***&sigma;<sup>2</sup>***) e calculada assim:\n",
    "\n",
    "\\begin{equation}\\sigma^{2} = \\frac{\\displaystyle\\sum_{i=1}^{N} (X_{i} -\\mu)^{2}}{N}\\end{equation}\n",
    "  \n",
    " - Para __uma amostra__, é indicada como ***s<sup>2</sup>*** calculado da seguinte forma:  \n",
    "  \n",
    "\\begin{equation}s^{2} = \\frac{\\displaystyle\\sum_{i=1}^{n} (x_{i} -\\bar{x})^{2}}{n-1}\\end{equation}\n",
    "  \n",
    "Em ambos os casos, somamos a diferença entre os valores de dados individuais e a média e o quadrado do resultado.  \n",
    "  \n",
    " - Para __uma população completa__, apenas dividimos pelo número de itens de dados para obter a média.  \n",
    " - Ao usar __uma amostra__, `dividimos pelo número total de itens menos 1 para corrigir o viés da amostra`.  \n",
    "  \n",
    "Vamos resolver isso para as notas dos alunos (supondo que nossos dados sejam uma amostra da maior população de estudantes).  \n",
    "  \n",
    "Primeiro, precisamos calcular a nota média:  \n",
    "  \n",
    "\\begin{equation}\\bar{x} = \\frac{50+50+46+95+50+5+57}{7}\\approx 50.43\\end{equation}\n",
    "\n",
    "Então, podemos inserir isso na nossa fórmula para a variação:\n",
    "\n",
    "\\begin{equation}s^{2} = \\frac{(50-50.43)^{2}+(50-50.43)^{2}+(46-50.43)^{2}+(95-50.43)^{2}+(50-50.43)^{2}+(5-50.43)^{2}+(57-50.43)^{2}}{7-1}\\end{equation}\n",
    "\n",
    "Assimo:\n",
    "\n",
    "\\begin{equation}s^{2} = \\frac{0.185+0.185+19.625+1986.485+0.185+2063.885+43.165}{6}\\end{equation}\n",
    "\n",
    "O que simplifica para:\n",
    "\n",
    "\\begin{equation}s^{2} = \\frac{4113.715}{6}\\end{equation}\n",
    "\n",
    "Dando o resultado:\n",
    "\n",
    "\\begin{equation}s^{2} \\approx 685.619\\end{equation}\n",
    "\n",
    "Quanto maior a variação, mais disseminados seus dados estarão em torno da média.\n",
    "\n",
    "No Python, você pode usar a função var() da classe pandas.dataframe para calcular a variação de uma coluna em um dataframe:"
   ]
  },
  {
   "cell_type": "code",
   "execution_count": 33,
   "metadata": {},
   "outputs": [
    {
     "name": "stdout",
     "output_type": "stream",
     "text": [
      "685.6190476190476\n"
     ]
    }
   ],
   "source": [
    "import pandas as pd\n",
    "\n",
    "df = pd.DataFrame({'Name': ['Dan', 'Joann', 'Pedro', 'Rosie', 'Ethan', 'Vicky', 'Frederic'],\n",
    "                   'Salary':[50000,54000,50000,189000,55000,40000,59000],\n",
    "                   'Hours':[41,40,36,17,35,39,40],\n",
    "                   'Grade':[50,50,46,95,50,5,57]})\n",
    "\n",
    "# Pega a label/coluna \"Grade\" do DataFrame\n",
    "# e calcula a variância com a função var(). \n",
    "print(df['Grade'].var())"
   ]
  },
  {
   "cell_type": "markdown",
   "metadata": {},
   "source": [
    "### 4.2 Desvio Padrão"
   ]
  },
  {
   "cell_type": "markdown",
   "metadata": {},
   "source": [
    "Para calcular a variância, ajustamos a diferença de cada valor da média. Se não tivéssemos feito isso, o numerador da nossa fração sempre acabaria sendo zero (porque a média está no centro dos nossos valores). No entanto, isso significa que a variância não está na mesma unidade de medida dos nossos dados - no nosso caso, como estamos calculando a variância para pontos de notas, ela está em pontos de notas ao quadrado; o que não é muito útil.  \n",
    "  \n",
    "Para obter a medida de variância de volta na mesma unidade de medida, precisamos encontrar sua __raiz quadrada__:  \n",
    "  \n",
    "\\begin{equation}s = \\sqrt{685.619} \\approx 26.184\\end{equation}  \n",
    "  \n",
    "Então, o que esse valor representa?  \n",
    "  \n",
    "É o __Desvio Padrão__ para os dados das nossas notas. Mais formalmente, é calculado assim para uma população completa:  \n",
    "  \n",
    "\\begin{equation}\\sigma = \\sqrt{\\frac{\\displaystyle\\sum_{i=1}^{N} (X_{i} -\\mu)^{2}}{N}}\\end{equation}  \n",
    "  \n",
    "Ou assim, para um exemplo:  \n",
    "  \n",
    "\\begin{equation}s = \\sqrt{\\frac{\\displaystyle\\sum_{i=1}^{n} (x_{i} -\\bar{x})^{2}}{n-1}}\\end{equation}  \n",
    "  \n",
    "Note que em ambos os casos, é apenas a raiz quadrada da variante da fórmula correspondente!  \n",
    "  \n",
    "No Python, você pode calcular o __Desvio Padrão__ usando a função __std()__ do Pandas."
   ]
  },
  {
   "cell_type": "code",
   "execution_count": 34,
   "metadata": {},
   "outputs": [
    {
     "name": "stdout",
     "output_type": "stream",
     "text": [
      "26.184328282754315\n"
     ]
    }
   ],
   "source": [
    "import pandas as pd\n",
    "\n",
    "df = pd.DataFrame({'Name': ['Dan', 'Joann', 'Pedro', 'Rosie', 'Ethan', 'Vicky', 'Frederic'],\n",
    "                   'Salary':[50000,54000,50000,189000,55000,40000,59000],\n",
    "                   'Hours':[41,40,36,17,35,39,40],\n",
    "                   'Grade':[50,50,46,95,50,5,57]})\n",
    "\n",
    "# Calcula o Desvio Padrão das notas.\n",
    "print(df['Grade'].std())"
   ]
  },
  {
   "cell_type": "markdown",
   "metadata": {},
   "source": [
    "### 4.3 Desvio padrão em uma distribuição normal"
   ]
  },
  {
   "cell_type": "markdown",
   "metadata": {},
   "source": [
    "Em estatística e ciência de dados, gastamos muito tempo considerando distribuições normais; porque eles ocorrem com muita frequência. O __Desvio Padrão__ tem uma relação importante para jogar em uma distribuição normal.  \n",
    "  \n",
    "Veja o seguinte histograma que representa uma __distribuição normal padrão__ `(que é uma distribuição com uma média de 0 e um desvio padrão de 1)`:"
   ]
  },
  {
   "cell_type": "code",
   "execution_count": 35,
   "metadata": {},
   "outputs": [
    {
     "data": {
      "image/png": "[encoded data removed]",
      "text/plain": [
       "<Figure size 432x288 with 1 Axes>"
      ]
     },
     "metadata": {},
     "output_type": "display_data"
    }
   ],
   "source": [
    "%matplotlib inline\n",
    "import pandas as pd\n",
    "import matplotlib.pyplot as plt\n",
    "import numpy as np\n",
    "import scipy.stats as stats\n",
    "\n",
    "# Cria uma distribuição normal padrão aleatória com np.random.randn() e salva no DataFrame - df:\n",
    "# - Os argumentos para a função random.randn() são as dimensões: (100000, 1) = 100.000 linhas por 1 coluna.\n",
    "# - columns=['Grade'] é onde armazenar os dados no df. Se não específicar o df não vai ter uma label específico.\n",
    "df = pd.DataFrame(np.random.randn(100000, 1), columns=['Grade'])\n",
    "\n",
    "grade = df['Grade'] # Pega a distribuição criada no label/coluna \"Grade\".\n",
    "density = stats.gaussian_kde(grade) # Pega a densidade da distribuição.\n",
    "\n",
    "n, x, _ = plt.hist(grade, color='lightgrey', density=True, bins=100) # Cria o Histograma. \n",
    "plt.plot(x, density(x)) # Adiciona a densidade/linha de densidade no plot/gráfico.\n",
    "\n",
    "s = df['Grade'].std() # Pega o Desvio Padrão da distribuição normal padrão criada.\n",
    "m = df['Grade'].mean() # Pega a média da distribuição normal padrão criada.\n",
    "\n",
    "# Annotate 1 stdev\n",
    "x1 = [m-s, m+s]\n",
    "y1 = [0.25, 0.25]\n",
    "plt.plot(x1,y1, color='magenta')\n",
    "plt.annotate('1s (68.26%)', (x1[1],y1[1]))\n",
    "\n",
    "# Annotate 2 stdevs\n",
    "x2 = [m-(s*2), m+(s*2)]\n",
    "y2 = [0.05, 0.05]\n",
    "plt.plot(x2,y2, color='green')\n",
    "plt.annotate('2s (95.45%)', (x2[1],y2[1]))\n",
    "\n",
    "# Annotate 3 stdevs\n",
    "x3 = [m-(s*3), m+(s*3)]\n",
    "y3 = [0.005, 0.005]\n",
    "plt.plot(x3,y3, color='orange')\n",
    "plt.annotate('3s (99.73%)', (x3[1],y3[1]))\n",
    "\n",
    "# Adiciona a média(mean) no plot/gráfico.\n",
    "plt.axvline(grade.mean(), color='grey', linestyle='dashed', linewidth=1)\n",
    "\n",
    "plt.show()"
   ]
  },
  {
   "cell_type": "markdown",
   "metadata": {},
   "source": [
    "As linhas coloridas horizontais mostram a porcentagem de dados dentro de 1, 2 e 3 desvios padrão da média (mais ou menos).  \n",
    "  \n",
    "Em qualquer distribuição normal:  \n",
    "  \n",
    " - Aproximadamente 68,26% dos valores estão dentro de um desvio padrão da média.  \n",
    " - Aproximadamente 95,45% dos valores estão dentro de dois desvios padrão da média.  \n",
    " - Aproximadamente 99,73% dos valores estão dentro de três desvios padrão da méddia."
   ]
  },
  {
   "cell_type": "markdown",
   "metadata": {},
   "source": [
    "### 4.4 Z Score"
   ]
  },
  {
   "cell_type": "markdown",
   "metadata": {},
   "source": [
    "Portanto, em uma distribuição normal (ou próxima do normal), o desvio padrão fornece uma maneira de avaliar a que distância de uma média um determinado intervalo de valores cai, permitindo comparar onde um determinado valor está dentro da distribuição. Por exemplo, suponha que Rosie lhe diga que ela foi a aluna de maior pontuação entre suas amigas - isso não nos ajuda realmente a avaliar o quão bem ela marcou. Ela pode ter marcado apenas uma fração de um ponto acima do segundo maior aluno de pontuação. Mesmo se soubermos que ela estava no quartil superior; Se não sabemos como o resto das notas são distribuídas, ainda não está claro o quão bem ela se apresentou em comparação com seus amigos.  \n",
    "  \n",
    "No entanto, se ela disser quantos desvios padrão são maiores do que a média de sua pontuação, isso ajudará você a comparar sua pontuação com a de seus colegas de classe.  \n",
    "  \n",
    "Então, como sabemos quantos desvios padrão estão acima ou abaixo da média de um determinado valor? Nós chamamos isso de Z Score , e é calculado assim para uma população completa:  \n",
    "  \n",
    "\\begin{equation}Z = \\frac{x - \\mu}{\\sigma}\\end{equation}  \n",
    "  \n",
    "ou assim para uma amostra:  \n",
    "  \n",
    "\\begin{equation}Z = \\frac{x - \\bar{x}}{s}\\end{equation}  \n",
    "  \n",
    "Então, vamos examinar a nota de Rosie de 95. Agora que sabemos que a nota média é 50,43 e o desvio padrão é 26,184, podemos calcular a pontuação Z para essa nota assim:  \n",
    "  \n",
    "\\begin{equation}Z = \\frac{95 - 50.43}{26.184} = 1.702\\end{equation}.  \n",
    "  \n",
    "Portanto, o grau de Rosie é de 1,702 desvios-padrão acima da média."
   ]
  },
  {
   "cell_type": "markdown",
   "metadata": {},
   "source": [
    "### 4.5 Resumindo a distribuição de dados no Python"
   ]
  },
  {
   "cell_type": "markdown",
   "metadata": {},
   "source": [
    "Vimos como obter estatísticas individuais em Python, mas você também pode usar a função describe para recuperar estatísticas de resumo de todas as colunas numéricas em um dataframe. Estas estatísticas resumidas incluem muitas das estatísticas que examinamos até agora __(embora seja importante notar que a mediana não está incluída)__:"
   ]
  },
  {
   "cell_type": "code",
   "execution_count": 36,
   "metadata": {},
   "outputs": [
    {
     "name": "stdout",
     "output_type": "stream",
     "text": [
      "           Grade      Hours         Salary\n",
      "count   7.000000   7.000000       7.000000\n",
      "mean   50.428571  35.428571   71000.000000\n",
      "std    26.184328   8.423324   52370.475143\n",
      "min     5.000000  17.000000   40000.000000\n",
      "25%    48.000000  35.500000   50000.000000\n",
      "50%    50.000000  39.000000   54000.000000\n",
      "75%    53.500000  40.000000   57000.000000\n",
      "max    95.000000  41.000000  189000.000000\n"
     ]
    }
   ],
   "source": [
    "import pandas as pd\n",
    "\n",
    "df = pd.DataFrame({'Name': ['Dan', 'Joann', 'Pedro', 'Rosie', 'Ethan', 'Vicky', 'Frederic'],\n",
    "                   'Salary':[50000,54000,50000,189000,55000,40000,59000],\n",
    "                   'Hours':[41,40,36,17,35,39,40],\n",
    "                   'Grade':[50,50,46,95,50,5,57]})\n",
    "\n",
    "# Pega um resumo estatístico de todas as colunas.\n",
    "print(df.describe())"
   ]
  },
  {
   "cell_type": "markdown",
   "metadata": {},
   "source": [
    "__Estudos Adicionais:__  \n",
    "[Distribuição - Simétrica vs Assimétrica](https://www.youtube.com/watch?v=yhWyPiMi-i4)  \n",
    "[Gráfico de Caixa - Box Plot](https://www.youtube.com/watch?v=_kVF1VOe140)  \n",
    "[Lendo Gráficos de Caixa - Box plot](https://www.youtube.com/watch?v=jbut5E7543k&t=5s)  \n",
    "[Variância & Desvio Padrão](https://www.youtube.com/watch?v=I2r2HPE8L7Q)  \n",
    "[Distribuição Normal](https://www.youtube.com/watch?v=MoGes4OzsIk)"
   ]
  }
 ],
 "metadata": {
  "kernelspec": {
   "display_name": "Python 3",
   "language": "python",
   "name": "python3"
  },
  "language_info": {
   "codemirror_mode": {
    "name": "ipython",
    "version": 3
   },
   "file_extension": ".py",
   "mimetype": "text/x-python",
   "name": "python",
   "nbconvert_exporter": "python",
   "pygments_lexer": "ipython3",
   "version": "3.4.2"
  }
 },
 "nbformat": 4,
 "nbformat_minor": 2
}
