{
 "cells": [
  {
   "cell_type": "markdown",
   "metadata": {},
   "source": [
    "# Média, Mediana, Modo e Intervalo(range)"
   ]
  },
  {
   "cell_type": "markdown",
   "metadata": {},
   "source": [
    "# 01. Encontrando a média(Mean)"
   ]
  },
  {
   "cell_type": "code",
   "execution_count": 1,
   "metadata": {},
   "outputs": [],
   "source": [
    "# Cria uma lista simples.\n",
    "simplelist = [1, 2, 3]"
   ]
  },
  {
   "cell_type": "code",
   "execution_count": 2,
   "metadata": {},
   "outputs": [
    {
     "data": {
      "text/plain": [
       "[1, 2, 3]"
      ]
     },
     "execution_count": 2,
     "metadata": {},
     "output_type": "execute_result"
    }
   ],
   "source": [
    "# Exibe a lista criada.\n",
    "simplelist"
   ]
  },
  {
   "cell_type": "markdown",
   "metadata": {},
   "source": [
    "__NOTE:__  \n",
    "Podemos usar a função __len()__ para nos dar o tamanho de uma lista:"
   ]
  },
  {
   "cell_type": "code",
   "execution_count": 3,
   "metadata": {},
   "outputs": [
    {
     "data": {
      "text/plain": [
       "3"
      ]
     },
     "execution_count": 3,
     "metadata": {},
     "output_type": "execute_result"
    }
   ],
   "source": [
    "len(simplelist)"
   ]
  },
  {
   "cell_type": "markdown",
   "metadata": {},
   "source": [
    "__NOTE:__  \n",
    "Quando usamos a função __len()__ na lista, ela retorna 3 porque há três itens na lista. Agora estamos prontos para escrever um programa que calculará a média da lista de doações."
   ]
  },
  {
   "cell_type": "code",
   "execution_count": 4,
   "metadata": {},
   "outputs": [],
   "source": [
    "'''\n",
    "Calculando a média(mean)\n",
    "'''\n",
    "\n",
    "# Função para calcular a média(mean).\n",
    "def calculate_mean(items):\n",
    "    \n",
    "    sum_items = sum(items) # Soma todos os elementos da lista recebida como argumento.\n",
    "    number_items = len(items) # Pega o número de elementos da lista.\n",
    "    \n",
    "    # Retorna a soma de todos os elementos divida pelo o número de elemento da lista.\n",
    "    return sum_items/number_items"
   ]
  },
  {
   "cell_type": "code",
   "execution_count": 5,
   "metadata": {},
   "outputs": [
    {
     "data": {
      "text/plain": [
       "2.0"
      ]
     },
     "execution_count": 5,
     "metadata": {},
     "output_type": "execute_result"
    }
   ],
   "source": [
    "calculate_mean([1, 2, 3])"
   ]
  },
  {
   "cell_type": "markdown",
   "metadata": {},
   "source": [
    "### Example 02"
   ]
  },
  {
   "cell_type": "code",
   "execution_count": 6,
   "metadata": {},
   "outputs": [
    {
     "name": "stdout",
     "output_type": "stream",
     "text": [
      "A Média(mean) de doações nós últimos 12 dias é 477.75:\n"
     ]
    }
   ],
   "source": [
    "'''\n",
    "Programa para calcular a média(mean)\n",
    "'''\n",
    "\n",
    "# Função para calcular a média(mean).\n",
    "def calculate_mean(items):\n",
    "    \n",
    "    sum_items = sum(items) # Soma todos os elementos da lista recebida.\n",
    "    number_items = len(items) # Pega o número de elementos da lista.\n",
    "    \n",
    "    # Retorna a soma de todos os elementos divida pelo o número de elemento da lista.\n",
    "    return sum_items/number_items\n",
    "\n",
    "\n",
    "if __name__ =='__main__':\n",
    "    \n",
    "    # Cria uma lista para representar doações.\n",
    "    donations = [100, 60, 70, 900, 100, 200, 500, 500, 503, 600, 1000, 1200]\n",
    "    \n",
    "    # Calcula a média(mean) com a função calculate_mean().\n",
    "    mean = calculate_mean(donations)\n",
    "    \n",
    "    # Pega o número de elementos(doações).\n",
    "    N = len(donations)\n",
    "    \n",
    "    # A função format() pode ser usada para exibir valores de variáveis.\n",
    "    # Esses valores são exibidos dentro da função print por ordem/índices\n",
    "    print('A Média(mean) de doações nós últimos {0} dias é {1}:'.format(N, mean))"
   ]
  },
  {
   "cell_type": "markdown",
   "metadata": {},
   "source": [
    "# 02. Encontrando a Mediana(Median)\n",
    "  \n",
    "A __Mediana(Median)__ de uma coleção de números/dados é outro tipo de média:  \n",
    "  \n",
    " - Para encontrar a mediana, primeiro __ordenamos__ os números em __ordem crescente__;  \n",
    " - Se o tamanho da lista de números/dados for ímpar, o número no meio da lista é a mediana(median) - __1, 2, (ímpar = mediana), 4, 5__;  \n",
    " - Se o tamanho da lista de números/dados for par, obtemos a mediana(median) pegando a média dos dois números do meio.  \n",
    " \n",
    "Vamos encontrar a mediana da seguinte lista de doações:  \n",
    "  \n",
    "> 100, 60, 70, 900, 100, 200, 500, 500, 503, 600, 1000, 1200  \n",
    "  \n",
    "Primeiro, precisamos ordenar do menor para o maior:  \n",
    "  \n",
    "> 60, 70, 100, 100, 200, 500, 500, 503, 600, 900, 1000, 1200  \n",
    "  \n",
    "Temos um número par de itens na lista(12), então, para obter a mediana(median), precisamos pegar a média dos dois números do meio. Nesse caso, os números do meio são o sexto e o sétimo números - 500 e 500 - e a média desses dois números é __(500 + 500)/2__, que chega a __500__.  \n",
    "  \n",
    " - A median(median) é 500  \n",
    "  \n",
    "Agora suponha - apenas para este exemplo - que tenhamos outro total de doações para 13 itens de uma list que se pareça com isto:  \n",
    "  \n",
    "> 100, 60, 70, 900, 100, 200, 500, 500, 503, 600, 1000, 1200, 800  \n",
    "  \n",
    "Mais uma vez, temos que ordenar a lista primeiro:  \n",
    "  \n",
    "> 60, 70, 100, 100, 200, 500, 500, 503, 600, 800, 900, 1000, 1200  \n",
    "  \n",
    "Existem 13 números nesta lista, um número __ímpar__, portanto, a mediana(median) dessa lista é simplesmente o número do meio. Nesse caso, esse é o sétimo número, que é 500."
   ]
  },
  {
   "cell_type": "markdown",
   "metadata": {},
   "source": [
    "### NOTE:  \n",
    "  \n",
    "Antes de escrevermos um programa para encontrar a mediana(median) de uma lista de números/dados, vamos pensar em como podemos calcular automaticamente os elementos do meio de uma lista nos dois casos:  \n",
    "  \n",
    "__Método para uma lista de números par(even):__  \n",
    "Se N (número de elementos/dados) for par, os dois elementos do meio são __N/2__ e __(N/2) + 1__:  \n",
    "  \n",
    "Por exemplo, a lista abaixo:  \n",
    "  \n",
    "> [1, 2, 3, 4]  \n",
    "  \n",
    " - N = 4;  \n",
    " - O primeiro elemento da mediana(median): 4/2 = __(2)__  \n",
    " - O segundo elemento da mediana(median): 4/2 + 1 = __(3)__  \n",
    "  \n",
    "__Método para uma lista de número ímpar(odd):__  \n",
    "Se o tamanaho de uma lista N (número de elementos/dados) for ímpar, o número do meio é o da posição __(N + 1)/2__:  \n",
    "  \n",
    "Poe exemplo, a lista abaixo:  \n",
    "  \n",
    "> [1, 2, 3, 4, 5]  \n",
    "  \n",
    " - N = 5  \n",
    " - Mediana(median) = (5 + 1)/2 = __(3)__"
   ]
  },
  {
   "cell_type": "markdown",
   "metadata": {},
   "source": [
    "__NOTE:__  \n",
    "Para escrever uma função que calcula a mediana(median), primeiro precisamos ordenar uma lista em ordem crescente.  \n",
    "Felizmente, o método __sort()__ faz exatamente isso:"
   ]
  },
  {
   "cell_type": "code",
   "execution_count": 7,
   "metadata": {},
   "outputs": [],
   "source": [
    "# Cria uma lista simples.\n",
    "simplelist = [4, 3, 2, 1]"
   ]
  },
  {
   "cell_type": "code",
   "execution_count": 8,
   "metadata": {},
   "outputs": [
    {
     "data": {
      "text/plain": [
       "[4, 3, 2, 1]"
      ]
     },
     "execution_count": 8,
     "metadata": {},
     "output_type": "execute_result"
    }
   ],
   "source": [
    "# Exibe a lista criada.\n",
    "simplelist"
   ]
  },
  {
   "cell_type": "code",
   "execution_count": 9,
   "metadata": {},
   "outputs": [],
   "source": [
    "# Ordena a lista criada.\n",
    "simplelist.sort()"
   ]
  },
  {
   "cell_type": "code",
   "execution_count": 10,
   "metadata": {},
   "outputs": [
    {
     "data": {
      "text/plain": [
       "[1, 2, 3, 4]"
      ]
     },
     "execution_count": 10,
     "metadata": {},
     "output_type": "execute_result"
    }
   ],
   "source": [
    "# Exibe a lista ordenada.\n",
    "simplelist"
   ]
  },
  {
   "cell_type": "markdown",
   "metadata": {},
   "source": [
    "Agora podemos escrever nosso programa, que encontra a mediana(median) de uma lista de números/dados:"
   ]
  },
  {
   "cell_type": "code",
   "execution_count": 11,
   "metadata": {},
   "outputs": [
    {
     "name": "stdout",
     "output_type": "stream",
     "text": [
      "A Mediana(median) de doações nós últimos 12 dias é 500.0:\n"
     ]
    }
   ],
   "source": [
    "'''\n",
    "Calculando a Mediana(median).\n",
    "'''\n",
    "\n",
    "# Função para calcular a mediana(median).\n",
    "def calculate_median(items):\n",
    "    \n",
    "    n_items = len(items) # Pega o número de itens da lista recebida.\n",
    "    items.sort() # Ordena a lista recebida.\n",
    "\n",
    "    # Se o número de elementos(n_items) for um número \"par\" o resto da divisão\n",
    "    # vai resultar em zero, ou seja, vamos entrar na instrução if, senão,\n",
    "    # o número vai ser ímpar e vamos para a instrução else.\n",
    "    if n_items % 2 == 0:\n",
    "        # [Case - Par/Even]\n",
    "        \n",
    "        # Pega o primeiro elemento da mediana(median).\n",
    "        m1 = n_items/2\n",
    "        # Pega o segundo elemento da mediana(median).\n",
    "        m2 = (n_items/2) + 1\n",
    "        \n",
    "        # - Converte para inteiros\n",
    "        # - (-1) é porque todas as listas em Python iniciam do índice zero(0).\n",
    "        m1 = int(m1) - 1\n",
    "        m2 = int(m2) - 1\n",
    "        \n",
    "        # Calcula a Mediana(median) - Par/Even.\n",
    "        median = (items[m1] + items[m2])/2\n",
    "    else:\n",
    "        # Pega o elemento do meio da Mediana(median) - Ímpar/Odd\n",
    "        m = (n_items+1)/2\n",
    "        \n",
    "        # - Converte para inteiros\n",
    "        # - (-1) é porque todas as listas em Python iniciam do índice zero(0).\n",
    "        m = int(m) - 1\n",
    "\n",
    "        # Pega a  Mediana(median) - Ímpar/Odd.\n",
    "        median = items[m]\n",
    "        \n",
    "    # Retorna a Mediana(median) depois dos calculos.\n",
    "    return median\n",
    "\n",
    "if __name__ == '__main__':\n",
    "\n",
    "    # Cria uma lista para representar doações.\n",
    "    donations = [100, 60, 70, 900, 100, 200, 500, 500, 503, 600, 1000, 1200]\n",
    "    \n",
    "    # Calcula a Mediana(median) das doações com a função calculate_median().\n",
    "    median = calculate_median(donations)\n",
    "    \n",
    "    # Pega o número de doações.\n",
    "    N = len(donations)\n",
    "\n",
    "    # A função format() pode ser usada para exibir valores de variáveis.\n",
    "    # Esses valores são exibidos dentro da função print por ordem/índices \n",
    "    print('A Mediana(median) de doações nós últimos {0} dias é {1}:'.format(N, median))"
   ]
  },
  {
   "cell_type": "markdown",
   "metadata": {},
   "source": [
    "# 03. Encontrando o modo(mode)\n",
    "  \n",
    "Em vez de encontrar o valor __médio__ ou a __mediana__ de um conjunto de números, e se você quiser encontrar o número que ocorre com mais frequência? Esse número é chamado de __modo(mode)__."
   ]
  },
  {
   "cell_type": "markdown",
   "metadata": {},
   "source": [
    "Por exemplo, considere os resultados dos testes de matemática (de 10 pontos) em uma turma de 20 alunos:  \n",
    "  \n",
    "> 7, 8, 9, 2, 10, 9, 9, 9, 9, 4, 5, 6, 1, 5, 6, 7, 8, 6, 1, 10  \n",
    "  \n",
    "O modo(mode) desta lista indica qual é a pontuação mais comum na aula. Na lista, __você pode ver que a pontuação de 9 ocorre com mais frequência__, então 9 é o modo para essa lista de números.  \n",
    "  \n",
    "Não existe uma fórmula simbólica para calcular o modo - basta contar quantas vezes cada número único ocorre e encontrar o que ocorre mais."
   ]
  },
  {
   "cell_type": "markdown",
   "metadata": {},
   "source": [
    "### Classe Counter\n",
    "Para escrever um programa para calcular o modo(mode), precisamos que o Python conte quantas vezes cada número ocorra em uma lista e imprima o que ocorrer com mais frequência. A classe __`Counter`__ do módulo de colletions, que faz parte da biblioteca padrão, torna isso realmente simples para nós."
   ]
  },
  {
   "cell_type": "markdown",
   "metadata": {},
   "source": [
    "__Encontrando o elemento mais comum__"
   ]
  },
  {
   "cell_type": "code",
   "execution_count": 12,
   "metadata": {},
   "outputs": [],
   "source": [
    "# Importa a classe Counter do módulo collections.\n",
    "from collections import Counter"
   ]
  },
  {
   "cell_type": "code",
   "execution_count": 13,
   "metadata": {},
   "outputs": [],
   "source": [
    "# Cria uma lista simples.\n",
    "simplelist = [4, 2, 1, 3, 4]"
   ]
  },
  {
   "cell_type": "code",
   "execution_count": 14,
   "metadata": {},
   "outputs": [],
   "source": [
    "# [Conte quantas vezes cada elemento aparece na lista]\n",
    "# Ou seja, a classe \"Counter\" pega cada elemento dado\n",
    "# em uma lista e informa quantas vezes cada um aparece.\n",
    "c = Counter(simplelist)"
   ]
  },
  {
   "cell_type": "code",
   "execution_count": 15,
   "metadata": {},
   "outputs": [
    {
     "data": {
      "text/plain": [
       "Counter({1: 1, 2: 1, 3: 1, 4: 2})"
      ]
     },
     "execution_count": 15,
     "metadata": {},
     "output_type": "execute_result"
    }
   ],
   "source": [
    "# Exibe quantas vezes cada número aparece na lista.\n",
    "c"
   ]
  },
  {
   "cell_type": "markdown",
   "metadata": {},
   "source": [
    "### função most_common()\n",
    "A função __most_common()__ exibe em uma lista ordenada com os elementos que aparecem com mais frequência."
   ]
  },
  {
   "cell_type": "code",
   "execution_count": 16,
   "metadata": {},
   "outputs": [
    {
     "data": {
      "text/plain": [
       "[(4, 2), (1, 1), (2, 1), (3, 1)]"
      ]
     },
     "execution_count": 16,
     "metadata": {},
     "output_type": "execute_result"
    }
   ],
   "source": [
    "# Exibe os elementos/dados que aparecem com mais frequência.\n",
    "c.most_common()"
   ]
  },
  {
   "cell_type": "markdown",
   "metadata": {},
   "source": [
    "__NOTE:__  \n",
    "Você pode passar como argumento para o método __most_common()__, quais os mais comuns você quer visualizar como retorno."
   ]
  },
  {
   "cell_type": "code",
   "execution_count": 17,
   "metadata": {},
   "outputs": [
    {
     "data": {
      "text/plain": [
       "[(4, 2)]"
      ]
     },
     "execution_count": 17,
     "metadata": {},
     "output_type": "execute_result"
    }
   ],
   "source": [
    "# Retorna o primeiro elemento mais comum.\n",
    "c.most_common(1)"
   ]
  },
  {
   "cell_type": "code",
   "execution_count": 18,
   "metadata": {},
   "outputs": [
    {
     "data": {
      "text/plain": [
       "[(4, 2), (1, 1)]"
      ]
     },
     "execution_count": 18,
     "metadata": {},
     "output_type": "execute_result"
    }
   ],
   "source": [
    "# Retorna os dois primeiros elementos mais comuns\n",
    "c.most_common(2)"
   ]
  },
  {
   "cell_type": "code",
   "execution_count": 19,
   "metadata": {},
   "outputs": [
    {
     "data": {
      "text/plain": [
       "[(4, 2), (1, 1), (2, 1)]"
      ]
     },
     "execution_count": 19,
     "metadata": {},
     "output_type": "execute_result"
    }
   ],
   "source": [
    "# Retorna os três primeiros elementos mais comuns.\n",
    "c.most_common(3)"
   ]
  },
  {
   "cell_type": "markdown",
   "metadata": {},
   "source": [
    "### Encontrando o modo(mode)"
   ]
  },
  {
   "cell_type": "markdown",
   "metadata": {},
   "source": [
    "A função __most_common()__ retorna ambos:  \n",
    "  \n",
    " - O número mais comum;  \n",
    " - O número de vez que ele aparece.  \n",
    "  \n",
    "E se queremos apenas os números e não nos importamos com o número de vezes que eles ocorrem? Veja como podemos recuperar essa informação:"
   ]
  },
  {
   "cell_type": "code",
   "execution_count": 20,
   "metadata": {},
   "outputs": [],
   "source": [
    "# Pega o primeiro elemento que ocorre com mais frequência\n",
    "# e quantas vezes ele ocorre.\n",
    "mode = c.most_common(1)"
   ]
  },
  {
   "cell_type": "code",
   "execution_count": 21,
   "metadata": {},
   "outputs": [
    {
     "data": {
      "text/plain": [
       "[(4, 2)]"
      ]
     },
     "execution_count": 21,
     "metadata": {},
     "output_type": "execute_result"
    }
   ],
   "source": [
    "# Exibe o número mais frequente e quantas vezes ele aparece.\n",
    "mode"
   ]
  },
  {
   "cell_type": "code",
   "execution_count": 22,
   "metadata": {},
   "outputs": [
    {
     "data": {
      "text/plain": [
       "4"
      ]
     },
     "execution_count": 22,
     "metadata": {},
     "output_type": "execute_result"
    }
   ],
   "source": [
    "# Exibe apenas o elemento mais comum a partir do índice.\n",
    "mode[0][0]"
   ]
  },
  {
   "cell_type": "markdown",
   "metadata": {},
   "source": [
    "### Encontrando o modo(mode)"
   ]
  },
  {
   "cell_type": "code",
   "execution_count": 23,
   "metadata": {},
   "outputs": [
    {
     "name": "stdout",
     "output_type": "stream",
     "text": [
      "O modo(mode) da lista de notas é: 9\n"
     ]
    }
   ],
   "source": [
    "'''\n",
    "Calculando o Modo(mode).\n",
    "'''\n",
    "# Importa a classe Counte do módulo collections.\n",
    "from collections import Counter\n",
    "\n",
    "# Função para calcular o modo(mode).\n",
    "def calculate_mode(items):\n",
    "    \n",
    "    c = Counter(items) # Conta quantas vezes cada elemento aparece.\n",
    "    mode = c.most_common(1) # Pega o primeiro elemento mais comum e quantas vezes ele aparece.\n",
    "    return mode[0][0] # Retorna apenas o elemento mais comum, por índice.\n",
    "\n",
    "if __name__=='__main__':\n",
    "    \n",
    "    # Cria uma lista para representar as notas dos estudantes.\n",
    "    scores = [7, 8, 9, 2, 10, 9, 9, 9, 9, 4, 5, 6, 1, 5, 6, 7, 8, 6, 1, 10]\n",
    "    \n",
    "    # Calcula o modo(mode) com a função calculate_mode().\n",
    "    mode = calculate_mode(scores)\n",
    "    \n",
    "    # Imprime o resultado do modo(mode).\n",
    "    print('O modo(mode) da lista de notas é: {0}'.format(mode))"
   ]
  },
  {
   "cell_type": "markdown",
   "metadata": {},
   "source": [
    "# 04. Encontrando o range de um conjunto de números\n",
    "\n",
    "Para uma lista de números/dados:  \n",
    "\n",
    "> o intervalo(range) é a diferença entre o número mais alto e o menor.  \n",
    "  \n",
    "Você pode ter dois grupos de números com exatamente a mesma média, mas com intervalos muito diferentes, portanto, saber o intervalo preenche mais informações sobre um conjunto de números além do que podemos aprender apenas olhando para a __média(mean)__, __mediana(median)__ e __modo(mode)__.  \n",
    "  \n",
    "O próximo programa encontra o intervalo(range) da lista anterior de doações:  "
   ]
  },
  {
   "cell_type": "code",
   "execution_count": 24,
   "metadata": {},
   "outputs": [
    {
     "name": "stdout",
     "output_type": "stream",
     "text": [
      "Menor doação: 60 | Maior doação: 1200 | Intervalo(range): 1140\n"
     ]
    }
   ],
   "source": [
    "'''\n",
    "Encontra o intervalo(range)\n",
    "'''\n",
    "\n",
    "# Função para encontrar o intervalo(range)\n",
    "# de um conjunto de dados.\n",
    "def find_range(numbers):\n",
    "    \n",
    "    \n",
    "    lowest = min(numbers) # Pega o menor número da lista.\n",
    "    highest = max(numbers) # Pega o maior número da lista.\n",
    "\n",
    "    # Encontra o intervalo(range) e salva na variável \"r\".\n",
    "    r = highest-lowest\n",
    "    \n",
    "    # Retorna:\n",
    "    # - O menor elemento da lista = lowest;\n",
    "    # - O maior elemento da lista = highest;\n",
    "    # - O intervalo(range) = r.\n",
    "    return lowest, highest, r\n",
    "\n",
    "if __name__ == '__main__':\n",
    "    \n",
    "    # Cria uma lista para representar doações.\n",
    "    donations = [100, 60, 70, 900, 100, 200, 500, 500, 503, 600, 1000, 1200]\n",
    "    \n",
    "    # Pega a menor doação, a maior doação e o intervalo(range) com a função\n",
    "    # find_range(), e salva nas variáveis: lowest, highest, r respectivamente.\n",
    "    lowest, highest, r = find_range(donations)\n",
    "    \n",
    "    # Imprime a menor doação, a maior doação e o intervalo(range) das doações.\n",
    "    print('Menor doação: {0} | Maior doação: {1} | Intervalo(range): {2}'.format(lowest, highest, r))"
   ]
  }
 ],
 "metadata": {
  "kernelspec": {
   "display_name": "Python 3",
   "language": "python",
   "name": "python3"
  },
  "language_info": {
   "codemirror_mode": {
    "name": "ipython",
    "version": 3
   },
   "file_extension": ".py",
   "mimetype": "text/x-python",
   "name": "python",
   "nbconvert_exporter": "python",
   "pygments_lexer": "ipython3",
   "version": "3.4.2"
  }
 },
 "nbformat": 4,
 "nbformat_minor": 2
}
