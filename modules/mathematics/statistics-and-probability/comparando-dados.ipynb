{
 "cells": [
  {
   "cell_type": "markdown",
   "metadata": {},
   "source": [
    "# Comparando dados\n",
    "Com frequência, você deseja comparar dados em seu conjunto de dados para ver se consegue discernir tendências ou relacionamentos."
   ]
  },
  {
   "cell_type": "markdown",
   "metadata": {},
   "source": [
    "# 01. Dados univariados "
   ]
  },
  {
   "cell_type": "markdown",
   "metadata": {},
   "source": [
    "`Dados univariados` são dados que consistem em __apenas uma variável__ ou __recurso__. Embora possa parecer inicialmente que não há muito que possamos fazer para analisar dados univariados, já vimos que podemos explorar sua distribuição em termos de medidas de tendência central e medidas de variância. Também vimos como podemos visualizar essa distribuição usando histogramas e box plots.  \n",
    "  \n",
    "Aqui está um lembrete de como você pode visualizar a distribuição de dados univariados, usando nossos dados de notas de alunos com algumas observações adicionais na amostra:"
   ]
  },
  {
   "cell_type": "code",
   "execution_count": 1,
   "metadata": {},
   "outputs": [
    {
     "data": {
      "image/png": "[encoded data removed]",
      "text/plain": [
       "<Figure size 432x288 with 1 Axes>"
      ]
     },
     "metadata": {},
     "output_type": "display_data"
    },
    {
     "data": {
      "image/png": "[encoded data removed]",
      "text/plain": [
       "<Figure size 432x288 with 1 Axes>"
      ]
     },
     "metadata": {},
     "output_type": "display_data"
    },
    {
     "name": "stdout",
     "output_type": "stream",
     "text": [
      "           Grade\n",
      "count  15.000000\n",
      "mean   51.533333\n",
      "std    24.642781\n",
      "min     5.000000\n",
      "25%    41.000000\n",
      "50%    50.000000\n",
      "75%    66.000000\n",
      "max    95.000000\n",
      "median: 50.0\n"
     ]
    }
   ],
   "source": [
    "%matplotlib inline\n",
    "import pandas as pd\n",
    "from matplotlib import pyplot as plt\n",
    "\n",
    "df = pd.DataFrame({'Name': ['Dan', 'Joann', 'Pedro', 'Rosie', 'Ethan', 'Vicky', 'Frederic', 'Jimmie', 'Rhonda', 'Giovanni', 'Francesca', 'Rajab', 'Naiyana', 'Kian', 'Jenny'],\n",
    "                   'Grade':[50,50,46,95,50,5,57,42,26,72,78,60,40,17,85]})\n",
    "\n",
    "# Cria um gráfico de caixa/box plot.\n",
    "plt.figure()\n",
    "df['Grade'].plot( kind='box', title='Grade Distribution')\n",
    "\n",
    "# Cria um histograma.\n",
    "plt.figure()\n",
    "df['Grade'].hist(bins=9)\n",
    "\n",
    "plt.show() # Exibe o plotgráfico/.\n",
    "print(df.describe())\n",
    "print('median: ' + str(df['Grade'].median()))"
   ]
  },
  {
   "cell_type": "markdown",
   "metadata": {},
   "source": [
    "# 2. Dados Bivariados e Multivariados"
   ]
  },
  {
   "cell_type": "markdown",
   "metadata": {},
   "source": [
    "Muitas vezes, pode ser útil comparar dados bivariados; __em outras palavras, compare duas variáveis, ou até mais__ (nesse caso, chamamos de dados multivariados).  \n",
    "  \n",
    "Por exemplo, os dados dos nossos alunos incluem três variáveis numéricas para cada aluno:  \n",
    "  \n",
    " - O salário;  \n",
    " - O número de horas de trabalho por semana;  \n",
    " - E a nota final da escola.  \n",
    "  \n",
    "Veja a seguir o código para visualizar esse exemplo em uma tabela/DataFrame:"
   ]
  },
  {
   "cell_type": "code",
   "execution_count": 2,
   "metadata": {},
   "outputs": [
    {
     "data": {
      "text/html": [
       "<div>\n",
       "<style scoped>\n",
       "    .dataframe tbody tr th:only-of-type {\n",
       "        vertical-align: middle;\n",
       "    }\n",
       "\n",
       "    .dataframe tbody tr th {\n",
       "        vertical-align: top;\n",
       "    }\n",
       "\n",
       "    .dataframe thead th {\n",
       "        text-align: right;\n",
       "    }\n",
       "</style>\n",
       "<table border=\"1\" class=\"dataframe\">\n",
       "  <thead>\n",
       "    <tr style=\"text-align: right;\">\n",
       "      <th></th>\n",
       "      <th>Name</th>\n",
       "      <th>Salary</th>\n",
       "      <th>Hours</th>\n",
       "      <th>Grade</th>\n",
       "    </tr>\n",
       "  </thead>\n",
       "  <tbody>\n",
       "    <tr>\n",
       "      <th>0</th>\n",
       "      <td>Dan</td>\n",
       "      <td>50000</td>\n",
       "      <td>41</td>\n",
       "      <td>50</td>\n",
       "    </tr>\n",
       "    <tr>\n",
       "      <th>1</th>\n",
       "      <td>Joann</td>\n",
       "      <td>54000</td>\n",
       "      <td>40</td>\n",
       "      <td>50</td>\n",
       "    </tr>\n",
       "    <tr>\n",
       "      <th>2</th>\n",
       "      <td>Pedro</td>\n",
       "      <td>50000</td>\n",
       "      <td>36</td>\n",
       "      <td>46</td>\n",
       "    </tr>\n",
       "    <tr>\n",
       "      <th>3</th>\n",
       "      <td>Rosie</td>\n",
       "      <td>189000</td>\n",
       "      <td>17</td>\n",
       "      <td>95</td>\n",
       "    </tr>\n",
       "    <tr>\n",
       "      <th>4</th>\n",
       "      <td>Ethan</td>\n",
       "      <td>55000</td>\n",
       "      <td>35</td>\n",
       "      <td>50</td>\n",
       "    </tr>\n",
       "    <tr>\n",
       "      <th>5</th>\n",
       "      <td>Vicky</td>\n",
       "      <td>40000</td>\n",
       "      <td>39</td>\n",
       "      <td>5</td>\n",
       "    </tr>\n",
       "    <tr>\n",
       "      <th>6</th>\n",
       "      <td>Frederic</td>\n",
       "      <td>59000</td>\n",
       "      <td>40</td>\n",
       "      <td>57</td>\n",
       "    </tr>\n",
       "    <tr>\n",
       "      <th>7</th>\n",
       "      <td>Jimmie</td>\n",
       "      <td>42000</td>\n",
       "      <td>45</td>\n",
       "      <td>42</td>\n",
       "    </tr>\n",
       "    <tr>\n",
       "      <th>8</th>\n",
       "      <td>Rhonda</td>\n",
       "      <td>47000</td>\n",
       "      <td>41</td>\n",
       "      <td>26</td>\n",
       "    </tr>\n",
       "    <tr>\n",
       "      <th>9</th>\n",
       "      <td>Giovanni</td>\n",
       "      <td>78000</td>\n",
       "      <td>35</td>\n",
       "      <td>72</td>\n",
       "    </tr>\n",
       "    <tr>\n",
       "      <th>10</th>\n",
       "      <td>Francesca</td>\n",
       "      <td>119000</td>\n",
       "      <td>30</td>\n",
       "      <td>78</td>\n",
       "    </tr>\n",
       "    <tr>\n",
       "      <th>11</th>\n",
       "      <td>Rajab</td>\n",
       "      <td>95000</td>\n",
       "      <td>33</td>\n",
       "      <td>60</td>\n",
       "    </tr>\n",
       "    <tr>\n",
       "      <th>12</th>\n",
       "      <td>Naiyana</td>\n",
       "      <td>49000</td>\n",
       "      <td>38</td>\n",
       "      <td>40</td>\n",
       "    </tr>\n",
       "    <tr>\n",
       "      <th>13</th>\n",
       "      <td>Kian</td>\n",
       "      <td>29000</td>\n",
       "      <td>47</td>\n",
       "      <td>17</td>\n",
       "    </tr>\n",
       "    <tr>\n",
       "      <th>14</th>\n",
       "      <td>Jenny</td>\n",
       "      <td>130000</td>\n",
       "      <td>24</td>\n",
       "      <td>85</td>\n",
       "    </tr>\n",
       "  </tbody>\n",
       "</table>\n",
       "</div>"
      ],
      "text/plain": [
       "         Name  Salary  Hours  Grade\n",
       "0         Dan   50000     41     50\n",
       "1       Joann   54000     40     50\n",
       "2       Pedro   50000     36     46\n",
       "3       Rosie  189000     17     95\n",
       "4       Ethan   55000     35     50\n",
       "5       Vicky   40000     39      5\n",
       "6    Frederic   59000     40     57\n",
       "7      Jimmie   42000     45     42\n",
       "8      Rhonda   47000     41     26\n",
       "9    Giovanni   78000     35     72\n",
       "10  Francesca  119000     30     78\n",
       "11      Rajab   95000     33     60\n",
       "12    Naiyana   49000     38     40\n",
       "13       Kian   29000     47     17\n",
       "14      Jenny  130000     24     85"
      ]
     },
     "execution_count": 2,
     "metadata": {},
     "output_type": "execute_result"
    }
   ],
   "source": [
    "import pandas as pd\n",
    "\n",
    "df = pd.DataFrame({'Name': ['Dan', 'Joann', 'Pedro', 'Rosie', 'Ethan', 'Vicky', 'Frederic', 'Jimmie', 'Rhonda', 'Giovanni', 'Francesca', 'Rajab', 'Naiyana', 'Kian', 'Jenny'],\n",
    "                   'Salary':[50000,54000,50000,189000,55000,40000,59000,42000,47000,78000,119000,95000,49000,29000,130000],\n",
    "                   'Hours':[41,40,36,17,35,39,40,45,41,35,30,33,38,47,24],\n",
    "                   'Grade':[50,50,46,95,50,5,57,42,26,72,78,60,40,17,85]})\n",
    "\n",
    "df[['Name', 'Salary', 'Hours', 'Grade']]"
   ]
  },
  {
   "cell_type": "markdown",
   "metadata": {},
   "source": [
    "__NOTE:__  \n",
    "Vamos supor que você queira comparar as distribuições dessas variáveis. Você pode simplesmente criar um boxplot para cada variável, assim:"
   ]
  },
  {
   "cell_type": "code",
   "execution_count": 3,
   "metadata": {},
   "outputs": [
    {
     "data": {
      "image/png": "[encoded data removed]",
      "text/plain": [
       "<Figure size 720x576 with 1 Axes>"
      ]
     },
     "metadata": {},
     "output_type": "display_data"
    }
   ],
   "source": [
    "%matplotlib inline\n",
    "import pandas as pd\n",
    "from matplotlib import pyplot as plt\n",
    "\n",
    "df = pd.DataFrame({'Name': ['Dan', 'Joann', 'Pedro', 'Rosie', 'Ethan', 'Vicky', 'Frederic', 'Jimmie', 'Rhonda', 'Giovanni', 'Francesca', 'Rajab', 'Naiyana', 'Kian', 'Jenny'],\n",
    "                   'Salary':[50000,54000,50000,189000,55000,40000,59000,42000,47000,78000,119000,95000,49000,29000,130000],\n",
    "                   'Hours':[41,40,36,17,35,39,40,45,41,35,30,33,38,47,24],\n",
    "                   'Grade':[50,50,46,95,50,5,57,42,26,72,78,60,40,17,85]})\n",
    "\n",
    "\n",
    "# Cria um gráfico de caixa/box plot.\n",
    "df.plot(kind='box', title='Distribution', figsize = (10,8))\n",
    "plt.show()"
   ]
  },
  {
   "cell_type": "markdown",
   "metadata": {},
   "source": [
    "Hmm, isso não é particularmente útil, é?\n",
    "\n",
    "O problema é que os dados são todos medidos em diferentes escalas. Os salários são tipicamente em dezenas de milhares, enquanto as horas e as notas são em dígitos simples ou duplos."
   ]
  },
  {
   "cell_type": "markdown",
   "metadata": {},
   "source": [
    "# 3. Normalizando dados\n",
    "Quando você precisa comparar dados em diferentes unidades de medida, é possível normalizar ou dimensionar os dados para que os valores sejam medidos na mesma escala proporcional.  \n",
    "  \n",
    "Por exemplo, no Python, você pode usar um redimensionador __MinMax__ para normalizar várias variáveis numéricas para um valor proporcional entre 0 e 1, com base em seus valores mínimo e máximo.  \n",
    "  \n",
    "Veja o código a seguir:"
   ]
  },
  {
   "cell_type": "code",
   "execution_count": 5,
   "metadata": {},
   "outputs": [
    {
     "data": {
      "image/png": "[encoded data removed]",
      "text/plain": [
       "<Figure size 720x576 with 1 Axes>"
      ]
     },
     "metadata": {},
     "output_type": "display_data"
    }
   ],
   "source": [
    "%matplotlib inline\n",
    "import pandas as pd\n",
    "from matplotlib import pyplot as plt\n",
    "\n",
    " # Importa a objeto MinMaxScale da biblioteca Scikit-Learn.\n",
    "from sklearn.preprocessing import MinMaxScaler\n",
    "\n",
    "df = pd.DataFrame({'Name': ['Dan', 'Joann', 'Pedro', 'Rosie', 'Ethan', 'Vicky', 'Frederic', 'Jimmie', 'Rhonda', 'Giovanni', 'Francesca', 'Rajab', 'Naiyana', 'Kian', 'Jenny'],\n",
    "                   'Salary':[50000,54000,50000,189000,55000,40000,59000,42000,47000,78000,119000,95000,49000,29000,130000],\n",
    "                   'Hours':[41,40,36,17,35,39,40,45,41,35,30,33,38,47,24],\n",
    "                   'Grade':[50,50,46,95,50,5,57,42,26,72,78,60,40,17,85]})\n",
    "\n",
    "# Cria uma instância do objeto MinMaxScaler()\n",
    "scaler = MinMaxScaler()\n",
    "# Normaliza od dados com o método fit_transform().\n",
    "df[['Salary', 'Hours', 'Grade']] = scaler.fit_transform(df[['Salary', 'Hours', 'Grade']])\n",
    "\n",
    "# Cria o plot/gráfico para exibir os dados normalizados.\n",
    "df.plot(kind='box', title='Distribution', figsize = (10,8))\n",
    "plt.show()"
   ]
  },
  {
   "cell_type": "markdown",
   "metadata": {},
   "source": [
    "Agora os números no eixo y não são particularmente significativos, mas estão em uma escala similar."
   ]
  },
  {
   "cell_type": "markdown",
   "metadata": {},
   "source": [
    "# 4. Comparando Dados Bivariados com um Gráfico de Dispersão (Scatter Plot)"
   ]
  },
  {
   "cell_type": "markdown",
   "metadata": {},
   "source": [
    "Quando você precisa comparar dois valores numéricos, um gráfico de dispersão pode ser uma ótima maneira de ver se existe alguma relação aparente entre eles, de modo que as alterações no valor de uma variável afetem o valor da outra.  \n",
    "  \n",
    "__NOTE:__  \n",
    "Vamos dar uma olhada em um gráfico de dispersão de salário e notas:"
   ]
  },
  {
   "cell_type": "code",
   "execution_count": 6,
   "metadata": {},
   "outputs": [
    {
     "data": {
      "image/png": "[encoded data removed]",
      "text/plain": [
       "<Figure size 432x288 with 1 Axes>"
      ]
     },
     "metadata": {},
     "output_type": "display_data"
    }
   ],
   "source": [
    "%matplotlib inline\n",
    "import pandas as pd\n",
    "from matplotlib import pyplot as plt\n",
    "\n",
    "df = pd.DataFrame({'Name': ['Dan', 'Joann', 'Pedro', 'Rosie', 'Ethan', 'Vicky', 'Frederic', 'Jimmie', 'Rhonda', 'Giovanni', 'Francesca', 'Rajab', 'Naiyana', 'Kian', 'Jenny'],\n",
    "                   'Salary':[50000,54000,50000,189000,55000,40000,59000,42000,47000,78000,119000,95000,49000,29000,130000],\n",
    "                   'Hours':[41,40,36,17,35,39,40,45,41,35,30,33,38,47,24],\n",
    "                   'Grade':[50,50,46,95,50,5,57,42,26,72,78,60,40,17,85]})\n",
    "\n",
    "# Cria um gráfico de dispersão/Scatter Plot para comparar as Notas e os Salários.\n",
    "df.plot(kind='scatter', title='Grade vs Salary', x='Grade', y='Salary')\n",
    "plt.show()"
   ]
  },
  {
   "cell_type": "markdown",
   "metadata": {},
   "source": [
    "Observe atentamente o gráfico de dispersão. Você consegue ver uma tendência diagonal nos pontos marcados, subindo para a direita? Parece que quanto maior a nota do aluno, maior é o salário.  \n",
    "  \n",
    "__NOTE:__  \n",
    "Você pode ver a tendência mais claramente adicionando uma linha de melhor ajuste (às vezes chamada de linha de tendência) à plotagem:"
   ]
  },
  {
   "cell_type": "code",
   "execution_count": 7,
   "metadata": {},
   "outputs": [
    {
     "data": {
      "image/png": "[encoded data removed]",
      "text/plain": [
       "<Figure size 432x288 with 1 Axes>"
      ]
     },
     "metadata": {},
     "output_type": "display_data"
    }
   ],
   "source": [
    "%matplotlib inline\n",
    "import pandas as pd\n",
    "import numpy as np\n",
    "from matplotlib import pyplot as plt\n",
    "\n",
    "df = pd.DataFrame({'Name': ['Dan', 'Joann', 'Pedro', 'Rosie', 'Ethan', 'Vicky', 'Frederic', 'Jimmie', 'Rhonda', 'Giovanni', 'Francesca', 'Rajab', 'Naiyana', 'Kian', 'Jenny'],\n",
    "                   'Salary':[50000,54000,50000,189000,55000,40000,59000,42000,47000,78000,119000,95000,49000,29000,130000],\n",
    "                   'Hours':[41,40,36,17,35,39,40,45,41,35,30,33,38,47,24],\n",
    "                   'Grade':[50,50,46,95,50,5,57,42,26,72,78,60,40,17,85]})\n",
    "\n",
    "# Cria um gráfico de dispersão/Scatter Plot para comparar as Notas e os Salários.\n",
    "df.plot(kind='scatter', title='Grade vs Salary', x='Grade', y='Salary')\n",
    "\n",
    "# Adicione uma linha de melhor ajuste no plot/gráfico\n",
    "plt.plot(np.unique(df['Grade']), np.poly1d(np.polyfit(df['Grade'], df['Salary'], 1))(np.unique(df['Grade'])))\n",
    "\n",
    "plt.show()"
   ]
  },
  {
   "cell_type": "markdown",
   "metadata": {},
   "source": [
    "A linha de melhor ajuste torna mais claro que há alguma colinearidade aparente entre essas variáveis ​​(a relação é colinear se o valor de uma variável aumenta ou diminui em linha com a outra)."
   ]
  },
  {
   "cell_type": "markdown",
   "metadata": {},
   "source": [
    "# 5. Correlação"
   ]
  },
  {
   "cell_type": "markdown",
   "metadata": {},
   "source": [
    "A relação aparentemente colinear que você viu no gráfico de dispersão pode ser verificada pelo cálculo de uma estatística que quantifica a relação entre as duas variáveis. A estatística geralmente usada para fazer isso é a correlação , embora também haja uma estatística chamada covariância às vezes usada. Correlação é geralmente preferida porque o valor que ela produz é mais facilmente interpretado.  \n",
    "  \n",
    "Um valor de correlação é sempre um número entre __-1__ e __1__.  \n",
    "  \n",
    " - Um valor positivo indica uma correlação positiva (conforme o valor da variável x aumenta, o mesmo acontece com o valor da variável y);  \n",
    " - Um valor negativo indica uma correlação negativa (conforme o valor da variável x aumenta, o valor da variável y diminui);  \n",
    " - Quanto mais próximo de zero o valor de correlação é, mais fraca é a correlação entre x e y;  \n",
    " - Uma correlação de exatamente zero significa que não há relação aparente entre as variáveis.  \n",
    "  \n",
    "A fórmula para calcular a correlação é:  \n",
    "  \n",
    "\\begin{equation}r_{x,y} = \\frac{\\displaystyle\\sum_{i=1}^{n} (x_{i} -\\bar{x})(y_{i} -\\bar{y})}{\\sqrt{\\displaystyle\\sum_{i=1}^{n} (x_{i} -\\bar{x})^{2}(y_{i} -\\bar{y})^{2}}}\\end{equation}  \n",
    "  \n",
    "**r<sub>x, y</sub>** é a notação para a correlação entre __x__ e __y__.  \n",
    "  \n",
    "A fórmula é bastante complexa, mas, felizmente, o Python torna muito fácil calcular a correlação usando a função __corr()__: "
   ]
  },
  {
   "cell_type": "code",
   "execution_count": 8,
   "metadata": {},
   "outputs": [
    {
     "name": "stdout",
     "output_type": "stream",
     "text": [
      "0.8149286388911882\n"
     ]
    }
   ],
   "source": [
    "import pandas as pd\n",
    "\n",
    "df = pd.DataFrame({'Name': ['Dan', 'Joann', 'Pedro', 'Rosie', 'Ethan', 'Vicky', 'Frederic'],\n",
    "                   'Salary':[50000,54000,50000,189000,55000,40000,59000],\n",
    "                   'Hours':[41,40,36,17,35,39,40],\n",
    "                   'Grade':[50,50,46,95,50,5,57]})\n",
    "\n",
    "# Tira a correlação entre as Notas e os Salários dos alunos.\n",
    "print(df['Grade'].corr(df['Salary']))"
   ]
  },
  {
   "cell_type": "markdown",
   "metadata": {},
   "source": [
    "Nesse caso, a correlação é de pouco mais de 0,8; tornando-se uma correlação positiva razoavelmente alta que indica aumentos salariais de acordo com o notas.  \n",
    "  \n",
    "__NOTE:__  \n",
    "Vamos ver se podemos encontrar uma correlação entre __notas__ e __horas trabalhadas por semana__:"
   ]
  },
  {
   "cell_type": "code",
   "execution_count": 9,
   "metadata": {},
   "outputs": [
    {
     "name": "stdout",
     "output_type": "stream",
     "text": [
      "Correlation: -0.8109119058459785\n"
     ]
    },
    {
     "data": {
      "image/png": "[encoded data removed]",
      "text/plain": [
       "<Figure size 432x288 with 1 Axes>"
      ]
     },
     "metadata": {},
     "output_type": "display_data"
    }
   ],
   "source": [
    "%matplotlib inline\n",
    "import pandas as pd\n",
    "import numpy as np\n",
    "from matplotlib import pyplot as plt\n",
    "\n",
    "df = pd.DataFrame({'Name': ['Dan', 'Joann', 'Pedro', 'Rosie', 'Ethan', 'Vicky', 'Frederic', 'Jimmie', 'Rhonda', 'Giovanni', 'Francesca', 'Rajab', 'Naiyana', 'Kian', 'Jenny'],\n",
    "                   'Salary':[50000,54000,50000,189000,55000,40000,59000,42000,47000,78000,119000,95000,49000,29000,130000],\n",
    "                   'Hours':[41,40,36,17,35,39,40,45,41,35,30,33,38,47,24],\n",
    "                   'Grade':[50,50,46,95,50,5,57,42,26,72,78,60,40,17,85]})\n",
    "\n",
    "r = df['Grade'].corr(df['Hours']) # Tira a correção entre as Notas e as Horas trabalhadas por semana.\n",
    "print('Correlation: ' + str(r)) # Imprime a correlação tirada.\n",
    "\n",
    "# Cria um gráfico de dispersão/Scatter Plot para comparar as Notas e Horas trabalhadas por semana.\n",
    "df.plot(kind='scatter', title='Grade vs Hours', x='Grade', y='Hours')\n",
    "\n",
    "# Adicione uma linha de melhor ajuste no plot/gráfico\n",
    "plt.plot(np.unique(df['Grade']), np.poly1d(np.polyfit(df['Grade'], df['Hours'], 1))(np.unique(df['Grade'])))\n",
    "plt.show()"
   ]
  },
  {
   "cell_type": "markdown",
   "metadata": {},
   "source": [
    "Nesse caso, o valor de correlação está abaixo de -0,8; significando uma correlação negativa bastante forte na qual o número de horas trabalhadas diminui à medida que a nota aumenta. A linha de melhor ajuste no gráfico de dispersão corrobora essa estatística.  \n",
    "  \n",
    "É importante lembrar que a correlação não é causação. Em outras palavras, mesmo que haja um relacionamento aparente, você não pode dizer com certeza que uma variável é a causa da outra. Neste exemplo, podemos dizer:  \n",
    "\n",
    " - Que os alunos que alcançaram notas mais altas tendem a trabalhar menos horas;  \n",
    " - Mas __não podemos dizer__ que aqueles que trabalham menos tempo fazem isso porque alcançaram uma nota alta!"
   ]
  }
 ],
 "metadata": {
  "kernelspec": {
   "display_name": "Python 3",
   "language": "python",
   "name": "python3"
  },
  "language_info": {
   "codemirror_mode": {
    "name": "ipython",
    "version": 3
   },
   "file_extension": ".py",
   "mimetype": "text/x-python",
   "name": "python",
   "nbconvert_exporter": "python",
   "pygments_lexer": "ipython3",
   "version": "3.4.2"
  }
 },
 "nbformat": 4,
 "nbformat_minor": 2
}
